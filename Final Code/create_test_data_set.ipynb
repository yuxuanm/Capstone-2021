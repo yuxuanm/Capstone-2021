{
 "cells": [
  {
   "cell_type": "code",
   "execution_count": 4,
   "id": "78ff004a",
   "metadata": {},
   "outputs": [],
   "source": [
    "import xarray as xr\n",
    "import numpy as np\n",
    "file_path =['./data/test/ocean_an00_2021050712_eta.nc']\n",
    "data = xr.open_mfdataset(file_path)"
   ]
  },
  {
   "cell_type": "code",
   "execution_count": 5,
   "id": "f94ff5b7",
   "metadata": {},
   "outputs": [
    {
     "data": {
      "text/plain": [
       "(1500, 3600)"
      ]
     },
     "execution_count": 5,
     "metadata": {},
     "output_type": "execute_result"
    }
   ],
   "source": [
    "eta_t = data['eta_t'].to_numpy()\n",
    "eta_t = np.squeeze(eta_t)\n",
    "eta_t.shape"
   ]
  },
  {
   "cell_type": "code",
   "execution_count": 6,
   "id": "70f3517f",
   "metadata": {},
   "outputs": [],
   "source": [
    "lat = 128 # chunk size 256,512\n",
    "long = 128 # chunk size 256,512\n",
    "def split_array(input_data, lat, long,region):\n",
    "    \"\"\"\n",
    "    Split the whole 3600*1500 array into smaller chunks.\n",
    "    Padding with zeros to make the array be divisible by chunk size.\n",
    "    \n",
    "    Args:\n",
    "        input_data: data of a single day from a eta_t instance\n",
    "        lat: chunk size\n",
    "        long: chunk size\n",
    "    \"\"\"\n",
    "    pad_cols = math.ceil(3600/long)*long - 3600 # number of zero columns adding to the right\n",
    "    pad_rows = math.ceil(1500/lat)*lat - 1500 # number of zero rows adding to the bottom\n",
    "    \n",
    "\n",
    "    input_data=np.pad(input_data,((0,pad_rows),(0,pad_cols)), 'constant',constant_values=(0,0)) # padding with zeros, right & bottom\n",
    "    \n",
    "    l = np.array_split(input_data,len(input_data)/lat,axis=0)\n",
    "    input_data_split = []\n",
    "    for i in range(len(l)):\n",
    "        dd = np.array_split(l[i],len(input_data[0])/long,axis=1)\n",
    "        input_data_split += dd\n",
    "    input_data_split = np.array(input_data_split)\n",
    "    return input_data_split[region]"
   ]
  },
  {
   "cell_type": "code",
   "execution_count": 7,
   "id": "804c8bba",
   "metadata": {},
   "outputs": [],
   "source": [
    "import os\n",
    "import math\n",
    "import numpy as np\n",
    "\n",
    "\n",
    "number_of_regions = 348 if lat==128 else 90\n",
    "\n",
    "for r in range(number_of_regions):\n",
    "    path_prefix = './test instance/size '+ str(lat) +'/'\n",
    "    folder = 'dataset_' + str(r)\n",
    "    path = path_prefix + folder\n",
    "#                 print(path)\n",
    "    if not os.path.exists(path):\n",
    "        os.makedirs(path)\n",
    "#     print(eta_t.shape)\n",
    "    inputs = split_array(eta_t,lat,long,r)\n",
    "    inputsx = np.expand_dims(inputs,axis=2)\n",
    "    file_name = path +'/2021_05_07.npy'\n",
    "#                 print(file_name)\n",
    "    np.save(file_name,inputsx) "
   ]
  }
 ],
 "metadata": {
  "kernelspec": {
   "display_name": "Python 3 (ipykernel)",
   "language": "python",
   "name": "python3"
  },
  "language_info": {
   "codemirror_mode": {
    "name": "ipython",
    "version": 3
   },
   "file_extension": ".py",
   "mimetype": "text/x-python",
   "name": "python",
   "nbconvert_exporter": "python",
   "pygments_lexer": "ipython3",
   "version": "3.8.4"
  }
 },
 "nbformat": 4,
 "nbformat_minor": 5
}
