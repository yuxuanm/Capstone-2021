{
  "nbformat": 4,
  "nbformat_minor": 0,
  "metadata": {
    "colab": {
      "name": "cnn_autoencoder_v2.ipynb",
      "provenance": []
    },
    "kernelspec": {
      "name": "python3",
      "display_name": "Python 3"
    },
    "language_info": {
      "name": "python"
    }
  },
  "cells": [
    {
      "cell_type": "code",
      "metadata": {
        "id": "Re4mR-0vd-IG"
      },
      "source": [
        "import xarray\n",
        "import numpy as np\n",
        "import matplotlib.pyplot as plt\n",
        "from sklearn.preprocessing import normalize\n",
        "import seaborn as sns"
      ],
      "execution_count": 1,
      "outputs": []
    },
    {
      "cell_type": "code",
      "metadata": {
        "colab": {
          "base_uri": "https://localhost:8080/"
        },
        "id": "jWxdFtnkdzNN",
        "outputId": "8c075a99-3cd5-45f7-f661-0715691e7975"
      },
      "source": [
        "inputs = []\n",
        "basic_url = 'http://dapds00.nci.org.au/thredds/dodsC/gb6/BRAN/BRAN_2016/OFAM/ocean_eta_t_'\n",
        "year = 1993\n",
        "for i in range(5):\n",
        "  year += 1\n",
        "  month = 0\n",
        "  for j in range(12):\n",
        "    month += 1\n",
        "    if month > 9:\n",
        "      m = str(month)\n",
        "    else:\n",
        "      m = '0'+str(month)\n",
        "    print('year: ',year,' month: ',month)\n",
        "    y = str(year)\n",
        "    url = basic_url + y + '_' + m + '.nc'\n",
        "    data = xarray.open_dataset(url)\n",
        "    eta_t = data['eta_t']\n",
        "    size = eta_t.shape[0]\n",
        "    for i in range(size):\n",
        "      eta_t_day_i = eta_t[i,300:428,2000:2128]\n",
        "      eta_t_numpy = np.array(eta_t_day_i)\n",
        "      eta_t_numpy = np.nan_to_num(eta_t_numpy)\n",
        "      inputs.append(normalize(eta_t_numpy,axis=1,norm='l1'))"
      ],
      "execution_count": 2,
      "outputs": [
        {
          "output_type": "stream",
          "text": [
            "year:  1994  month:  1\n",
            "year:  1994  month:  2\n",
            "year:  1994  month:  3\n",
            "year:  1994  month:  4\n",
            "year:  1994  month:  5\n",
            "year:  1994  month:  6\n",
            "year:  1994  month:  7\n",
            "year:  1994  month:  8\n",
            "year:  1994  month:  9\n",
            "year:  1994  month:  10\n",
            "year:  1994  month:  11\n",
            "year:  1994  month:  12\n",
            "year:  1995  month:  1\n",
            "year:  1995  month:  2\n",
            "year:  1995  month:  3\n",
            "year:  1995  month:  4\n",
            "year:  1995  month:  5\n",
            "year:  1995  month:  6\n",
            "year:  1995  month:  7\n",
            "year:  1995  month:  8\n",
            "year:  1995  month:  9\n",
            "year:  1995  month:  10\n",
            "year:  1995  month:  11\n",
            "year:  1995  month:  12\n",
            "year:  1996  month:  1\n",
            "year:  1996  month:  2\n",
            "year:  1996  month:  3\n",
            "year:  1996  month:  4\n",
            "year:  1996  month:  5\n",
            "year:  1996  month:  6\n",
            "year:  1996  month:  7\n",
            "year:  1996  month:  8\n",
            "year:  1996  month:  9\n",
            "year:  1996  month:  10\n",
            "year:  1996  month:  11\n",
            "year:  1996  month:  12\n",
            "year:  1997  month:  1\n",
            "year:  1997  month:  2\n",
            "year:  1997  month:  3\n",
            "year:  1997  month:  4\n",
            "year:  1997  month:  5\n",
            "year:  1997  month:  6\n",
            "year:  1997  month:  7\n",
            "year:  1997  month:  8\n",
            "year:  1997  month:  9\n",
            "year:  1997  month:  10\n",
            "year:  1997  month:  11\n",
            "year:  1997  month:  12\n",
            "year:  1998  month:  1\n",
            "year:  1998  month:  2\n",
            "year:  1998  month:  3\n",
            "year:  1998  month:  4\n",
            "year:  1998  month:  5\n",
            "year:  1998  month:  6\n",
            "year:  1998  month:  7\n",
            "year:  1998  month:  8\n",
            "year:  1998  month:  9\n",
            "year:  1998  month:  10\n",
            "year:  1998  month:  11\n",
            "year:  1998  month:  12\n"
          ],
          "name": "stdout"
        }
      ]
    },
    {
      "cell_type": "code",
      "metadata": {
        "id": "beXvgWrFf7Z7"
      },
      "source": [
        "inputs = np.array(inputs)"
      ],
      "execution_count": 3,
      "outputs": []
    },
    {
      "cell_type": "code",
      "metadata": {
        "colab": {
          "base_uri": "https://localhost:8080/"
        },
        "id": "M5-gDu2tj4xX",
        "outputId": "9245e193-1568-4fb6-c0b8-56f9ac1f8ac1"
      },
      "source": [
        "inputs.shape"
      ],
      "execution_count": 5,
      "outputs": [
        {
          "output_type": "execute_result",
          "data": {
            "text/plain": [
              "(1826, 128, 128)"
            ]
          },
          "metadata": {
            "tags": []
          },
          "execution_count": 5
        }
      ]
    },
    {
      "cell_type": "code",
      "metadata": {
        "id": "NT7aaplQj86A"
      },
      "source": [
        "np.save('128x128_5years',inputs)"
      ],
      "execution_count": 6,
      "outputs": []
    },
    {
      "cell_type": "code",
      "metadata": {
        "colab": {
          "base_uri": "https://localhost:8080/"
        },
        "id": "buPfYjk6myMO",
        "outputId": "fffc1e5a-4f35-429b-e8d2-c7ef26770b30"
      },
      "source": [
        "inputs[25]"
      ],
      "execution_count": 36,
      "outputs": [
        {
          "output_type": "execute_result",
          "data": {
            "text/plain": [
              "array([[0.        , 0.        , 0.        , ..., 0.00701217, 0.00911686,\n",
              "        0.00701217],\n",
              "       [0.00883196, 0.00679304, 0.00883196, ..., 0.00679304, 0.00883196,\n",
              "        0.00679304],\n",
              "       [0.00883196, 0.00679304, 0.00883196, ..., 0.00679304, 0.00883196,\n",
              "        0.00679304],\n",
              "       ...,\n",
              "       [0.00883196, 0.00679304, 0.00883196, ..., 0.00679304, 0.00883196,\n",
              "        0.00679304],\n",
              "       [0.00883196, 0.00679304, 0.00883196, ..., 0.00679304, 0.00883196,\n",
              "        0.00679304],\n",
              "       [0.00883196, 0.00679304, 0.00883196, ..., 0.00679304, 0.00883196,\n",
              "        0.00679304]], dtype=float32)"
            ]
          },
          "metadata": {
            "tags": []
          },
          "execution_count": 36
        }
      ]
    },
    {
      "cell_type": "code",
      "metadata": {
        "colab": {
          "base_uri": "https://localhost:8080/",
          "height": 268
        },
        "id": "ImhH5rvHkHjB",
        "outputId": "a2c477f4-fe42-4d9c-81f8-3e73f7ac710b"
      },
      "source": [
        "plt.imshow(inputs[25],cmap='hot',)\n",
        "plt.show()"
      ],
      "execution_count": 37,
      "outputs": [
        {
          "output_type": "display_data",
          "data": {
            "image/png": "[encoded data removed]",
            "text/plain": [
              "<Figure size 432x288 with 1 Axes>"
            ]
          },
          "metadata": {
            "tags": [],
            "needs_background": "light"
          }
        }
      ]
    },
    {
      "cell_type": "code",
      "metadata": {
        "id": "UIi4-1RntAjw"
      },
      "source": [
        "import tensorflow as tf\n",
        "from tensorflow.keras.layers import Input, Dense, Conv2D, Activation, MaxPool2D, UpSampling2D\n",
        "from tensorflow.keras.layers import BatchNormalization, Flatten, Reshape, Conv2DTranspose, LeakyReLU\n",
        "from tensorflow.keras.models import Model\n",
        "from tensorflow.keras.optimizers import Adam, SGD"
      ],
      "execution_count": 38,
      "outputs": []
    },
    {
      "cell_type": "code",
      "metadata": {
        "id": "FxQ2buHDtBJs"
      },
      "source": [
        "data_inputs = Input(shape=(128,128,1))\n",
        "\n",
        "x = Conv2D(16,(3,3),activation='relu',padding='same')(data_inputs)\n",
        "#x = BatchNormalization()(x)\n",
        "x = MaxPool2D((2,2),padding='same')(x)\n",
        "x = Conv2D(8,(3,3),activation='relu',padding='same')(x)\n",
        "#x = BatchNormalization()(x)\n",
        "x = MaxPool2D((2,2),padding='same')(x)\n",
        "x = Conv2D(8,(3,3),activation='relu',padding='same')(x)\n",
        "encoded = MaxPool2D((2,2),padding='same')(x)\n",
        "\n",
        "x = Conv2D(8,(3,3),activation='relu',padding='same')(encoded)\n",
        "x = UpSampling2D((2,2))(x)\n",
        "x = Conv2D(8,(3,3),activation='relu',padding='same')(x)\n",
        "x = UpSampling2D((2,2))(x)\n",
        "x = Conv2D(16,(3,3),activation='relu',padding='same')(x)\n",
        "x = UpSampling2D((2,2))(x)\n",
        "decoded = Conv2D(1,(3,3),activation='relu',padding='same')(x)\n",
        "\n",
        "autoencoder = Model(data_inputs,decoded)\n",
        "autoencoder.compile(optimizer='adam',loss='mse')"
      ],
      "execution_count": 39,
      "outputs": []
    },
    {
      "cell_type": "code",
      "metadata": {
        "colab": {
          "base_uri": "https://localhost:8080/"
        },
        "id": "CEkRl_94tDXz",
        "outputId": "a964170d-1bd0-4c0c-d7fa-ee376b86f72b"
      },
      "source": [
        "autoencoder.summary()"
      ],
      "execution_count": 40,
      "outputs": [
        {
          "output_type": "stream",
          "text": [
            "Model: \"model\"\n",
            "_________________________________________________________________\n",
            "Layer (type)                 Output Shape              Param #   \n",
            "=================================================================\n",
            "input_1 (InputLayer)         [(None, 128, 128, 1)]     0         \n",
            "_________________________________________________________________\n",
            "conv2d (Conv2D)              (None, 128, 128, 16)      160       \n",
            "_________________________________________________________________\n",
            "max_pooling2d (MaxPooling2D) (None, 64, 64, 16)        0         \n",
            "_________________________________________________________________\n",
            "conv2d_1 (Conv2D)            (None, 64, 64, 8)         1160      \n",
            "_________________________________________________________________\n",
            "max_pooling2d_1 (MaxPooling2 (None, 32, 32, 8)         0         \n",
            "_________________________________________________________________\n",
            "conv2d_2 (Conv2D)            (None, 32, 32, 8)         584       \n",
            "_________________________________________________________________\n",
            "max_pooling2d_2 (MaxPooling2 (None, 16, 16, 8)         0         \n",
            "_________________________________________________________________\n",
            "conv2d_3 (Conv2D)            (None, 16, 16, 8)         584       \n",
            "_________________________________________________________________\n",
            "up_sampling2d (UpSampling2D) (None, 32, 32, 8)         0         \n",
            "_________________________________________________________________\n",
            "conv2d_4 (Conv2D)            (None, 32, 32, 8)         584       \n",
            "_________________________________________________________________\n",
            "up_sampling2d_1 (UpSampling2 (None, 64, 64, 8)         0         \n",
            "_________________________________________________________________\n",
            "conv2d_5 (Conv2D)            (None, 64, 64, 16)        1168      \n",
            "_________________________________________________________________\n",
            "up_sampling2d_2 (UpSampling2 (None, 128, 128, 16)      0         \n",
            "_________________________________________________________________\n",
            "conv2d_6 (Conv2D)            (None, 128, 128, 1)       145       \n",
            "=================================================================\n",
            "Total params: 4,385\n",
            "Trainable params: 4,385\n",
            "Non-trainable params: 0\n",
            "_________________________________________________________________\n"
          ],
          "name": "stdout"
        }
      ]
    },
    {
      "cell_type": "code",
      "metadata": {
        "id": "aEZKvK4stFaJ"
      },
      "source": [
        "inputsx = np.expand_dims(inputs,axis=3)"
      ],
      "execution_count": 41,
      "outputs": []
    },
    {
      "cell_type": "code",
      "metadata": {
        "colab": {
          "base_uri": "https://localhost:8080/"
        },
        "id": "Fg9kMcwxtU_G",
        "outputId": "976fd14f-d146-4fe5-e606-02b7b484ffa6"
      },
      "source": [
        "np.random.shuffle(inputsx)\n",
        "print(inputsx.shape)\n",
        "train_inputs = inputsx[:1370,:,:,:]\n",
        "val_inputs = inputsx[1370:1644,:,:,:]\n",
        "test_inputs = inputsx[1644:1826,:,:,:]"
      ],
      "execution_count": 45,
      "outputs": [
        {
          "output_type": "stream",
          "text": [
            "(1826, 128, 128, 1)\n"
          ],
          "name": "stdout"
        }
      ]
    },
    {
      "cell_type": "code",
      "metadata": {
        "colab": {
          "base_uri": "https://localhost:8080/"
        },
        "id": "BtUjTdkeuwsS",
        "outputId": "b9133957-2cb4-4831-e104-031e4ce262ff"
      },
      "source": [
        "history = autoencoder.fit(train_inputs, train_inputs, epochs=20,validation_data=(val_inputs,val_inputs))"
      ],
      "execution_count": 46,
      "outputs": [
        {
          "output_type": "stream",
          "text": [
            "Epoch 1/20\n",
            "43/43 [==============================] - 36s 806ms/step - loss: 5.0656e-05 - val_loss: 4.6282e-05\n",
            "Epoch 2/20\n",
            "43/43 [==============================] - 34s 791ms/step - loss: 4.0240e-05 - val_loss: 4.0779e-05\n",
            "Epoch 3/20\n",
            "43/43 [==============================] - 34s 788ms/step - loss: 3.9085e-05 - val_loss: 4.0792e-05\n",
            "Epoch 4/20\n",
            "43/43 [==============================] - 35s 813ms/step - loss: 3.8759e-05 - val_loss: 4.0024e-05\n",
            "Epoch 5/20\n",
            "43/43 [==============================] - 34s 780ms/step - loss: 3.8442e-05 - val_loss: 3.9932e-05\n",
            "Epoch 6/20\n",
            "43/43 [==============================] - 34s 781ms/step - loss: 3.8348e-05 - val_loss: 3.9860e-05\n",
            "Epoch 7/20\n",
            "43/43 [==============================] - 33s 775ms/step - loss: 3.8290e-05 - val_loss: 3.9876e-05\n",
            "Epoch 8/20\n",
            "43/43 [==============================] - 33s 775ms/step - loss: 3.8205e-05 - val_loss: 3.9721e-05\n",
            "Epoch 9/20\n",
            "43/43 [==============================] - 33s 773ms/step - loss: 3.8128e-05 - val_loss: 3.9642e-05\n",
            "Epoch 10/20\n",
            "43/43 [==============================] - 33s 772ms/step - loss: 3.8026e-05 - val_loss: 3.9535e-05\n",
            "Epoch 11/20\n",
            "43/43 [==============================] - 33s 771ms/step - loss: 3.7910e-05 - val_loss: 3.9398e-05\n",
            "Epoch 12/20\n",
            "43/43 [==============================] - 33s 772ms/step - loss: 3.7856e-05 - val_loss: 3.9788e-05\n",
            "Epoch 13/20\n",
            "43/43 [==============================] - 33s 769ms/step - loss: 3.7710e-05 - val_loss: 3.9020e-05\n",
            "Epoch 14/20\n",
            "43/43 [==============================] - 33s 770ms/step - loss: 3.7303e-05 - val_loss: 3.8714e-05\n",
            "Epoch 15/20\n",
            "43/43 [==============================] - 33s 772ms/step - loss: 3.7095e-05 - val_loss: 3.8454e-05\n",
            "Epoch 16/20\n",
            "43/43 [==============================] - 33s 774ms/step - loss: 3.6641e-05 - val_loss: 3.8010e-05\n",
            "Epoch 17/20\n",
            "43/43 [==============================] - 33s 775ms/step - loss: 3.6394e-05 - val_loss: 3.8164e-05\n",
            "Epoch 18/20\n",
            "43/43 [==============================] - 33s 774ms/step - loss: 3.6887e-05 - val_loss: 3.8387e-05\n",
            "Epoch 19/20\n",
            "43/43 [==============================] - 33s 774ms/step - loss: 3.5581e-05 - val_loss: 3.7031e-05\n",
            "Epoch 20/20\n",
            "43/43 [==============================] - 33s 773ms/step - loss: 3.5392e-05 - val_loss: 3.6392e-05\n"
          ],
          "name": "stdout"
        }
      ]
    },
    {
      "cell_type": "code",
      "metadata": {
        "colab": {
          "base_uri": "https://localhost:8080/",
          "height": 314
        },
        "id": "esJTGJKluzo2",
        "outputId": "19d2fff3-3181-46b6-a0c7-75358b150835"
      },
      "source": [
        "import numpy as np\n",
        "import matplotlib.pyplot as plt\n",
        "import tensorflow.keras\n",
        "print(history.history.keys())\n",
        "\n",
        "plt.plot(history.history['loss'])\n",
        "plt.plot(history.history['val_loss'])\n",
        "plt.title('model loss')\n",
        "plt.ylabel('loss')\n",
        "plt.xlabel('epoch')\n",
        "plt.legend(['train', 'validation'], loc='upper right')\n",
        "plt.show()"
      ],
      "execution_count": 47,
      "outputs": [
        {
          "output_type": "stream",
          "text": [
            "dict_keys(['loss', 'val_loss'])\n"
          ],
          "name": "stdout"
        },
        {
          "output_type": "display_data",
          "data": {
            "image/png": "[encoded data removed]",
            "text/plain": [
              "<Figure size 432x288 with 1 Axes>"
            ]
          },
          "metadata": {
            "tags": [],
            "needs_background": "light"
          }
        }
      ]
    },
    {
      "cell_type": "code",
      "metadata": {
        "id": "8ZuNpiSRvBel"
      },
      "source": [
        "encoder = Model(data_inputs,encoded)"
      ],
      "execution_count": 48,
      "outputs": []
    },
    {
      "cell_type": "code",
      "metadata": {
        "id": "zTks8KoAxjJN"
      },
      "source": [
        "encoded_data = encoder.predict(np.array(test_inputs[10]))"
      ],
      "execution_count": 57,
      "outputs": []
    },
    {
      "cell_type": "code",
      "metadata": {
        "colab": {
          "base_uri": "https://localhost:8080/"
        },
        "id": "CInpzci3x5GG",
        "outputId": "63b9e9d7-4530-426e-96e8-4442c94b9eba"
      },
      "source": [
        "encoded_data.shape"
      ],
      "execution_count": 58,
      "outputs": [
        {
          "output_type": "execute_result",
          "data": {
            "text/plain": [
              "(128, 16, 1, 8)"
            ]
          },
          "metadata": {
            "tags": []
          },
          "execution_count": 58
        }
      ]
    },
    {
      "cell_type": "code",
      "metadata": {
        "id": "796MO8XEyC9w"
      },
      "source": [
        "decoded_data = autoencoder.predict(np.array([test_inputs[0]]))"
      ],
      "execution_count": 63,
      "outputs": []
    },
    {
      "cell_type": "code",
      "metadata": {
        "colab": {
          "base_uri": "https://localhost:8080/"
        },
        "id": "2HZKV-yzyKdz",
        "outputId": "2b2d3469-7473-4539-9781-66304dd5bf55"
      },
      "source": [
        "decoded_data.shape"
      ],
      "execution_count": 55,
      "outputs": [
        {
          "output_type": "execute_result",
          "data": {
            "text/plain": [
              "(1, 128, 128, 1)"
            ]
          },
          "metadata": {
            "tags": []
          },
          "execution_count": 55
        }
      ]
    },
    {
      "cell_type": "code",
      "metadata": {
        "colab": {
          "base_uri": "https://localhost:8080/",
          "height": 519
        },
        "id": "IWSPVvTQyOl_",
        "outputId": "3f891a9f-0cc8-4f2d-b08a-3f98bf8a30d7"
      },
      "source": [
        "plt.imshow(test_inputs[10,:,:,0],cmap='hot')\n",
        "plt.show()\n",
        "plt.imshow(decoded_data[0,:,:,0],cmap='hot')\n",
        "plt.show()"
      ],
      "execution_count": 60,
      "outputs": [
        {
          "output_type": "display_data",
          "data": {
            "image/png": "[encoded data removed]",
            "text/plain": [
              "<Figure size 432x288 with 1 Axes>"
            ]
          },
          "metadata": {
            "tags": [],
            "needs_background": "light"
          }
        },
        {
          "output_type": "display_data",
          "data": {
            "image/png": "[encoded data removed]",
            "text/plain": [
              "<Figure size 432x288 with 1 Axes>"
            ]
          },
          "metadata": {
            "tags": [],
            "needs_background": "light"
          }
        }
      ]
    },
    {
      "cell_type": "code",
      "metadata": {
        "colab": {
          "base_uri": "https://localhost:8080/"
        },
        "id": "fEm_7jj5yc5Q",
        "outputId": "98d52e43-4ec7-45b8-b8ad-7e561d3d8a09"
      },
      "source": [
        "test_inputs[0,:,:,0]"
      ],
      "execution_count": 62,
      "outputs": [
        {
          "output_type": "execute_result",
          "data": {
            "text/plain": [
              "array([[0.        , 0.        , 0.        , ..., 0.01017105, 0.00595798,\n",
              "        0.01017105],\n",
              "       [0.00577179, 0.00985321, 0.00577179, ..., 0.00985321, 0.00577179,\n",
              "        0.00985321],\n",
              "       [0.00577179, 0.00985321, 0.00577179, ..., 0.00985321, 0.00577179,\n",
              "        0.00985321],\n",
              "       ...,\n",
              "       [0.00577179, 0.00985321, 0.00577179, ..., 0.00985321, 0.00577179,\n",
              "        0.00985321],\n",
              "       [0.00577179, 0.00985321, 0.00577179, ..., 0.00985321, 0.00577179,\n",
              "        0.00985321],\n",
              "       [0.00577179, 0.00985321, 0.00577179, ..., 0.00985321, 0.00577179,\n",
              "        0.00985321]], dtype=float32)"
            ]
          },
          "metadata": {
            "tags": []
          },
          "execution_count": 62
        }
      ]
    },
    {
      "cell_type": "code",
      "metadata": {
        "colab": {
          "base_uri": "https://localhost:8080/"
        },
        "id": "X6y35AzWyuhg",
        "outputId": "fc5b97c1-c208-4376-9437-79a1e1785c93"
      },
      "source": [
        "decoded_data[0,:,:,0]"
      ],
      "execution_count": 64,
      "outputs": [
        {
          "output_type": "execute_result",
          "data": {
            "text/plain": [
              "array([[6.8501569e-05, 8.0868434e-03, 6.0773534e-03, ..., 9.9177659e-03,\n",
              "        6.6973269e-03, 1.2728211e-02],\n",
              "       [2.6758201e-03, 9.5915850e-03, 5.7805125e-03, ..., 1.2985637e-02,\n",
              "        5.9480639e-03, 1.1662848e-02],\n",
              "       [3.8274443e-03, 9.9906782e-03, 5.5325516e-03, ..., 1.0362746e-02,\n",
              "        1.1972170e-03, 9.7347517e-03],\n",
              "       ...,\n",
              "       [5.6907982e-03, 1.0970013e-02, 6.3754343e-03, ..., 1.0299213e-02,\n",
              "        4.0750825e-03, 1.0987230e-02],\n",
              "       [5.5167004e-03, 1.1669260e-02, 6.7686751e-03, ..., 1.2976455e-02,\n",
              "        8.3965175e-03, 1.3276397e-02],\n",
              "       [8.2437247e-03, 7.6773916e-03, 4.1125305e-03, ..., 5.6097992e-03,\n",
              "        3.2214494e-03, 8.4688058e-03]], dtype=float32)"
            ]
          },
          "metadata": {
            "tags": []
          },
          "execution_count": 64
        }
      ]
    },
    {
      "cell_type": "code",
      "metadata": {
        "id": "ODqVwr9-y5ee"
      },
      "source": [
        ""
      ],
      "execution_count": null,
      "outputs": []
    }
  ]
}