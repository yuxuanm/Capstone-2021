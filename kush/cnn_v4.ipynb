{
  "nbformat": 4,
  "nbformat_minor": 0,
  "metadata": {
    "colab": {
      "name": "cnn_v4.ipynb",
      "provenance": [],
      "collapsed_sections": []
    },
    "kernelspec": {
      "name": "python3",
      "display_name": "Python 3"
    },
    "language_info": {
      "name": "python"
    },
    "accelerator": "TPU"
  },
  "cells": [
    {
      "cell_type": "code",
      "metadata": {
        "colab": {
          "base_uri": "https://localhost:8080/"
        },
        "id": "5k-T3pf5bZz2",
        "outputId": "48725d58-6ccc-40fc-b063-3ae7a3684260"
      },
      "source": [
        "from google.colab import drive\n",
        "drive.mount('/content/gdrive')"
      ],
      "execution_count": null,
      "outputs": [
        {
          "output_type": "stream",
          "name": "stdout",
          "text": [
            "Mounted at /content/gdrive\n"
          ]
        }
      ]
    },
    {
      "cell_type": "code",
      "metadata": {
        "id": "8vf3WrYBberR",
        "colab": {
          "base_uri": "https://localhost:8080/"
        },
        "outputId": "559fb558-eee0-432d-a8ee-519cfdbbb8a9"
      },
      "source": [
        "!unzip gdrive/My\\ Drive/data.rar > /dev/null"
      ],
      "execution_count": null,
      "outputs": [
        {
          "output_type": "stream",
          "name": "stdout",
          "text": [
            "  End-of-central-directory signature not found.  Either this file is not\n",
            "  a zipfile, or it constitutes one disk of a multi-part archive.  In the\n",
            "  latter case the central directory and zipfile comment will be found on\n",
            "  the last disk(s) of this archive.\n",
            "unzip:  cannot find zipfile directory in one of gdrive/My Drive/data.rar or\n",
            "        gdrive/My Drive/data.rar.zip, and cannot find gdrive/My Drive/data.rar.ZIP, period.\n"
          ]
        }
      ]
    },
    {
      "cell_type": "code",
      "metadata": {
        "id": "5fsf7XsGvUkP"
      },
      "source": [
        "!unrar x gdrive/My\\ Drive/new_data.rar"
      ],
      "execution_count": null,
      "outputs": []
    },
    {
      "cell_type": "code",
      "metadata": {
        "id": "0wcrn1UCfB9O"
      },
      "source": [
        "import os\n",
        "import numpy as np\n",
        "from tqdm import tqdm"
      ],
      "execution_count": null,
      "outputs": []
    },
    {
      "cell_type": "code",
      "metadata": {
        "id": "XotPcwXogQ4n"
      },
      "source": [
        "folder_names = [name for name in os.listdir('./') if name.startswith('dataset')]"
      ],
      "execution_count": null,
      "outputs": []
    },
    {
      "cell_type": "code",
      "metadata": {
        "id": "X1FMJtLEyKCM"
      },
      "source": [
        "file_names = []\n",
        "for folder in folder_names:\n",
        "  for file in os.listdir(folder):\n",
        "      file_names.append(os.path.join(folder,file))"
      ],
      "execution_count": null,
      "outputs": []
    },
    {
      "cell_type": "code",
      "metadata": {
        "colab": {
          "base_uri": "https://localhost:8080/",
          "height": 174
        },
        "id": "JNmUmA99yejt",
        "outputId": "539eae98-e21b-4754-cf3d-0eb0e8101595"
      },
      "source": [
        "file_names[:5]"
      ],
      "execution_count": null,
      "outputs": [
        {
          "output_type": "error",
          "ename": "NameError",
          "evalue": "ignored",
          "traceback": [
            "\u001b[0;31m---------------------------------------------------------------------------\u001b[0m",
            "\u001b[0;31mNameError\u001b[0m                                 Traceback (most recent call last)",
            "\u001b[0;32m<ipython-input-1-c2d150cea0f1>\u001b[0m in \u001b[0;36m<module>\u001b[0;34m()\u001b[0m\n\u001b[0;32m----> 1\u001b[0;31m \u001b[0mfile_names\u001b[0m\u001b[0;34m[\u001b[0m\u001b[0;34m:\u001b[0m\u001b[0;36m5\u001b[0m\u001b[0;34m]\u001b[0m\u001b[0;34m\u001b[0m\u001b[0;34m\u001b[0m\u001b[0m\n\u001b[0m",
            "\u001b[0;31mNameError\u001b[0m: name 'file_names' is not defined"
          ]
        }
      ]
    },
    {
      "cell_type": "code",
      "metadata": {
        "colab": {
          "base_uri": "https://localhost:8080/"
        },
        "id": "BPJxfak3gmME",
        "outputId": "fbcf11a2-907b-4354-9243-43079da7850d"
      },
      "source": [
        "print(len(file_names))"
      ],
      "execution_count": null,
      "outputs": [
        {
          "output_type": "stream",
          "name": "stdout",
          "text": [
            "91069\n"
          ]
        }
      ]
    },
    {
      "cell_type": "code",
      "metadata": {
        "colab": {
          "base_uri": "https://localhost:8080/",
          "height": 36
        },
        "id": "NOlSwg7Fg4ZC",
        "outputId": "3087e1a9-4b4f-43f2-fab3-69d6bcb9a48b"
      },
      "source": [
        "import tensorflow as tf\n",
        "tf.test.gpu_device_name()"
      ],
      "execution_count": null,
      "outputs": [
        {
          "output_type": "execute_result",
          "data": {
            "application/vnd.google.colaboratory.intrinsic+json": {
              "type": "string"
            },
            "text/plain": [
              "'/device:GPU:0'"
            ]
          },
          "metadata": {},
          "execution_count": 25
        }
      ]
    },
    {
      "cell_type": "code",
      "metadata": {
        "colab": {
          "base_uri": "https://localhost:8080/"
        },
        "id": "Q-fHRfury9Qf",
        "outputId": "f2ffc403-913e-4585-e7e3-d20ef53b6864"
      },
      "source": [
        "min_value = 1000\n",
        "max_value = 0\n",
        "\n",
        "for file in tqdm(file_names):\n",
        "    f = np.load(file)\n",
        "    minv = np.amin(f[:,:,0])\n",
        "    maxv = np.amax(f[:,:,0])\n",
        "    if min_value>minv:\n",
        "        min_value=minv\n",
        "    if max_value<maxv:\n",
        "        max_value=maxv"
      ],
      "execution_count": null,
      "outputs": [
        {
          "output_type": "stream",
          "name": "stderr",
          "text": [
            "100%|██████████| 91069/91069 [01:32<00:00, 980.81it/s] \n"
          ]
        }
      ]
    },
    {
      "cell_type": "code",
      "metadata": {
        "id": "nmjpBufnifhd",
        "colab": {
          "base_uri": "https://localhost:8080/"
        },
        "outputId": "b3e723dd-672b-48f4-9a7b-59b69ef42686"
      },
      "source": [
        "print(minv,maxv)"
      ],
      "execution_count": null,
      "outputs": [
        {
          "output_type": "stream",
          "name": "stdout",
          "text": [
            "0.18311106 0.5188147\n"
          ]
        }
      ]
    },
    {
      "cell_type": "code",
      "metadata": {
        "id": "1t_0l_rg-TIo"
      },
      "source": [
        "def scaler(m):\n",
        "    m_std = (m - minv) / (maxv - minv)\n",
        "    m_std = np.expand_dims(m_std,axis=2)\n",
        "    return m_std"
      ],
      "execution_count": null,
      "outputs": []
    },
    {
      "cell_type": "code",
      "metadata": {
        "id": "9r-DCkv1-Vlm"
      },
      "source": [
        "def inverse_scaler(m):\n",
        "    m_scaled = m * (maxv - minv) + minv\n",
        "    m_scaled = np.expand_dims(m_scaled,axis=2)\n",
        "    return m_scaled"
      ],
      "execution_count": null,
      "outputs": []
    },
    {
      "cell_type": "code",
      "metadata": {
        "id": "Z-Hg-aFHOL0Y"
      },
      "source": [
        "def fix_missing_value(m):\n",
        "  m[np.isnan(m)] = 0\n",
        "  #m_fixed = np.expand_dims(m,axis=2)\n",
        "  return m"
      ],
      "execution_count": null,
      "outputs": []
    },
    {
      "cell_type": "code",
      "metadata": {
        "id": "zg4-dUs4-X7g"
      },
      "source": [
        "import tensorflow as tf\n",
        "from tensorflow.keras.layers import Input, Dense, Conv2D, Activation, MaxPool2D, UpSampling2D\n",
        "from tensorflow.keras.layers import BatchNormalization, Flatten, Reshape, Conv2DTranspose, LeakyReLU\n",
        "from tensorflow.keras.models import Model\n",
        "from tensorflow.keras.optimizers import Adam, SGD"
      ],
      "execution_count": null,
      "outputs": []
    },
    {
      "cell_type": "code",
      "metadata": {
        "id": "wb30ehut-avp"
      },
      "source": [
        "tf.keras.backend.clear_session()"
      ],
      "execution_count": null,
      "outputs": []
    },
    {
      "cell_type": "code",
      "metadata": {
        "id": "SJ79Zw6KJE_Q"
      },
      "source": [
        "optimizer = Adam(learning_rate=1e-6)"
      ],
      "execution_count": null,
      "outputs": []
    },
    {
      "cell_type": "code",
      "metadata": {
        "id": "2o6na6TZ-coK"
      },
      "source": [
        "lat = 128 # chunk size\n",
        "long = 128 # chunk size\n",
        "\n",
        "input_img = Input(shape=(lat, long,1))\n",
        "\n",
        "x = Conv2D(64,(4,4), activation='relu', padding='same')(input_img)\n",
        "x = Conv2D(128, (4, 4), activation='relu', padding='same')(x)\n",
        "x = MaxPool2D((2, 2), padding='same')(x)\n",
        "x = Conv2D(32, (4, 4), activation='relu', padding='same')(x)\n",
        "x = MaxPool2D((2, 2), padding='same')(x)\n",
        "x = Conv2D(16, (4, 4), activation='relu', padding='same')(x)\n",
        "# x = MaxPooling2D((2, 2), padding='same')(x)\n",
        "x = Conv2D(8, (4, 4), activation='relu', padding='same')(x)\n",
        "# x = MaxPooling2D((2, 2), padding='same')(x)\n",
        "# x = Conv2D(4, (4, 4), activation='relu', padding='same')(x)\n",
        "# x = MaxPooling2D((2, 2), padding='same')(x)\n",
        "encoded = Conv2D(4, (4, 4), activation='relu',strides=(1,1), padding='same')(x)\n",
        "\n",
        "x = Conv2DTranspose(8, (4, 4), strides=(1, 1),activation='relu', padding='same')(encoded)\n",
        "x = Conv2DTranspose(16, (4, 4), strides=(2, 2),activation='relu', padding='same')(x)\n",
        "x = Conv2DTranspose(32, (4, 4), strides=(2, 2),activation='relu', padding='same')(x)\n",
        "x = Conv2DTranspose(64, (4, 4), strides=(1, 1), activation='relu', padding='same')(x)\n",
        "x = Conv2DTranspose(64, (4, 4), strides=(1, 1),activation='relu', padding='same')(x)\n",
        "# x = Conv2DTranspose(128, (4, 4), strides=(2, 2),activation='relu', padding='same')(x)\n",
        "decoded = Conv2DTranspose(1, (3, 3), activation='sigmoid', padding='same')(x)\n",
        "\n",
        "autoencoder = Model(input_img, decoded)\n",
        "autoencoder.compile(optimizer=optimizer, loss='mse')"
      ],
      "execution_count": null,
      "outputs": []
    },
    {
      "cell_type": "code",
      "metadata": {
        "colab": {
          "base_uri": "https://localhost:8080/"
        },
        "id": "bVdmfcFW-evn",
        "outputId": "005bff4e-72e3-4d5a-eb99-83792ab2ca10"
      },
      "source": [
        "autoencoder.summary()"
      ],
      "execution_count": null,
      "outputs": [
        {
          "output_type": "stream",
          "name": "stdout",
          "text": [
            "Model: \"model_2\"\n",
            "_________________________________________________________________\n",
            "Layer (type)                 Output Shape              Param #   \n",
            "=================================================================\n",
            "input_3 (InputLayer)         [(None, 128, 128, 1)]     0         \n",
            "_________________________________________________________________\n",
            "conv2d_11 (Conv2D)           (None, 128, 128, 64)      1088      \n",
            "_________________________________________________________________\n",
            "conv2d_12 (Conv2D)           (None, 128, 128, 128)     131200    \n",
            "_________________________________________________________________\n",
            "max_pooling2d_4 (MaxPooling2 (None, 64, 64, 128)       0         \n",
            "_________________________________________________________________\n",
            "conv2d_13 (Conv2D)           (None, 64, 64, 32)        65568     \n",
            "_________________________________________________________________\n",
            "max_pooling2d_5 (MaxPooling2 (None, 32, 32, 32)        0         \n",
            "_________________________________________________________________\n",
            "conv2d_14 (Conv2D)           (None, 32, 32, 16)        8208      \n",
            "_________________________________________________________________\n",
            "conv2d_15 (Conv2D)           (None, 32, 32, 8)         2056      \n",
            "_________________________________________________________________\n",
            "conv2d_16 (Conv2D)           (None, 32, 32, 4)         516       \n",
            "_________________________________________________________________\n",
            "conv2d_transpose_12 (Conv2DT (None, 32, 32, 8)         520       \n",
            "_________________________________________________________________\n",
            "conv2d_transpose_13 (Conv2DT (None, 64, 64, 16)        2064      \n",
            "_________________________________________________________________\n",
            "conv2d_transpose_14 (Conv2DT (None, 128, 128, 32)      8224      \n",
            "_________________________________________________________________\n",
            "conv2d_transpose_15 (Conv2DT (None, 128, 128, 64)      32832     \n",
            "_________________________________________________________________\n",
            "conv2d_transpose_16 (Conv2DT (None, 128, 128, 64)      65600     \n",
            "_________________________________________________________________\n",
            "conv2d_transpose_17 (Conv2DT (None, 128, 128, 1)       577       \n",
            "=================================================================\n",
            "Total params: 318,453\n",
            "Trainable params: 318,453\n",
            "Non-trainable params: 0\n",
            "_________________________________________________________________\n"
          ]
        }
      ]
    },
    {
      "cell_type": "code",
      "metadata": {
        "id": "po8QSd-i-g7b"
      },
      "source": [
        "file_paths = []\n",
        "dir = './data_files'\n",
        "for filename in os.listdir(dir):\n",
        "    file_paths.append(dir+'/'+filename)"
      ],
      "execution_count": null,
      "outputs": []
    },
    {
      "cell_type": "code",
      "metadata": {
        "colab": {
          "base_uri": "https://localhost:8080/"
        },
        "id": "s-OrB4If-u48",
        "outputId": "85d064ee-3b4b-4e90-c97e-6037edf7df89"
      },
      "source": [
        "len(file_paths)"
      ],
      "execution_count": null,
      "outputs": [
        {
          "output_type": "execute_result",
          "data": {
            "text/plain": [
              "69641"
            ]
          },
          "metadata": {},
          "execution_count": 76
        }
      ]
    },
    {
      "cell_type": "code",
      "metadata": {
        "id": "ErQfRlJm-m_h"
      },
      "source": [
        "np.random.seed(1)\n",
        "np.random.shuffle(file_names)\n",
        "\n",
        "files = {\n",
        "    'training': file_names[:77410],\n",
        "    'validation': file_names[77410:86517],\n",
        "    'testing': file_names[86517:91069]\n",
        "}"
      ],
      "execution_count": null,
      "outputs": []
    },
    {
      "cell_type": "code",
      "metadata": {
        "id": "AeIJx14D_Mab"
      },
      "source": [
        "class DataGenerator(tf.keras.utils.Sequence):\n",
        "    'Generates data for Model'\n",
        "    def __init__(self, files, batch_size=4, dim=(128,128,1), shuffle=True):\n",
        "        'Initialization'\n",
        "        self.dim = dim\n",
        "        self.batch_size = batch_size\n",
        "        self.files = files\n",
        "        self.shuffle = shuffle\n",
        "    \n",
        "    def __len__(self):\n",
        "        'Denotes the number of batches per epoch'\n",
        "        return int(np.floor(len(self.files) / self.batch_size))\n",
        "\n",
        "    def __getitem__(self, index):\n",
        "        'Generate one batch of data'\n",
        "        # Generate indexes of the batch\n",
        "        filenames = self.files[index*self.batch_size:(index+1)*self.batch_size]\n",
        "        #shuffle\n",
        "        if self.shuffle == True:\n",
        "          np.random.shuffle(filenames)\n",
        "        # Generate data\n",
        "        X, y = self.__data_generation(filenames)\n",
        "\n",
        "        return X, y\n",
        "\n",
        "    def on_epoch_end(self):\n",
        "        pass\n",
        "\n",
        "    def __data_generation(self, filenames):\n",
        "        'Generates data containing batch_size samples' # X : (n_samples, *dim, n_channels)\n",
        "        # Initialization\n",
        "        X = np.load(filenames[0]) #X -> (128,128,1)\n",
        "        X = fix_missing_value(X[:,:,:])\n",
        "        X = scaler(X[:,:,0])\n",
        "        X = np.expand_dims(X,axis=0) #X -> (1,128,128,1)\n",
        "        # Generate data\n",
        "        for file in filenames[1:]:\n",
        "            # Store sample\n",
        "            x = np.load(file) #X -> (128,128,1)\n",
        "            x = fix_missing_value(x[:,:,:])\n",
        "            x = scaler(x[:,:,0])\n",
        "            x = np.expand_dims(x,axis=0) #X -> (1,128,128,1)\n",
        "            X = np.append(X,x,axis=0)\n",
        "\n",
        "        return X, X"
      ],
      "execution_count": null,
      "outputs": []
    },
    {
      "cell_type": "code",
      "metadata": {
        "id": "WujTrcwE_VRe"
      },
      "source": [
        "params = {'dim': (128,128,1),\n",
        "          'batch_size':256,\n",
        "          'shuffle': True}\n",
        "\n",
        "params_v = {'dim': (128,128,1),\n",
        "          'batch_size':256,\n",
        "          'shuffle': True}\n",
        "\n",
        "training_generator = DataGenerator(files['training'], **params)\n",
        "validation_generator = DataGenerator(files['validation'], **params_v)"
      ],
      "execution_count": null,
      "outputs": []
    },
    {
      "cell_type": "code",
      "metadata": {
        "id": "nyfzXvwv_3Dr"
      },
      "source": [
        "callback = tf.keras.callbacks.EarlyStopping(monitor='val_loss',min_delta=1e-5, patience=5,restore_best_weights=True)"
      ],
      "execution_count": null,
      "outputs": []
    },
    {
      "cell_type": "code",
      "metadata": {
        "colab": {
          "base_uri": "https://localhost:8080/"
        },
        "id": "jD_W8ogK_d-C",
        "outputId": "fe8b1a49-e427-491c-f004-73985767e3b6"
      },
      "source": [
        "history = autoencoder.fit(training_generator,epochs=50,\n",
        "                    validation_data=validation_generator,shuffle=True,callbacks=[callback])"
      ],
      "execution_count": null,
      "outputs": [
        {
          "output_type": "stream",
          "name": "stdout",
          "text": [
            "Epoch 1/50\n",
            "302/302 [==============================] - 1144s 4s/step - loss: 0.2584 - val_loss: 0.2590\n",
            "Epoch 2/50\n",
            "302/302 [==============================] - 1105s 4s/step - loss: 0.2578 - val_loss: 0.2577\n",
            "Epoch 3/50\n",
            "302/302 [==============================] - 1105s 4s/step - loss: 0.2547 - val_loss: 0.2517\n",
            "Epoch 4/50\n",
            "302/302 [==============================] - 1110s 4s/step - loss: 0.2434 - val_loss: 0.2323\n",
            "Epoch 5/50\n",
            "302/302 [==============================] - 1111s 4s/step - loss: 0.2138 - val_loss: 0.1926\n",
            "Epoch 6/50\n",
            "302/302 [==============================] - 1198s 4s/step - loss: 0.1766 - val_loss: 0.1624\n",
            "Epoch 7/50\n",
            "302/302 [==============================] - 1115s 4s/step - loss: 0.1578 - val_loss: 0.1517\n",
            "Epoch 8/50\n",
            "302/302 [==============================] - 1117s 4s/step - loss: 0.1502 - val_loss: 0.1451\n",
            "Epoch 9/50\n",
            "302/302 [==============================] - 1117s 4s/step - loss: 0.1436 - val_loss: 0.1388\n",
            "Epoch 10/50\n",
            "302/302 [==============================] - 1116s 4s/step - loss: 0.1374 - val_loss: 0.1325\n",
            "Epoch 11/50\n",
            "302/302 [==============================] - 1110s 4s/step - loss: 0.1313 - val_loss: 0.1265\n",
            "Epoch 12/50\n",
            " 91/302 [========>.....................] - ETA: 12:33 - loss: 0.1269"
          ]
        }
      ]
    },
    {
      "cell_type": "code",
      "metadata": {
        "id": "ovEnX14rAPMN"
      },
      "source": [
        "import numpy as np\n",
        "import matplotlib.pyplot as plt\n",
        "print(history.history.keys())\n",
        "\n",
        "plt.plot(history.history['loss'])\n",
        "plt.plot(history.history['val_loss'])\n",
        "plt.title('model loss')\n",
        "plt.ylabel('loss')\n",
        "plt.xlabel('epoch')\n",
        "plt.legend(['train', 'validation'], loc='upper right')\n",
        "plt.show()"
      ],
      "execution_count": null,
      "outputs": []
    },
    {
      "cell_type": "code",
      "metadata": {
        "id": "IQAfm6X0Klhe"
      },
      "source": [
        "test_input = np.load(files['testing'][20])"
      ],
      "execution_count": null,
      "outputs": []
    },
    {
      "cell_type": "code",
      "metadata": {
        "id": "2KrKnkL6Ksyx"
      },
      "source": [
        "decoded_data = autoencoder.predict(np.array([scaler(test_input[:,:,0])]))"
      ],
      "execution_count": null,
      "outputs": []
    },
    {
      "cell_type": "code",
      "metadata": {
        "id": "5CkVP4yuKw0p"
      },
      "source": [
        "decoded_data.shape"
      ],
      "execution_count": null,
      "outputs": []
    },
    {
      "cell_type": "code",
      "metadata": {
        "id": "Fb71E9vdKzsn"
      },
      "source": [
        "plt.imshow(test_input[:,:,0],cmap='hot')\n",
        "plt.title('Original Input')\n",
        "plt.show()\n",
        "plt.imshow(inverse_scaler(decoded_data[0,:,:,0])[:,:,0],cmap='hot')\n",
        "plt.title('Decoded Output')\n",
        "plt.show()\n"
      ],
      "execution_count": null,
      "outputs": []
    },
    {
      "cell_type": "code",
      "metadata": {
        "id": "MG6h7DJAK2oq"
      },
      "source": [
        "a = test_input[:,:,0]\n",
        "b = inverse_scaler(decoded_data[0,:,:,0])[:,:,0]\n",
        "mse = ((a-b)**2).mean()"
      ],
      "execution_count": null,
      "outputs": []
    },
    {
      "cell_type": "code",
      "metadata": {
        "id": "8HkVpeNULBxY"
      },
      "source": [
        "mse"
      ],
      "execution_count": null,
      "outputs": []
    },
    {
      "cell_type": "code",
      "metadata": {
        "id": "K3K1iV04LCLg"
      },
      "source": [
        "plt.imshow(a-b,cmap='hot')"
      ],
      "execution_count": null,
      "outputs": []
    },
    {
      "cell_type": "code",
      "metadata": {
        "id": "NB7nN5Voz_G5"
      },
      "source": [
        ""
      ],
      "execution_count": null,
      "outputs": []
    }
  ]
}