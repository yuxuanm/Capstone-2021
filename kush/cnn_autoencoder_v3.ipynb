{
 "cells": [
  {
   "cell_type": "code",
   "execution_count": 4,
   "metadata": {},
   "outputs": [],
   "source": [
    "import numpy as np\n",
    "import matplotlib.pyplot as plt\n",
    "from tqdm import tqdm\n",
    "import math"
   ]
  },
  {
   "cell_type": "code",
   "execution_count": 7,
   "metadata": {},
   "outputs": [],
   "source": [
    "import os\n",
    "\n",
    "file_paths = []\n",
    "dir = './dataset1'\n",
    "for filename in os.listdir(dir):\n",
    "    file_paths.append('./dataset1/'+filename)"
   ]
  },
  {
   "cell_type": "code",
   "execution_count": 19,
   "metadata": {},
   "outputs": [
    {
     "data": {
      "text/plain": [
       "730"
      ]
     },
     "execution_count": 19,
     "metadata": {},
     "output_type": "execute_result"
    }
   ],
   "source": [
    "len(file_paths)"
   ]
  },
  {
   "cell_type": "code",
   "execution_count": 8,
   "metadata": {},
   "outputs": [
    {
     "data": {
      "text/plain": [
       "['./dataset1/128x128_1994_01_1.npy',\n",
       " './dataset1/128x128_1994_01_10.npy',\n",
       " './dataset1/128x128_1994_01_11.npy',\n",
       " './dataset1/128x128_1994_01_12.npy']"
      ]
     },
     "execution_count": 8,
     "metadata": {},
     "output_type": "execute_result"
    }
   ],
   "source": [
    "file_paths[0:4]"
   ]
  },
  {
   "cell_type": "code",
   "execution_count": 9,
   "metadata": {},
   "outputs": [],
   "source": [
    "x = np.load(file_paths[0])"
   ]
  },
  {
   "cell_type": "code",
   "execution_count": 12,
   "metadata": {},
   "outputs": [
    {
     "data": {
      "text/plain": [
       "(1, 128, 128, 1)"
      ]
     },
     "execution_count": 12,
     "metadata": {},
     "output_type": "execute_result"
    }
   ],
   "source": [
    "x.shape"
   ]
  },
  {
   "cell_type": "code",
   "execution_count": 11,
   "metadata": {},
   "outputs": [],
   "source": [
    "x = np.expand_dims(x,axis=0)"
   ]
  },
  {
   "cell_type": "code",
   "execution_count": 13,
   "metadata": {},
   "outputs": [],
   "source": [
    "x = np.append(x,np.expand_dims(np.load(file_paths[3]),axis=0),axis=0)\n",
    "#x = np.append(x,np.load(file_paths[1]),axis=0)"
   ]
  },
  {
   "cell_type": "code",
   "execution_count": 14,
   "metadata": {},
   "outputs": [
    {
     "data": {
      "text/plain": [
       "(2, 128, 128, 1)"
      ]
     },
     "execution_count": 14,
     "metadata": {},
     "output_type": "execute_result"
    }
   ],
   "source": [
    "x.shape"
   ]
  },
  {
   "cell_type": "code",
   "execution_count": 15,
   "metadata": {},
   "outputs": [],
   "source": [
    "import tensorflow as tf\n",
    "from tensorflow.keras.layers import Input, Dense, Conv2D, Activation, MaxPool2D, UpSampling2D\n",
    "from tensorflow.keras.layers import BatchNormalization, Flatten, Reshape, Conv2DTranspose, LeakyReLU\n",
    "from tensorflow.keras.models import Model\n",
    "from tensorflow.keras.optimizers import Adam, SGD"
   ]
  },
  {
   "cell_type": "code",
   "execution_count": 16,
   "metadata": {},
   "outputs": [],
   "source": [
    "tf.keras.backend.clear_session()"
   ]
  },
  {
   "cell_type": "code",
   "execution_count": 17,
   "metadata": {},
   "outputs": [],
   "source": [
    "data_inputs = Input(shape=(128,128,1))\n",
    "\n",
    "x = Conv2D(16,(3,3),activation='relu',padding='same',strides=2)(data_inputs)\n",
    "#x = BatchNormalization()(x)\n",
    "x = MaxPool2D((2,2),padding='same')(x)\n",
    "x = Conv2D(16,(3,3),activation='relu',padding='same')(x)\n",
    "#x = BatchNormalization()(x)\n",
    "x = MaxPool2D((2,2),padding='same')(x)\n",
    "x = Conv2D(16,(3,3),activation=tf.keras.layers.LeakyReLU(),padding='same')(x)\n",
    "x = Conv2D(8,(3,3),activation=tf.keras.layers.LeakyReLU(),padding='same')(x)\n",
    "encoded = Conv2D(8,(3,3),activation='relu',padding='same',strides=2)(x)\n",
    "#encoded = MaxPool2D((2,2),padding='same')(x)\n",
    "\n",
    "x = Conv2DTranspose(3,activation='relu',padding='same',kernel_size=3,strides=1)(encoded)\n",
    "x = Conv2DTranspose(3,activation='relu',padding='same',kernel_size=3,strides=1)(x)\n",
    "#x = UpSampling2D((2,2))(x)\n",
    "x = Conv2DTranspose(3,activation='relu',padding='same',kernel_size=3,strides=2)(x)\n",
    "x = Conv2DTranspose(3,activation='relu',padding='same',kernel_size=3,strides=2)(x)\n",
    "\n",
    "x = Conv2D(8,(3,3),activation=tf.keras.layers.LeakyReLU(),padding='same')(x)\n",
    "x = UpSampling2D((2,2))(x)\n",
    "x = Conv2D(16,(3,3),activation='relu',padding='same')(x)\n",
    "x = UpSampling2D((2,2))(x)\n",
    "decoded = Conv2D(1,(3,3),activation='sigmoid',padding='same')(x)\n",
    "\n",
    "autoencoder = Model(data_inputs,decoded)\n",
    "autoencoder.compile(optimizer='adam',loss='mse')"
   ]
  },
  {
   "cell_type": "code",
   "execution_count": 18,
   "metadata": {},
   "outputs": [
    {
     "name": "stdout",
     "output_type": "stream",
     "text": [
      "Model: \"model\"\n",
      "_________________________________________________________________\n",
      "Layer (type)                 Output Shape              Param #   \n",
      "=================================================================\n",
      "input_1 (InputLayer)         [(None, 128, 128, 1)]     0         \n",
      "_________________________________________________________________\n",
      "conv2d (Conv2D)              (None, 64, 64, 16)        160       \n",
      "_________________________________________________________________\n",
      "max_pooling2d (MaxPooling2D) (None, 32, 32, 16)        0         \n",
      "_________________________________________________________________\n",
      "conv2d_1 (Conv2D)            (None, 32, 32, 16)        2320      \n",
      "_________________________________________________________________\n",
      "max_pooling2d_1 (MaxPooling2 (None, 16, 16, 16)        0         \n",
      "_________________________________________________________________\n",
      "conv2d_2 (Conv2D)            (None, 16, 16, 16)        2320      \n",
      "_________________________________________________________________\n",
      "conv2d_3 (Conv2D)            (None, 16, 16, 8)         1160      \n",
      "_________________________________________________________________\n",
      "conv2d_4 (Conv2D)            (None, 8, 8, 8)           584       \n",
      "_________________________________________________________________\n",
      "conv2d_transpose (Conv2DTran (None, 8, 8, 3)           219       \n",
      "_________________________________________________________________\n",
      "conv2d_transpose_1 (Conv2DTr (None, 8, 8, 3)           84        \n",
      "_________________________________________________________________\n",
      "conv2d_transpose_2 (Conv2DTr (None, 16, 16, 3)         84        \n",
      "_________________________________________________________________\n",
      "conv2d_transpose_3 (Conv2DTr (None, 32, 32, 3)         84        \n",
      "_________________________________________________________________\n",
      "conv2d_5 (Conv2D)            (None, 32, 32, 8)         224       \n",
      "_________________________________________________________________\n",
      "up_sampling2d (UpSampling2D) (None, 64, 64, 8)         0         \n",
      "_________________________________________________________________\n",
      "conv2d_6 (Conv2D)            (None, 64, 64, 16)        1168      \n",
      "_________________________________________________________________\n",
      "up_sampling2d_1 (UpSampling2 (None, 128, 128, 16)      0         \n",
      "_________________________________________________________________\n",
      "conv2d_7 (Conv2D)            (None, 128, 128, 1)       145       \n",
      "=================================================================\n",
      "Total params: 8,552\n",
      "Trainable params: 8,552\n",
      "Non-trainable params: 0\n",
      "_________________________________________________________________\n"
     ]
    }
   ],
   "source": [
    "autoencoder.summary()"
   ]
  },
  {
   "cell_type": "code",
   "execution_count": 20,
   "metadata": {},
   "outputs": [],
   "source": [
    "np.random.shuffle(file_paths)\n",
    "\n",
    "files = {\n",
    "    'training': file_paths[:650],\n",
    "    'validation': file_paths[650:700],\n",
    "    'testing': file_paths[700:730]\n",
    "}"
   ]
  },
  {
   "cell_type": "code",
   "execution_count": 21,
   "metadata": {},
   "outputs": [],
   "source": [
    "class DataGenerator(tf.keras.utils.Sequence):\n",
    "    'Generates data for Model'\n",
    "    def __init__(self, files, batch_size=4, dim=(128,128,1), shuffle=True):\n",
    "        'Initialization'\n",
    "        self.dim = dim\n",
    "        self.batch_size = batch_size\n",
    "        self.files = files\n",
    "        self.shuffle = shuffle\n",
    "    \n",
    "    def __len__(self):\n",
    "        'Denotes the number of batches per epoch'\n",
    "        return int(np.floor(len(self.files) / self.batch_size))\n",
    "\n",
    "    def __getitem__(self, index):\n",
    "        'Generate one batch of data'\n",
    "        # Generate indexes of the batch\n",
    "        filenames = self.files[index*self.batch_size:(index+1)*self.batch_size]\n",
    "\n",
    "        # Generate data\n",
    "        X, y = self.__data_generation(filenames)\n",
    "\n",
    "        return X, y\n",
    "\n",
    "    def on_epoch_end(self):\n",
    "        pass\n",
    "\n",
    "    def __data_generation(self, filenames):\n",
    "        'Generates data containing batch_size samples' # X : (n_samples, *dim, n_channels)\n",
    "        # Initialization\n",
    "        X = np.load(filenames[0]) #X -> (128,128,1)\n",
    "        \n",
    "        X = np.expand_dims(X,axis=0) #X -> (1,128,128,1)\n",
    "        # Generate data\n",
    "        for file in filenames[1:]:\n",
    "            # Store sample\n",
    "            X = np.append(X,np.expand_dims(np.load(file),axis=0),axis=0)\n",
    "\n",
    "        return X, X"
   ]
  },
  {
   "cell_type": "code",
   "execution_count": 22,
   "metadata": {},
   "outputs": [],
   "source": [
    "params = {'dim': (128,128,1),\n",
    "          'batch_size':64,\n",
    "          'shuffle': True}\n",
    "\n",
    "training_generator = DataGenerator(files['training'], **params)\n",
    "validation_generator = DataGenerator(files['validation'], **params)"
   ]
  },
  {
   "cell_type": "code",
   "execution_count": 23,
   "metadata": {},
   "outputs": [
    {
     "name": "stdout",
     "output_type": "stream",
     "text": [
      "Epoch 1/100\n",
      "10/10 [==============================] - 11s 860ms/step - loss: 0.0567\n",
      "Epoch 2/100\n",
      "10/10 [==============================] - 9s 857ms/step - loss: 0.0487\n",
      "Epoch 3/100\n",
      "10/10 [==============================] - 9s 870ms/step - loss: 0.0342\n",
      "Epoch 4/100\n",
      "10/10 [==============================] - 9s 845ms/step - loss: 0.0256\n",
      "Epoch 5/100\n",
      "10/10 [==============================] - 9s 868ms/step - loss: 0.0261\n",
      "Epoch 6/100\n",
      "10/10 [==============================] - 9s 860ms/step - loss: 0.0251\n",
      "Epoch 7/100\n",
      "10/10 [==============================] - 9s 875ms/step - loss: 0.0250\n",
      "Epoch 8/100\n",
      "10/10 [==============================] - 9s 854ms/step - loss: 0.0248\n",
      "Epoch 9/100\n",
      "10/10 [==============================] - 9s 869ms/step - loss: 0.0249\n",
      "Epoch 10/100\n",
      "10/10 [==============================] - 8s 833ms/step - loss: 0.0250\n",
      "Epoch 11/100\n",
      "10/10 [==============================] - 9s 863ms/step - loss: 0.0249\n",
      "Epoch 12/100\n",
      "10/10 [==============================] - 9s 900ms/step - loss: 0.0248\n",
      "Epoch 13/100\n",
      "10/10 [==============================] - 9s 842ms/step - loss: 0.0248\n",
      "Epoch 14/100\n",
      "10/10 [==============================] - 9s 896ms/step - loss: 0.0249\n",
      "Epoch 15/100\n",
      "10/10 [==============================] - 9s 863ms/step - loss: 0.0247\n",
      "Epoch 16/100\n",
      "10/10 [==============================] - 9s 873ms/step - loss: 0.0250\n",
      "Epoch 17/100\n",
      "10/10 [==============================] - 8s 822ms/step - loss: 0.0247\n",
      "Epoch 18/100\n",
      "10/10 [==============================] - 9s 886ms/step - loss: 0.0248\n",
      "Epoch 19/100\n",
      "10/10 [==============================] - 9s 840ms/step - loss: 0.0246\n",
      "Epoch 20/100\n",
      "10/10 [==============================] - 9s 875ms/step - loss: 0.0248\n",
      "Epoch 21/100\n",
      "10/10 [==============================] - 9s 863ms/step - loss: 0.0245\n",
      "Epoch 22/100\n",
      "10/10 [==============================] - 9s 838ms/step - loss: 0.0245\n",
      "Epoch 23/100\n",
      "10/10 [==============================] - 9s 877ms/step - loss: 0.0247\n",
      "Epoch 24/100\n",
      "10/10 [==============================] - 8s 826ms/step - loss: 0.0243\n",
      "Epoch 25/100\n",
      "10/10 [==============================] - 9s 863ms/step - loss: 0.0245\n",
      "Epoch 26/100\n",
      "10/10 [==============================] - 9s 902ms/step - loss: 0.0244\n",
      "Epoch 27/100\n",
      "10/10 [==============================] - 9s 873ms/step - loss: 0.0242\n",
      "Epoch 28/100\n",
      "10/10 [==============================] - 9s 842ms/step - loss: 0.0243\n",
      "Epoch 29/100\n",
      "10/10 [==============================] - 9s 853ms/step - loss: 0.0243\n",
      "Epoch 30/100\n",
      "10/10 [==============================] - 9s 866ms/step - loss: 0.0241\n",
      "Epoch 31/100\n",
      "10/10 [==============================] - 9s 840ms/step - loss: 0.0240\n",
      "Epoch 32/100\n",
      "10/10 [==============================] - 9s 921ms/step - loss: 0.0240\n",
      "Epoch 33/100\n",
      "10/10 [==============================] - 9s 882ms/step - loss: 0.0240\n",
      "Epoch 34/100\n",
      "10/10 [==============================] - 9s 875ms/step - loss: 0.0238\n",
      "Epoch 35/100\n",
      "10/10 [==============================] - 9s 858ms/step - loss: 0.0239\n",
      "Epoch 36/100\n",
      "10/10 [==============================] - 9s 889ms/step - loss: 0.0237\n",
      "Epoch 37/100\n",
      "10/10 [==============================] - 9s 857ms/step - loss: 0.0236\n",
      "Epoch 38/100\n",
      "10/10 [==============================] - 9s 898ms/step - loss: 0.0234\n",
      "Epoch 39/100\n",
      "10/10 [==============================] - 9s 900ms/step - loss: 0.0232\n",
      "Epoch 40/100\n",
      "10/10 [==============================] - 8s 828ms/step - loss: 0.0232\n",
      "Epoch 41/100\n",
      "10/10 [==============================] - 9s 861ms/step - loss: 0.0229\n",
      "Epoch 42/100\n",
      "10/10 [==============================] - 8s 818ms/step - loss: 0.0230\n",
      "Epoch 43/100\n",
      "10/10 [==============================] - 9s 868ms/step - loss: 0.0230\n",
      "Epoch 44/100\n",
      "10/10 [==============================] - 9s 847ms/step - loss: 0.0232\n",
      "Epoch 45/100\n",
      "10/10 [==============================] - 9s 849ms/step - loss: 0.0227\n",
      "Epoch 46/100\n",
      "10/10 [==============================] - 9s 852ms/step - loss: 0.0228\n",
      "Epoch 47/100\n",
      "10/10 [==============================] - 9s 900ms/step - loss: 0.0229\n",
      "Epoch 48/100\n",
      "10/10 [==============================] - 9s 848ms/step - loss: 0.0226\n",
      "Epoch 49/100\n",
      "10/10 [==============================] - 9s 885ms/step - loss: 0.0227\n",
      "Epoch 50/100\n",
      "10/10 [==============================] - 9s 887ms/step - loss: 0.0229\n",
      "Epoch 51/100\n",
      "10/10 [==============================] - 9s 876ms/step - loss: 0.0226\n",
      "Epoch 52/100\n",
      "10/10 [==============================] - 9s 873ms/step - loss: 0.0226\n",
      "Epoch 53/100\n",
      "10/10 [==============================] - 9s 932ms/step - loss: 0.0227\n",
      "Epoch 54/100\n",
      "10/10 [==============================] - 9s 879ms/step - loss: 0.0228\n",
      "Epoch 55/100\n",
      "10/10 [==============================] - 9s 841ms/step - loss: 0.0226\n",
      "Epoch 56/100\n",
      "10/10 [==============================] - 9s 921ms/step - loss: 0.0227\n",
      "Epoch 57/100\n",
      "10/10 [==============================] - 9s 848ms/step - loss: 0.0225\n",
      "Epoch 58/100\n",
      "10/10 [==============================] - 8s 788ms/step - loss: 0.0226\n",
      "Epoch 59/100\n",
      "10/10 [==============================] - 7s 679ms/step - loss: 0.0228\n",
      "Epoch 60/100\n",
      "10/10 [==============================] - 7s 681ms/step - loss: 0.0225\n",
      "Epoch 61/100\n",
      "10/10 [==============================] - 8s 827ms/step - loss: 0.0224\n",
      "Epoch 62/100\n",
      "10/10 [==============================] - 9s 821ms/step - loss: 0.0224\n",
      "Epoch 63/100\n",
      "10/10 [==============================] - 8s 831ms/step - loss: 0.0226\n",
      "Epoch 64/100\n",
      "10/10 [==============================] - 8s 786ms/step - loss: 0.0224\n",
      "Epoch 65/100\n",
      "10/10 [==============================] - 9s 887ms/step - loss: 0.0226\n",
      "Epoch 66/100\n",
      "10/10 [==============================] - 8s 817ms/step - loss: 0.0225\n",
      "Epoch 67/100\n",
      "10/10 [==============================] - 9s 853ms/step - loss: 0.0226\n",
      "Epoch 68/100\n",
      "10/10 [==============================] - 8s 814ms/step - loss: 0.0224\n",
      "Epoch 69/100\n",
      "10/10 [==============================] - 8s 803ms/step - loss: 0.0225\n",
      "Epoch 70/100\n",
      "10/10 [==============================] - 8s 762ms/step - loss: 0.0227\n",
      "Epoch 71/100\n",
      "10/10 [==============================] - 7s 684ms/step - loss: 0.0224\n",
      "Epoch 72/100\n",
      "10/10 [==============================] - 7s 707ms/step - loss: 0.0225\n",
      "Epoch 73/100\n",
      "10/10 [==============================] - 8s 743ms/step - loss: 0.0226\n",
      "Epoch 74/100\n",
      "10/10 [==============================] - 8s 814ms/step - loss: 0.0225\n",
      "Epoch 75/100\n",
      "10/10 [==============================] - 9s 844ms/step - loss: 0.0227\n",
      "Epoch 76/100\n",
      "10/10 [==============================] - 8s 822ms/step - loss: 0.0223\n",
      "Epoch 77/100\n",
      "10/10 [==============================] - 9s 875ms/step - loss: 0.0224\n",
      "Epoch 78/100\n",
      "10/10 [==============================] - 8s 823ms/step - loss: 0.0226\n",
      "Epoch 79/100\n",
      "10/10 [==============================] - 9s 863ms/step - loss: 0.0226\n",
      "Epoch 80/100\n",
      "10/10 [==============================] - 9s 835ms/step - loss: 0.0224\n",
      "Epoch 81/100\n",
      "10/10 [==============================] - 9s 894ms/step - loss: 0.0226\n",
      "Epoch 82/100\n",
      "10/10 [==============================] - 9s 892ms/step - loss: 0.0227\n",
      "Epoch 83/100\n",
      "10/10 [==============================] - 9s 863ms/step - loss: 0.0226\n",
      "Epoch 84/100\n",
      "10/10 [==============================] - 9s 845ms/step - loss: 0.0224\n",
      "Epoch 85/100\n",
      "10/10 [==============================] - 9s 837ms/step - loss: 0.0225\n",
      "Epoch 86/100\n",
      "10/10 [==============================] - 9s 887ms/step - loss: 0.0225\n",
      "Epoch 87/100\n",
      "10/10 [==============================] - 8s 736ms/step - loss: 0.0224\n",
      "Epoch 88/100\n",
      "10/10 [==============================] - 9s 856ms/step - loss: 0.0224\n",
      "Epoch 89/100\n",
      "10/10 [==============================] - 8s 804ms/step - loss: 0.0227\n",
      "Epoch 90/100\n",
      "10/10 [==============================] - 9s 880ms/step - loss: 0.0226\n",
      "Epoch 91/100\n",
      "10/10 [==============================] - 9s 838ms/step - loss: 0.0226\n",
      "Epoch 92/100\n",
      "10/10 [==============================] - 9s 877ms/step - loss: 0.0225\n",
      "Epoch 93/100\n",
      "10/10 [==============================] - 9s 837ms/step - loss: 0.0226\n",
      "Epoch 94/100\n",
      "10/10 [==============================] - 9s 876ms/step - loss: 0.0224\n",
      "Epoch 95/100\n",
      "10/10 [==============================] - 9s 864ms/step - loss: 0.0226\n",
      "Epoch 96/100\n",
      "10/10 [==============================] - 8s 816ms/step - loss: 0.0225\n",
      "Epoch 97/100\n",
      "10/10 [==============================] - 9s 882ms/step - loss: 0.0227\n",
      "Epoch 98/100\n",
      "10/10 [==============================] - 9s 846ms/step - loss: 0.0224\n",
      "Epoch 99/100\n"
     ]
    },
    {
     "name": "stdout",
     "output_type": "stream",
     "text": [
      "10/10 [==============================] - 9s 895ms/step - loss: 0.0224\n",
      "Epoch 100/100\n",
      "10/10 [==============================] - 8s 777ms/step - loss: 0.0226\n"
     ]
    }
   ],
   "source": [
    "history = autoencoder.fit(training_generator,epochs=100,\n",
    "                    validation_data=validation_generator)"
   ]
  },
  {
   "cell_type": "code",
   "execution_count": 24,
   "metadata": {},
   "outputs": [
    {
     "name": "stdout",
     "output_type": "stream",
     "text": [
      "dict_keys(['loss'])\n"
     ]
    },
    {
     "ename": "KeyError",
     "evalue": "'val_loss'",
     "output_type": "error",
     "traceback": [
      "\u001b[1;31m---------------------------------------------------------------------------\u001b[0m",
      "\u001b[1;31mKeyError\u001b[0m                                  Traceback (most recent call last)",
      "\u001b[1;32m<ipython-input-24-1a3b389d08ba>\u001b[0m in \u001b[0;36m<module>\u001b[1;34m\u001b[0m\n\u001b[0;32m      4\u001b[0m \u001b[1;33m\u001b[0m\u001b[0m\n\u001b[0;32m      5\u001b[0m \u001b[0mplt\u001b[0m\u001b[1;33m.\u001b[0m\u001b[0mplot\u001b[0m\u001b[1;33m(\u001b[0m\u001b[0mhistory\u001b[0m\u001b[1;33m.\u001b[0m\u001b[0mhistory\u001b[0m\u001b[1;33m[\u001b[0m\u001b[1;34m'loss'\u001b[0m\u001b[1;33m]\u001b[0m\u001b[1;33m)\u001b[0m\u001b[1;33m\u001b[0m\u001b[1;33m\u001b[0m\u001b[0m\n\u001b[1;32m----> 6\u001b[1;33m \u001b[0mplt\u001b[0m\u001b[1;33m.\u001b[0m\u001b[0mplot\u001b[0m\u001b[1;33m(\u001b[0m\u001b[0mhistory\u001b[0m\u001b[1;33m.\u001b[0m\u001b[0mhistory\u001b[0m\u001b[1;33m[\u001b[0m\u001b[1;34m'val_loss'\u001b[0m\u001b[1;33m]\u001b[0m\u001b[1;33m)\u001b[0m\u001b[1;33m\u001b[0m\u001b[1;33m\u001b[0m\u001b[0m\n\u001b[0m\u001b[0;32m      7\u001b[0m \u001b[0mplt\u001b[0m\u001b[1;33m.\u001b[0m\u001b[0mtitle\u001b[0m\u001b[1;33m(\u001b[0m\u001b[1;34m'model loss'\u001b[0m\u001b[1;33m)\u001b[0m\u001b[1;33m\u001b[0m\u001b[1;33m\u001b[0m\u001b[0m\n\u001b[0;32m      8\u001b[0m \u001b[0mplt\u001b[0m\u001b[1;33m.\u001b[0m\u001b[0mylabel\u001b[0m\u001b[1;33m(\u001b[0m\u001b[1;34m'loss'\u001b[0m\u001b[1;33m)\u001b[0m\u001b[1;33m\u001b[0m\u001b[1;33m\u001b[0m\u001b[0m\n",
      "\u001b[1;31mKeyError\u001b[0m: 'val_loss'"
     ]
    },
    {
     "data": {
      "image/png": "[encoded data removed]",
      "text/plain": [
       "<Figure size 432x288 with 1 Axes>"
      ]
     },
     "metadata": {
      "needs_background": "light"
     },
     "output_type": "display_data"
    }
   ],
   "source": [
    "import numpy as np\n",
    "import matplotlib.pyplot as plt\n",
    "print(history.history.keys())\n",
    "\n",
    "plt.plot(history.history['loss'])\n",
    "plt.plot(history.history['val_loss'])\n",
    "plt.title('model loss')\n",
    "plt.ylabel('loss')\n",
    "plt.xlabel('epoch')\n",
    "plt.legend(['train', 'validation'], loc='upper right')\n",
    "plt.show()"
   ]
  },
  {
   "cell_type": "code",
   "execution_count": 25,
   "metadata": {},
   "outputs": [],
   "source": [
    "test_input = np.load(files['testing'][0])"
   ]
  },
  {
   "cell_type": "code",
   "execution_count": 26,
   "metadata": {},
   "outputs": [],
   "source": [
    "decoded_data = autoencoder.predict(np.array([test_input]))"
   ]
  },
  {
   "cell_type": "code",
   "execution_count": 88,
   "metadata": {},
   "outputs": [],
   "source": [
    "decoder = Model(data_inputs,decoded)"
   ]
  },
  {
   "cell_type": "code",
   "execution_count": 89,
   "metadata": {},
   "outputs": [
    {
     "name": "stdout",
     "output_type": "stream",
     "text": [
      "WARNING:tensorflow:8 out of the last 11 calls to <function Model.make_predict_function.<locals>.predict_function at 0x0000018194CF5B80> triggered tf.function retracing. Tracing is expensive and the excessive number of tracings could be due to (1) creating @tf.function repeatedly in a loop, (2) passing tensors with different shapes, (3) passing Python objects instead of tensors. For (1), please define your @tf.function outside of the loop. For (2), @tf.function has experimental_relax_shapes=True option that relaxes argument shapes that can avoid unnecessary retracing. For (3), please refer to https://www.tensorflow.org/guide/function#controlling_retracing and https://www.tensorflow.org/api_docs/python/tf/function for  more details.\n"
     ]
    }
   ],
   "source": [
    "decoded_data = decoder.predict(np.array([test_inputs[1]]))"
   ]
  },
  {
   "cell_type": "code",
   "execution_count": 27,
   "metadata": {},
   "outputs": [
    {
     "data": {
      "text/plain": [
       "(1, 128, 128, 1)"
      ]
     },
     "execution_count": 27,
     "metadata": {},
     "output_type": "execute_result"
    }
   ],
   "source": [
    "decoded_data.shape"
   ]
  },
  {
   "cell_type": "code",
   "execution_count": 29,
   "metadata": {},
   "outputs": [
    {
     "data": {
      "image/png": "[encoded data removed]",
      "text/plain": [
       "<Figure size 432x288 with 1 Axes>"
      ]
     },
     "metadata": {
      "needs_background": "light"
     },
     "output_type": "display_data"
    },
    {
     "data": {
      "image/png": "[encoded data removed]",
      "text/plain": [
       "<Figure size 432x288 with 1 Axes>"
      ]
     },
     "metadata": {
      "needs_background": "light"
     },
     "output_type": "display_data"
    }
   ],
   "source": [
    "plt.imshow(test_input[:,:,0],cmap='hot')\n",
    "plt.title('Original Input')\n",
    "plt.show()\n",
    "plt.imshow(decoded_data[0,:,:,0],cmap='hot')\n",
    "plt.title('Decoded Output')\n",
    "plt.show()"
   ]
  },
  {
   "cell_type": "code",
   "execution_count": null,
   "metadata": {},
   "outputs": [],
   "source": []
  }
 ],
 "metadata": {
  "kernelspec": {
   "display_name": "Python 3",
   "language": "python",
   "name": "python3"
  },
  "language_info": {
   "codemirror_mode": {
    "name": "ipython",
    "version": 3
   },
   "file_extension": ".py",
   "mimetype": "text/x-python",
   "name": "python",
   "nbconvert_exporter": "python",
   "pygments_lexer": "ipython3",
   "version": "3.8.3"
  }
 },
 "nbformat": 4,
 "nbformat_minor": 4
}
