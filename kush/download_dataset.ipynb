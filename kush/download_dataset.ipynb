{
 "cells": [
  {
   "cell_type": "code",
   "execution_count": 1,
   "metadata": {},
   "outputs": [],
   "source": [
    "import netCDF4 as nc\n",
    "import numpy as np\n",
    "from tqdm import tqdm\n",
    "import math"
   ]
  },
  {
   "cell_type": "code",
   "execution_count": 2,
   "metadata": {},
   "outputs": [],
   "source": [
    "def fix_missing_value(input_data):\n",
    "    \"\"\"\n",
    "    fixed missing values with 0\n",
    "    \"\"\"\n",
    "    for i in range(0,len(input_data)):\n",
    "        arr = input_data[i]\n",
    "        arr[arr == -32768] = 0"
   ]
  },
  {
   "cell_type": "code",
   "execution_count": 3,
   "metadata": {},
   "outputs": [],
   "source": [
    "def normalize_matrix(matrix):\n",
    "    \"\"\"\n",
    "    Normalize the input\n",
    "    \n",
    "    \"\"\"\n",
    "    norm = np.linalg.norm(matrix)\n",
    "    matrix = matrix/norm  # normalized matrix\n",
    "    return matrix"
   ]
  },
  {
   "cell_type": "code",
   "execution_count": 4,
   "metadata": {},
   "outputs": [],
   "source": [
    "lat = 128 # chunk size\n",
    "long = 128 # chunk size\n",
    "def split_array(input_data, lat, long,region=100):\n",
    "    \"\"\"\n",
    "    Split the whole 3600*1500 array into smaller chunks.\n",
    "    Padding with zeros to make the array be divisible by chunk size.\n",
    "    \n",
    "    Args:\n",
    "        input_data: data of a single day from a eta_t instance\n",
    "        lat: chunk size\n",
    "        long: chunk size\n",
    "    \"\"\"\n",
    "    pad_cols = math.ceil(3600/long)*long - 3600 # number of zero columns adding to the right\n",
    "    pad_rows = math.ceil(1500/lat)*lat - 1500 # number of zero rows adding to the bottom\n",
    "    \n",
    "\n",
    "    input_data=np.pad(input_data,((0,pad_rows),(0,pad_cols)), 'constant',constant_values=(0,0)) # padding with zeros, right & bottom\n",
    "    \n",
    "    l = np.array_split(input_data,len(input_data)/lat,axis=0)\n",
    "    input_data_split = []\n",
    "    for i in range(len(l)):\n",
    "        dd = np.array_split(l[i],len(input_data[0])/long,axis=1)\n",
    "        input_data_split += dd\n",
    "    input_data_split = np.array(input_data_split)\n",
    "    return input_data_split[region]"
   ]
  },
  {
   "cell_type": "code",
   "execution_count": 14,
   "metadata": {},
   "outputs": [
    {
     "name": "stderr",
     "output_type": "stream",
     "text": [
      "\r",
      "  0%|          | 0/12 [00:00<?, ?it/s]"
     ]
    },
    {
     "name": "stdout",
     "output_type": "stream",
     "text": [
      "year:  1994  month:  1\n"
     ]
    },
    {
     "name": "stderr",
     "output_type": "stream",
     "text": [
      "\r",
      "  8%|▊         | 1/12 [06:16<1:08:57, 376.16s/it]"
     ]
    },
    {
     "name": "stdout",
     "output_type": "stream",
     "text": [
      "year:  1994  month:  2\n"
     ]
    },
    {
     "name": "stderr",
     "output_type": "stream",
     "text": [
      "\r",
      " 17%|█▋        | 2/12 [12:29<1:02:34, 375.45s/it]"
     ]
    },
    {
     "name": "stdout",
     "output_type": "stream",
     "text": [
      "year:  1994  month:  3\n"
     ]
    },
    {
     "name": "stderr",
     "output_type": "stream",
     "text": [
      "\r",
      " 25%|██▌       | 3/12 [17:34<53:07, 354.21s/it]  "
     ]
    },
    {
     "name": "stdout",
     "output_type": "stream",
     "text": [
      "year:  1994  month:  4\n"
     ]
    },
    {
     "name": "stderr",
     "output_type": "stream",
     "text": [
      "\r",
      " 33%|███▎      | 4/12 [21:38<42:49, 321.23s/it]"
     ]
    },
    {
     "name": "stdout",
     "output_type": "stream",
     "text": [
      "year:  1994  month:  5\n"
     ]
    },
    {
     "name": "stderr",
     "output_type": "stream",
     "text": [
      "\r",
      " 42%|████▏     | 5/12 [25:17<33:52, 290.39s/it]"
     ]
    },
    {
     "name": "stdout",
     "output_type": "stream",
     "text": [
      "year:  1994  month:  6\n"
     ]
    },
    {
     "name": "stderr",
     "output_type": "stream",
     "text": [
      "\r",
      " 50%|█████     | 6/12 [28:26<26:00, 260.14s/it]"
     ]
    },
    {
     "name": "stdout",
     "output_type": "stream",
     "text": [
      "year:  1994  month:  7\n"
     ]
    },
    {
     "name": "stderr",
     "output_type": "stream",
     "text": [
      "\r",
      " 58%|█████▊    | 7/12 [31:54<20:21, 244.31s/it]"
     ]
    },
    {
     "name": "stdout",
     "output_type": "stream",
     "text": [
      "year:  1994  month:  8\n"
     ]
    },
    {
     "name": "stderr",
     "output_type": "stream",
     "text": [
      "\r",
      " 67%|██████▋   | 8/12 [35:25<15:37, 234.35s/it]"
     ]
    },
    {
     "name": "stdout",
     "output_type": "stream",
     "text": [
      "year:  1994  month:  9\n"
     ]
    },
    {
     "name": "stderr",
     "output_type": "stream",
     "text": [
      "\r",
      " 75%|███████▌  | 9/12 [38:17<10:47, 215.72s/it]"
     ]
    },
    {
     "name": "stdout",
     "output_type": "stream",
     "text": [
      "year:  1994  month:  10\n"
     ]
    },
    {
     "name": "stderr",
     "output_type": "stream",
     "text": [
      "\r",
      " 83%|████████▎ | 10/12 [41:04<06:42, 201.17s/it]"
     ]
    },
    {
     "name": "stdout",
     "output_type": "stream",
     "text": [
      "year:  1994  month:  11\n"
     ]
    },
    {
     "name": "stderr",
     "output_type": "stream",
     "text": [
      "\r",
      " 92%|█████████▏| 11/12 [43:55<03:11, 191.89s/it]"
     ]
    },
    {
     "name": "stdout",
     "output_type": "stream",
     "text": [
      "year:  1994  month:  12\n"
     ]
    },
    {
     "name": "stderr",
     "output_type": "stream",
     "text": [
      "100%|██████████| 12/12 [47:14<00:00, 236.24s/it]\n",
      "  0%|          | 0/12 [00:00<?, ?it/s]"
     ]
    },
    {
     "name": "stdout",
     "output_type": "stream",
     "text": [
      "year:  1995  month:  1\n"
     ]
    },
    {
     "name": "stderr",
     "output_type": "stream",
     "text": [
      "\r",
      "  8%|▊         | 1/12 [03:18<36:19, 198.13s/it]"
     ]
    },
    {
     "name": "stdout",
     "output_type": "stream",
     "text": [
      "year:  1995  month:  2\n"
     ]
    },
    {
     "name": "stderr",
     "output_type": "stream",
     "text": [
      "\r",
      " 17%|█▋        | 2/12 [06:06<31:33, 189.31s/it]"
     ]
    },
    {
     "name": "stdout",
     "output_type": "stream",
     "text": [
      "year:  1995  month:  3\n"
     ]
    },
    {
     "name": "stderr",
     "output_type": "stream",
     "text": [
      "\r",
      " 25%|██▌       | 3/12 [09:08<28:03, 187.09s/it]"
     ]
    },
    {
     "name": "stdout",
     "output_type": "stream",
     "text": [
      "year:  1995  month:  4\n"
     ]
    },
    {
     "name": "stderr",
     "output_type": "stream",
     "text": [
      "\r",
      " 33%|███▎      | 4/12 [12:12<24:48, 186.09s/it]"
     ]
    },
    {
     "name": "stdout",
     "output_type": "stream",
     "text": [
      "year:  1995  month:  5\n"
     ]
    },
    {
     "name": "stderr",
     "output_type": "stream",
     "text": [
      "\r",
      " 42%|████▏     | 5/12 [15:41<22:29, 192.85s/it]"
     ]
    },
    {
     "name": "stdout",
     "output_type": "stream",
     "text": [
      "year:  1995  month:  6\n"
     ]
    },
    {
     "name": "stderr",
     "output_type": "stream",
     "text": [
      "\r",
      " 50%|█████     | 6/12 [19:16<19:56, 199.50s/it]"
     ]
    },
    {
     "name": "stdout",
     "output_type": "stream",
     "text": [
      "year:  1995  month:  7\n"
     ]
    },
    {
     "name": "stderr",
     "output_type": "stream",
     "text": [
      "\r",
      " 58%|█████▊    | 7/12 [23:48<18:26, 221.27s/it]"
     ]
    },
    {
     "name": "stdout",
     "output_type": "stream",
     "text": [
      "year:  1995  month:  8\n"
     ]
    },
    {
     "name": "stderr",
     "output_type": "stream",
     "text": [
      "\r",
      " 67%|██████▋   | 8/12 [27:28<14:43, 220.90s/it]"
     ]
    },
    {
     "name": "stdout",
     "output_type": "stream",
     "text": [
      "year:  1995  month:  9\n"
     ]
    },
    {
     "name": "stderr",
     "output_type": "stream",
     "text": [
      "\r",
      " 75%|███████▌  | 9/12 [35:26<14:53, 297.98s/it]"
     ]
    },
    {
     "name": "stdout",
     "output_type": "stream",
     "text": [
      "year:  1995  month:  10\n"
     ]
    },
    {
     "name": "stderr",
     "output_type": "stream",
     "text": [
      "\r",
      " 83%|████████▎ | 10/12 [41:49<10:46, 323.45s/it]"
     ]
    },
    {
     "name": "stdout",
     "output_type": "stream",
     "text": [
      "year:  1995  month:  11\n"
     ]
    },
    {
     "name": "stderr",
     "output_type": "stream",
     "text": [
      "\r",
      " 92%|█████████▏| 11/12 [50:05<06:15, 375.30s/it]"
     ]
    },
    {
     "name": "stdout",
     "output_type": "stream",
     "text": [
      "year:  1995  month:  12\n"
     ]
    },
    {
     "name": "stderr",
     "output_type": "stream",
     "text": [
      "100%|██████████| 12/12 [55:22<00:00, 276.91s/it]\n"
     ]
    }
   ],
   "source": [
    "folder = 'dataset1'\n",
    "num_of_years = 2\n",
    "region = 100\n",
    "\n",
    "basic_url = 'http://dapds00.nci.org.au/thredds/dodsC/gb6/BRAN/BRAN_2016/OFAM/ocean_eta_t_'\n",
    "year = 1993\n",
    "for i in range(num_of_years):\n",
    "  year += 1\n",
    "  month = 0\n",
    "  for j in tqdm(range(12)):\n",
    "    month += 1\n",
    "    if month > 9:\n",
    "      m = str(month)\n",
    "    else:\n",
    "      m = '0'+str(month)\n",
    "    print('year: ',year,' month: ',month)\n",
    "    y = str(year)\n",
    "    url = basic_url + y + '_' + m + '.nc'\n",
    "    data = nc.Dataset(url)\n",
    "    variables = data.variables\n",
    "    eta_t = variables['eta_t'][:]\n",
    "    size = eta_t.shape[0]\n",
    "    for i in range(size):\n",
    "      eta_t_day_i = eta_t[i]\n",
    "      eta_t_numpy = np.array(eta_t_day_i)\n",
    "      fix_missing_value(eta_t_numpy)\n",
    "      normalize_matrix(eta_t_numpy)\n",
    "      inputs = split_array(eta_t_numpy,lat,long,region)\n",
    "      inputsx = np.expand_dims(inputs,axis=2)\n",
    "      file_name = './'+folder+'/128x128_'+y+'_'+m+'_'+str(i+1)+'.npy'\n",
    "      np.save(file_name,inputsx) "
   ]
  },
  {
   "cell_type": "code",
   "execution_count": 5,
   "metadata": {},
   "outputs": [],
   "source": []
  }
 ],
 "metadata": {
  "kernelspec": {
   "display_name": "Python 3",
   "language": "python",
   "name": "python3"
  },
  "language_info": {
   "codemirror_mode": {
    "name": "ipython",
    "version": 3
   },
   "file_extension": ".py",
   "mimetype": "text/x-python",
   "name": "python",
   "nbconvert_exporter": "python",
   "pygments_lexer": "ipython3",
   "version": "3.8.3"
  }
 },
 "nbformat": 4,
 "nbformat_minor": 4
}
