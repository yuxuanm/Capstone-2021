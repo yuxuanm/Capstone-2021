{
  "nbformat": 4,
  "nbformat_minor": 0,
  "metadata": {
    "colab": {
      "name": "cnn_autoencoder.ipynb",
      "provenance": [],
      "collapsed_sections": []
    },
    "kernelspec": {
      "display_name": "Python 3",
      "name": "python3"
    },
    "language_info": {
      "name": "python"
    }
  },
  "cells": [
    {
      "cell_type": "code",
      "metadata": {
        "id": "MU3ebidLnLku"
      },
      "source": [
        "url = 'http://dapds00.nci.org.au/thredds/dodsC/gb6/BRAN/BRAN_2016/OFAM/ocean_eta_t_2000_01.nc'"
      ],
      "execution_count": null,
      "outputs": []
    },
    {
      "cell_type": "code",
      "metadata": {
        "id": "QT257dxLnUdX"
      },
      "source": [
        "import xarray\n",
        "import numpy as np"
      ],
      "execution_count": null,
      "outputs": []
    },
    {
      "cell_type": "code",
      "metadata": {
        "id": "rUn03vfjnc1V"
      },
      "source": [
        "data = xarray.open_dataset(url)"
      ],
      "execution_count": null,
      "outputs": []
    },
    {
      "cell_type": "code",
      "metadata": {
        "id": "C4f922blnkeR"
      },
      "source": [
        "eta_t = data['eta_t']"
      ],
      "execution_count": null,
      "outputs": []
    },
    {
      "cell_type": "code",
      "metadata": {
        "id": "7BVgmxOOnt8t"
      },
      "source": [
        "eta_t_numpy = np.array(eta_t)"
      ],
      "execution_count": null,
      "outputs": []
    },
    {
      "cell_type": "code",
      "metadata": {
        "id": "6hrNts-pnx0J"
      },
      "source": [
        "eta_t_numpy = np.nan_to_num(eta_t_numpy)"
      ],
      "execution_count": null,
      "outputs": []
    },
    {
      "cell_type": "code",
      "metadata": {
        "id": "gsY8jULtqQIC"
      },
      "source": [
        "eta_t_numpy.shape"
      ],
      "execution_count": null,
      "outputs": []
    },
    {
      "cell_type": "code",
      "metadata": {
        "id": "Nns7CDqyqT6q"
      },
      "source": [
        "day1_eta_t = eta_t_numpy[0,:,:]"
      ],
      "execution_count": null,
      "outputs": []
    },
    {
      "cell_type": "code",
      "metadata": {
        "id": "rywC_J_Mqbt1",
        "colab": {
          "base_uri": "https://localhost:8080/"
        },
        "outputId": "be27620f-e5ee-457e-a986-cb82f8fc77b9"
      },
      "source": [
        "day1_eta_t.shape"
      ],
      "execution_count": null,
      "outputs": [
        {
          "output_type": "execute_result",
          "data": {
            "text/plain": [
              "(1500, 3600)"
            ]
          },
          "metadata": {
            "tags": []
          },
          "execution_count": 9
        }
      ]
    },
    {
      "cell_type": "code",
      "metadata": {
        "colab": {
          "base_uri": "https://localhost:8080/",
          "height": 174
        },
        "id": "oOgeNyGEqdcU",
        "outputId": "8ce8f4fb-88a0-4dc9-9902-5a6a06b083b6"
      },
      "source": [
        "day1_eta_t_padded[200:210,200:210]"
      ],
      "execution_count": null,
      "outputs": [
        {
          "output_type": "error",
          "ename": "NameError",
          "evalue": "ignored",
          "traceback": [
            "\u001b[0;31m---------------------------------------------------------------------------\u001b[0m",
            "\u001b[0;31mNameError\u001b[0m                                 Traceback (most recent call last)",
            "\u001b[0;32m<ipython-input-15-57aa7777e0a1>\u001b[0m in \u001b[0;36m<module>\u001b[0;34m()\u001b[0m\n\u001b[0;32m----> 1\u001b[0;31m \u001b[0mday1_eta_t_padded\u001b[0m\u001b[0;34m[\u001b[0m\u001b[0;36m200\u001b[0m\u001b[0;34m:\u001b[0m\u001b[0;36m210\u001b[0m\u001b[0;34m,\u001b[0m\u001b[0;36m200\u001b[0m\u001b[0;34m:\u001b[0m\u001b[0;36m210\u001b[0m\u001b[0;34m]\u001b[0m\u001b[0;34m\u001b[0m\u001b[0;34m\u001b[0m\u001b[0m\n\u001b[0m",
            "\u001b[0;31mNameError\u001b[0m: name 'day1_eta_t_padded' is not defined"
          ]
        }
      ]
    },
    {
      "cell_type": "code",
      "metadata": {
        "id": "6-LxOdz3ZeZJ"
      },
      "source": [
        "day1_eta_t_padded = np.zeros((1536,3712))\n",
        "day1_eta_t_padded[:day1_eta_t.shape[0],:day1_eta_t.shape[1]] = day1_eta_t"
      ],
      "execution_count": null,
      "outputs": []
    },
    {
      "cell_type": "code",
      "metadata": {
        "colab": {
          "base_uri": "https://localhost:8080/"
        },
        "id": "Z1I6KLPuZp7E",
        "outputId": "83f78797-36cc-408e-b6dd-4331b80f8a03"
      },
      "source": [
        "day1_eta_t_padded.shape"
      ],
      "execution_count": null,
      "outputs": [
        {
          "output_type": "execute_result",
          "data": {
            "text/plain": [
              "(1536, 3712)"
            ]
          },
          "metadata": {
            "tags": []
          },
          "execution_count": 11
        }
      ]
    },
    {
      "cell_type": "code",
      "metadata": {
        "id": "_1-26Rh_HI7m"
      },
      "source": [
        "dataset = []\n",
        "\n",
        "i=0\n",
        "j=128\n",
        "\n",
        "while i < 1536:\n",
        "  m = 0\n",
        "  n = 128\n",
        "  while m < 3712:\n",
        "    matrix = day1_eta_t_padded[i:j,m:n]\n",
        "    matrix = np.expand_dims(matrix,axis=2)\n",
        "    dataset.append(matrix)\n",
        "    m += 128\n",
        "    n += 128\n",
        "  i += 128\n",
        "  j += 128\n"
      ],
      "execution_count": null,
      "outputs": []
    },
    {
      "cell_type": "code",
      "metadata": {
        "id": "iz2JbDH1aADR"
      },
      "source": [
        "dataset = np.array(dataset)"
      ],
      "execution_count": null,
      "outputs": []
    },
    {
      "cell_type": "code",
      "metadata": {
        "colab": {
          "base_uri": "https://localhost:8080/"
        },
        "id": "QFkO75iZaDRh",
        "outputId": "0615f0f9-5fad-4589-8556-02496f6c86cf"
      },
      "source": [
        "dataset.shape"
      ],
      "execution_count": null,
      "outputs": [
        {
          "output_type": "execute_result",
          "data": {
            "text/plain": [
              "(348, 128, 128, 1)"
            ]
          },
          "metadata": {
            "tags": []
          },
          "execution_count": 14
        }
      ]
    },
    {
      "cell_type": "code",
      "metadata": {
        "id": "WBqRcOb_ZM6G"
      },
      "source": [
        "import tensorflow as tf\n",
        "from tensorflow.keras.layers import Input, Dense, Conv2D, Activation, MaxPool2D, UpSampling2D\n",
        "from tensorflow.keras.layers import BatchNormalization, Flatten, Reshape, Conv2DTranspose, LeakyReLU\n",
        "from tensorflow.keras.models import Model\n",
        "from tensorflow.keras.optimizers import Adam, SGD"
      ],
      "execution_count": null,
      "outputs": []
    },
    {
      "cell_type": "code",
      "metadata": {
        "id": "72StuZOkbC5u"
      },
      "source": [
        "data_inputs = Input(shape=(128,128,1))\n",
        "\n",
        "x = Conv2D(16,(3,3),activation='relu',padding='same')(data_inputs)\n",
        "#x = BatchNormalization()(x)\n",
        "x = MaxPool2D((2,2),padding='same')(x)\n",
        "x = Conv2D(8,(3,3),activation='relu',padding='same')(x)\n",
        "#x = BatchNormalization()(x)\n",
        "x = MaxPool2D((2,2),padding='same')(x)\n",
        "x = Conv2D(8,(3,3),activation='relu',padding='same')(x)\n",
        "encoded = MaxPool2D((2,2),padding='same')(x)\n",
        "\n",
        "x = Conv2D(8,(3,3),activation='relu',padding='same')(encoded)\n",
        "x = UpSampling2D((2,2))(x)\n",
        "x = Conv2D(8,(3,3),activation='relu',padding='same')(x)\n",
        "x = UpSampling2D((2,2))(x)\n",
        "x = Conv2D(16,(3,3),activation='relu',padding='same')(x)\n",
        "x = UpSampling2D((2,2))(x)\n",
        "decoded = Conv2D(1,(3,3),activation='relu',padding='same')(x)\n",
        "\n",
        "autoencoder = Model(data_inputs,decoded)\n",
        "autoencoder.compile(optimizer='adam',loss='mse')"
      ],
      "execution_count": null,
      "outputs": []
    },
    {
      "cell_type": "code",
      "metadata": {
        "id": "iGv6k6Y1SuAj",
        "colab": {
          "base_uri": "https://localhost:8080/"
        },
        "outputId": "f839e741-92fe-44c1-89b2-d768aee1cb43"
      },
      "source": [
        "autoencoder.summary()"
      ],
      "execution_count": null,
      "outputs": [
        {
          "output_type": "stream",
          "text": [
            "Model: \"model\"\n",
            "_________________________________________________________________\n",
            "Layer (type)                 Output Shape              Param #   \n",
            "=================================================================\n",
            "input_1 (InputLayer)         [(None, 128, 128, 1)]     0         \n",
            "_________________________________________________________________\n",
            "conv2d (Conv2D)              (None, 128, 128, 16)      160       \n",
            "_________________________________________________________________\n",
            "max_pooling2d (MaxPooling2D) (None, 64, 64, 16)        0         \n",
            "_________________________________________________________________\n",
            "conv2d_1 (Conv2D)            (None, 64, 64, 8)         1160      \n",
            "_________________________________________________________________\n",
            "max_pooling2d_1 (MaxPooling2 (None, 32, 32, 8)         0         \n",
            "_________________________________________________________________\n",
            "conv2d_2 (Conv2D)            (None, 32, 32, 8)         584       \n",
            "_________________________________________________________________\n",
            "max_pooling2d_2 (MaxPooling2 (None, 16, 16, 8)         0         \n",
            "_________________________________________________________________\n",
            "conv2d_3 (Conv2D)            (None, 16, 16, 8)         584       \n",
            "_________________________________________________________________\n",
            "up_sampling2d (UpSampling2D) (None, 32, 32, 8)         0         \n",
            "_________________________________________________________________\n",
            "conv2d_4 (Conv2D)            (None, 32, 32, 8)         584       \n",
            "_________________________________________________________________\n",
            "up_sampling2d_1 (UpSampling2 (None, 64, 64, 8)         0         \n",
            "_________________________________________________________________\n",
            "conv2d_5 (Conv2D)            (None, 64, 64, 16)        1168      \n",
            "_________________________________________________________________\n",
            "up_sampling2d_2 (UpSampling2 (None, 128, 128, 16)      0         \n",
            "_________________________________________________________________\n",
            "conv2d_6 (Conv2D)            (None, 128, 128, 1)       145       \n",
            "=================================================================\n",
            "Total params: 4,385\n",
            "Trainable params: 4,385\n",
            "Non-trainable params: 0\n",
            "_________________________________________________________________\n"
          ],
          "name": "stdout"
        }
      ]
    },
    {
      "cell_type": "code",
      "metadata": {
        "id": "sNcNyev7S9in",
        "colab": {
          "base_uri": "https://localhost:8080/"
        },
        "outputId": "b41a7c1c-59ce-4fda-f0c5-4d670ee976ff"
      },
      "source": [
        "np.random.shuffle(dataset)\n",
        "print(dataset.shape)\n",
        "train_inputs = dataset[:278,:,:,:]\n",
        "val_inputs = dataset[278:348,:,:,:]"
      ],
      "execution_count": null,
      "outputs": [
        {
          "output_type": "stream",
          "text": [
            "(348, 128, 128, 1)\n"
          ],
          "name": "stdout"
        }
      ]
    },
    {
      "cell_type": "code",
      "metadata": {
        "id": "9Y-lxfnTTOVq",
        "colab": {
          "base_uri": "https://localhost:8080/"
        },
        "outputId": "003ffec1-e0ac-4c04-ee2f-db7bea1fe825"
      },
      "source": [
        "history = autoencoder.fit(train_inputs, train_inputs, epochs=20,validation_data=(val_inputs,val_inputs))"
      ],
      "execution_count": null,
      "outputs": [
        {
          "output_type": "stream",
          "text": [
            "Epoch 1/20\n",
            "9/9 [==============================] - 8s 797ms/step - loss: 0.3841 - val_loss: 0.2478\n",
            "Epoch 2/20\n",
            "9/9 [==============================] - 7s 770ms/step - loss: 0.3533 - val_loss: 0.2475\n",
            "Epoch 3/20\n",
            "9/9 [==============================] - 7s 760ms/step - loss: 0.3510 - val_loss: 0.2451\n",
            "Epoch 4/20\n",
            "9/9 [==============================] - 7s 762ms/step - loss: 0.3494 - val_loss: 0.2440\n",
            "Epoch 5/20\n",
            "9/9 [==============================] - 7s 763ms/step - loss: 0.3486 - val_loss: 0.2436\n",
            "Epoch 6/20\n",
            "9/9 [==============================] - 7s 762ms/step - loss: 0.3480 - val_loss: 0.2433\n",
            "Epoch 7/20\n",
            "9/9 [==============================] - 7s 764ms/step - loss: 0.3473 - val_loss: 0.2425\n",
            "Epoch 8/20\n",
            "9/9 [==============================] - 7s 764ms/step - loss: 0.3466 - val_loss: 0.2421\n",
            "Epoch 9/20\n",
            "9/9 [==============================] - 7s 767ms/step - loss: 0.3461 - val_loss: 0.2419\n",
            "Epoch 10/20\n",
            "9/9 [==============================] - 7s 769ms/step - loss: 0.3458 - val_loss: 0.2419\n",
            "Epoch 11/20\n",
            "9/9 [==============================] - 7s 770ms/step - loss: 0.3457 - val_loss: 0.2416\n",
            "Epoch 12/20\n",
            "9/9 [==============================] - 7s 768ms/step - loss: 0.3454 - val_loss: 0.2415\n",
            "Epoch 13/20\n",
            "9/9 [==============================] - 7s 769ms/step - loss: 0.3453 - val_loss: 0.2413\n",
            "Epoch 14/20\n",
            "9/9 [==============================] - 7s 767ms/step - loss: 0.3451 - val_loss: 0.2412\n",
            "Epoch 15/20\n",
            "9/9 [==============================] - 7s 769ms/step - loss: 0.3450 - val_loss: 0.2412\n",
            "Epoch 16/20\n",
            "9/9 [==============================] - 7s 771ms/step - loss: 0.3449 - val_loss: 0.2412\n",
            "Epoch 17/20\n",
            "9/9 [==============================] - 7s 766ms/step - loss: 0.3449 - val_loss: 0.2410\n",
            "Epoch 18/20\n",
            "9/9 [==============================] - 7s 766ms/step - loss: 0.3448 - val_loss: 0.2410\n",
            "Epoch 19/20\n",
            "9/9 [==============================] - 7s 773ms/step - loss: 0.3447 - val_loss: 0.2410\n",
            "Epoch 20/20\n",
            "9/9 [==============================] - 7s 770ms/step - loss: 0.3447 - val_loss: 0.2409\n"
          ],
          "name": "stdout"
        }
      ]
    },
    {
      "cell_type": "code",
      "metadata": {
        "id": "c1E0iAa4TUhT",
        "colab": {
          "base_uri": "https://localhost:8080/",
          "height": 314
        },
        "outputId": "d8cdfabe-803c-4183-964b-8e408086889b"
      },
      "source": [
        "import numpy as np\n",
        "import matplotlib.pyplot as plt\n",
        "import tensorflow.keras\n",
        "print(history.history.keys())\n",
        "\n",
        "plt.plot(history.history['loss'])\n",
        "plt.plot(history.history['val_loss'])\n",
        "plt.title('model loss')\n",
        "plt.ylabel('loss')\n",
        "plt.xlabel('epoch')\n",
        "plt.legend(['train', 'validation'], loc='upper right')\n",
        "plt.show()"
      ],
      "execution_count": null,
      "outputs": [
        {
          "output_type": "stream",
          "text": [
            "dict_keys(['loss', 'val_loss'])\n"
          ],
          "name": "stdout"
        },
        {
          "output_type": "display_data",
          "data": {
            "image/png": "[encoded data removed]",
            "text/plain": [
              "<Figure size 432x288 with 1 Axes>"
            ]
          },
          "metadata": {
            "tags": [],
            "needs_background": "light"
          }
        }
      ]
    },
    {
      "cell_type": "code",
      "metadata": {
        "id": "3xpGgJrsZ2HQ"
      },
      "source": [
        "encoder = Model(data_inputs,encoded)"
      ],
      "execution_count": null,
      "outputs": []
    },
    {
      "cell_type": "code",
      "metadata": {
        "id": "AClXd_jjJdB2"
      },
      "source": [
        "encoded_data = encoder.predict(np.array([dataset[-1]]))"
      ],
      "execution_count": null,
      "outputs": []
    },
    {
      "cell_type": "code",
      "metadata": {
        "colab": {
          "base_uri": "https://localhost:8080/"
        },
        "id": "QGCDQFHVKBQr",
        "outputId": "16cbe7ce-1a8c-43d0-9a26-bc676257ec0e"
      },
      "source": [
        "encoded_data.shape"
      ],
      "execution_count": null,
      "outputs": [
        {
          "output_type": "execute_result",
          "data": {
            "text/plain": [
              "(1, 16, 16, 8)"
            ]
          },
          "metadata": {
            "tags": []
          },
          "execution_count": 25
        }
      ]
    },
    {
      "cell_type": "code",
      "metadata": {
        "colab": {
          "base_uri": "https://localhost:8080/"
        },
        "id": "ewrr-YGyKD-r",
        "outputId": "80232cc5-2120-4303-83ad-bf38ac10e0e6"
      },
      "source": [
        "encoded_data.nbytes"
      ],
      "execution_count": null,
      "outputs": [
        {
          "output_type": "execute_result",
          "data": {
            "text/plain": [
              "8192"
            ]
          },
          "metadata": {
            "tags": []
          },
          "execution_count": 26
        }
      ]
    },
    {
      "cell_type": "code",
      "metadata": {
        "id": "LGrs2XsrKGF5"
      },
      "source": [
        "decoded_data = autoencoder.predict(np.array([dataset[-1]]))"
      ],
      "execution_count": null,
      "outputs": []
    },
    {
      "cell_type": "code",
      "metadata": {
        "colab": {
          "base_uri": "https://localhost:8080/"
        },
        "id": "B2qpxccZKOcR",
        "outputId": "8d997dc1-5394-481d-e208-22f048cc5d39"
      },
      "source": [
        "decoded_data.shape"
      ],
      "execution_count": null,
      "outputs": [
        {
          "output_type": "execute_result",
          "data": {
            "text/plain": [
              "(1, 128, 128, 1)"
            ]
          },
          "metadata": {
            "tags": []
          },
          "execution_count": 28
        }
      ]
    },
    {
      "cell_type": "code",
      "metadata": {
        "colab": {
          "base_uri": "https://localhost:8080/"
        },
        "id": "C1PV5XUkKQaI",
        "outputId": "30f82495-a03b-4fd8-e062-9fbbb0ee3474"
      },
      "source": [
        "decoded_data.nbytes"
      ],
      "execution_count": null,
      "outputs": [
        {
          "output_type": "execute_result",
          "data": {
            "text/plain": [
              "65536"
            ]
          },
          "metadata": {
            "tags": []
          },
          "execution_count": 29
        }
      ]
    },
    {
      "cell_type": "code",
      "metadata": {
        "colab": {
          "base_uri": "https://localhost:8080/",
          "height": 174
        },
        "id": "wMfM0vQ1KT6i",
        "outputId": "77c343de-b9a0-4264-d10a-89d5fbfdff33"
      },
      "source": [
        "decoded_data[0,:10,:10,0]"
      ],
      "execution_count": null,
      "outputs": [
        {
          "output_type": "error",
          "ename": "NameError",
          "evalue": "ignored",
          "traceback": [
            "\u001b[0;31m---------------------------------------------------------------------------\u001b[0m",
            "\u001b[0;31mNameError\u001b[0m                                 Traceback (most recent call last)",
            "\u001b[0;32m<ipython-input-1-5ebb93dc4990>\u001b[0m in \u001b[0;36m<module>\u001b[0;34m()\u001b[0m\n\u001b[0;32m----> 1\u001b[0;31m \u001b[0mdecoded_data\u001b[0m\u001b[0;34m[\u001b[0m\u001b[0;36m0\u001b[0m\u001b[0;34m,\u001b[0m\u001b[0;34m:\u001b[0m\u001b[0;36m10\u001b[0m\u001b[0;34m,\u001b[0m\u001b[0;34m:\u001b[0m\u001b[0;36m10\u001b[0m\u001b[0;34m,\u001b[0m\u001b[0;36m0\u001b[0m\u001b[0;34m]\u001b[0m\u001b[0;34m\u001b[0m\u001b[0;34m\u001b[0m\u001b[0m\n\u001b[0m",
            "\u001b[0;31mNameError\u001b[0m: name 'decoded_data' is not defined"
          ]
        }
      ]
    },
    {
      "cell_type": "code",
      "metadata": {
        "colab": {
          "base_uri": "https://localhost:8080/"
        },
        "id": "z5-p0zchKZdp",
        "outputId": "69b1cfb7-099b-4106-8d2f-256ba804d36a"
      },
      "source": [
        "dataset[-1,:10,:10,0]"
      ],
      "execution_count": null,
      "outputs": [
        {
          "output_type": "execute_result",
          "data": {
            "text/plain": [
              "array([[0.21362957, 0.21362957, 0.21362957, 0.24414808, 0.24414808,\n",
              "        0.24414808, 0.24414808, 0.24414808, 0.24414808, 0.24414808],\n",
              "       [0.21362957, 0.21362957, 0.21362957, 0.21362957, 0.21362957,\n",
              "        0.24414808, 0.24414808, 0.24414808, 0.24414808, 0.24414808],\n",
              "       [0.21362957, 0.21362957, 0.21362957, 0.21362957, 0.21362957,\n",
              "        0.21362957, 0.24414808, 0.24414808, 0.24414808, 0.24414808],\n",
              "       [0.21362957, 0.21362957, 0.21362957, 0.21362957, 0.21362957,\n",
              "        0.21362957, 0.21362957, 0.24414808, 0.24414808, 0.24414808],\n",
              "       [0.18311106, 0.21362957, 0.21362957, 0.21362957, 0.21362957,\n",
              "        0.21362957, 0.21362957, 0.21362957, 0.24414808, 0.24414808],\n",
              "       [0.18311106, 0.18311106, 0.21362957, 0.21362957, 0.21362957,\n",
              "        0.21362957, 0.21362957, 0.21362957, 0.21362957, 0.24414808],\n",
              "       [0.18311106, 0.21362957, 0.21362957, 0.21362957, 0.21362957,\n",
              "        0.21362957, 0.21362957, 0.21362957, 0.21362957, 0.24414808],\n",
              "       [0.21362957, 0.21362957, 0.21362957, 0.21362957, 0.21362957,\n",
              "        0.21362957, 0.21362957, 0.21362957, 0.21362957, 0.21362957],\n",
              "       [0.21362957, 0.21362957, 0.21362957, 0.21362957, 0.21362957,\n",
              "        0.21362957, 0.21362957, 0.21362957, 0.21362957, 0.21362957],\n",
              "       [0.21362957, 0.21362957, 0.21362957, 0.21362957, 0.21362957,\n",
              "        0.21362957, 0.21362957, 0.21362957, 0.21362957, 0.21362957]])"
            ]
          },
          "metadata": {
            "tags": []
          },
          "execution_count": 32
        }
      ]
    },
    {
      "cell_type": "code",
      "metadata": {
        "id": "ejRwsB6QKkfi"
      },
      "source": [
        ""
      ],
      "execution_count": null,
      "outputs": []
    }
  ]
}