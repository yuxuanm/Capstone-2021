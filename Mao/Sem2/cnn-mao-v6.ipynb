{
 "cells": [
  {
   "cell_type": "markdown",
   "id": "d51d6bcd",
   "metadata": {},
   "source": [
    "## Important parameters\n",
    "<br>xt_ocean: longitude, length 3600\n",
    "<br>yt_ocean: latitude, length 1500\n",
    "<br> [mind map](https://miro.com/app/board/o9J_lM4N1Pg=/?fromRedirect=1)"
   ]
  },
  {
   "cell_type": "code",
   "execution_count": 1,
   "id": "1795d601",
   "metadata": {},
   "outputs": [],
   "source": [
    "import netCDF4 as nc4\n",
    "import keras\n",
    "import xarray,numpy as np\n",
    "import math\n",
    "from sklearn.model_selection import train_test_split\n",
    "from sklearn import preprocessing\n",
    "from keras.datasets import mnist\n",
    "from keras.models import Model\n",
    "from keras.layers import Input, add\n",
    "from keras.layers.core import  Dense, Dropout, Activation, Flatten, Reshape\n",
    "from keras import regularizers\n",
    "from keras.regularizers import l2\n",
    "from keras.layers.convolutional import Conv2D, MaxPooling2D, UpSampling2D, ZeroPadding2D\n",
    "from keras.utils import np_utils\n",
    "from tensorflow.keras import layers"
   ]
  },
  {
   "cell_type": "markdown",
   "id": "b71e6d28",
   "metadata": {},
   "source": [
    "# Load data"
   ]
  },
  {
   "cell_type": "code",
   "execution_count": 2,
   "id": "6208fbe1",
   "metadata": {},
   "outputs": [],
   "source": [
    "import glob\n",
    "input_data_split = []\n",
    "for np_name in glob.glob('raw data/128/dataset_128_N102/*.np[yz]'):\n",
    "    input_data_split.append(np.load(np_name))\n",
    "input_data_split = np.array(input_data_split)"
   ]
  },
  {
   "cell_type": "markdown",
   "id": "bec2f7c3",
   "metadata": {},
   "source": [
    "# Fix Missing Value"
   ]
  },
  {
   "cell_type": "code",
   "execution_count": 3,
   "id": "eca0c702",
   "metadata": {},
   "outputs": [],
   "source": [
    "def fix_missing_value(input_data):\n",
    "    \"\"\"\n",
    "    input 3d matrix\n",
    "    \"\"\"\n",
    "    for i in range(0,len(input_data)):\n",
    "        arr = input_data[i]\n",
    "        arr[np.isnan(arr)] = 0\n",
    "    return input_data"
   ]
  },
  {
   "cell_type": "markdown",
   "id": "d7dce738",
   "metadata": {},
   "source": [
    "# Min Max Scaling"
   ]
  },
  {
   "cell_type": "code",
   "execution_count": 4,
   "id": "6ba3d2bb",
   "metadata": {},
   "outputs": [],
   "source": [
    "def min_max_scale(input_data, max_value, min_value):\n",
    "    \"\"\"\n",
    "    input 3d matrix\n",
    "    \"\"\"\n",
    "    for i in range(len(input_data)):\n",
    "        input_data[i] = (input_data[i] - min_value)/(max_value - min_value)\n",
    "    return input_data"
   ]
  },
  {
   "cell_type": "markdown",
   "id": "eac1f398",
   "metadata": {},
   "source": [
    "# Preprocessing"
   ]
  },
  {
   "cell_type": "code",
   "execution_count": 5,
   "id": "a093197b",
   "metadata": {},
   "outputs": [
    {
     "data": {
      "text/plain": [
       "(2000, 128, 128, 1)"
      ]
     },
     "execution_count": 5,
     "metadata": {},
     "output_type": "execute_result"
    }
   ],
   "source": [
    "import random\n",
    "n = 2000 # sample size\n",
    "input_data_split = np.array(random.sample(input_data_split.tolist(),n))\n",
    "input_data_split.shape"
   ]
  },
  {
   "cell_type": "code",
   "execution_count": 6,
   "id": "e6d72e26",
   "metadata": {},
   "outputs": [],
   "source": [
    "input_data_split = fix_missing_value(input_data_split)\n",
    "max_value = np.amax(input_data_split)\n",
    "min_value = np.amin(input_data_split)\n",
    "input_data_split_scaled = min_max_scale(input_data_split, max_value, min_value)"
   ]
  },
  {
   "cell_type": "code",
   "execution_count": 7,
   "id": "9d77cff9",
   "metadata": {},
   "outputs": [
    {
     "data": {
      "text/plain": [
       "(2000, 128, 128, 1)"
      ]
     },
     "execution_count": 7,
     "metadata": {},
     "output_type": "execute_result"
    }
   ],
   "source": [
    "input_data_split_scaled.shape"
   ]
  },
  {
   "cell_type": "markdown",
   "id": "203c60c7",
   "metadata": {},
   "source": [
    "# split train set & validation set"
   ]
  },
  {
   "cell_type": "code",
   "execution_count": 8,
   "id": "a77541d5",
   "metadata": {},
   "outputs": [
    {
     "data": {
      "text/plain": [
       "(1333, 128, 128, 1)"
      ]
     },
     "execution_count": 8,
     "metadata": {},
     "output_type": "execute_result"
    }
   ],
   "source": [
    "train_set, test_set = train_test_split(input_data_split, test_size=0.3333333, random_state=26)\n",
    "\n",
    "train_set_scaled, test_set_scaled = train_test_split(input_data_split_scaled, test_size=0.3333333, random_state=26)\n",
    "np.array(train_set_scaled).shape"
   ]
  },
  {
   "cell_type": "markdown",
   "id": "97a6fd39",
   "metadata": {},
   "source": [
    "# Autoencoder"
   ]
  },
  {
   "cell_type": "code",
   "execution_count": 29,
   "id": "47e31571",
   "metadata": {},
   "outputs": [
    {
     "name": "stdout",
     "output_type": "stream",
     "text": [
      "Model: \"model_2\"\n",
      "_________________________________________________________________\n",
      "Layer (type)                 Output Shape              Param #   \n",
      "=================================================================\n",
      "input_3 (InputLayer)         [(None, 128, 128, 1)]     0         \n",
      "_________________________________________________________________\n",
      "conv2d_11 (Conv2D)           (None, 128, 128, 64)      1088      \n",
      "_________________________________________________________________\n",
      "max_pooling2d_6 (MaxPooling2 (None, 64, 64, 64)        0         \n",
      "_________________________________________________________________\n",
      "conv2d_12 (Conv2D)           (None, 64, 64, 32)        32800     \n",
      "_________________________________________________________________\n",
      "max_pooling2d_7 (MaxPooling2 (None, 32, 32, 32)        0         \n",
      "_________________________________________________________________\n",
      "conv2d_13 (Conv2D)           (None, 32, 32, 16)        8208      \n",
      "_________________________________________________________________\n",
      "max_pooling2d_8 (MaxPooling2 (None, 16, 16, 16)        0         \n",
      "_________________________________________________________________\n",
      "conv2d_14 (Conv2D)           (None, 16, 16, 8)         2056      \n",
      "_________________________________________________________________\n",
      "conv2d_15 (Conv2D)           (None, 16, 16, 4)         516       \n",
      "_________________________________________________________________\n",
      "conv2d_16 (Conv2D)           (None, 16, 16, 2)         130       \n",
      "_________________________________________________________________\n",
      "conv2d_transpose_10 (Conv2DT (None, 32, 32, 8)         264       \n",
      "_________________________________________________________________\n",
      "conv2d_transpose_11 (Conv2DT (None, 64, 64, 16)        2064      \n",
      "_________________________________________________________________\n",
      "conv2d_transpose_12 (Conv2DT (None, 128, 128, 32)      8224      \n",
      "_________________________________________________________________\n",
      "conv2d_transpose_13 (Conv2DT (None, 128, 128, 64)      32832     \n",
      "_________________________________________________________________\n",
      "conv2d_transpose_14 (Conv2DT (None, 128, 128, 1)       577       \n",
      "=================================================================\n",
      "Total params: 88,759\n",
      "Trainable params: 88,759\n",
      "Non-trainable params: 0\n",
      "_________________________________________________________________\n"
     ]
    }
   ],
   "source": [
    "lat = 128 # chunk size\n",
    "long = 128 # chunk size\n",
    "\n",
    "input_img = keras.Input(shape=(lat, long,1))\n",
    "\n",
    "x = layers.Conv2D(64,(4,4), activation='relu', padding='same')(input_img)\n",
    "x = layers.MaxPooling2D((2, 2), padding='same')(x)\n",
    "x = layers.Conv2D(32, (4, 4), activation='relu', padding='same')(x)\n",
    "x = layers.MaxPooling2D((2, 2), padding='same')(x)\n",
    "x = layers.Conv2D(16, (4, 4), activation='relu', padding='same')(x)\n",
    "x = layers.MaxPooling2D((2, 2), padding='same')(x)\n",
    "x = layers.Conv2D(8, (4, 4), activation='relu', padding='same')(x)\n",
    "# x = layers.MaxPooling2D((2, 2), padding='same')(x)\n",
    "x = layers.Conv2D(4, (4, 4), activation='relu', padding='same')(x)\n",
    "# x = layers.MaxPooling2D((2, 2), padding='same')(x)\n",
    "encoded = layers.Conv2D(2, (4, 4), activation='relu',strides=(1,1), padding='same')(x)\n",
    "\n",
    "x = layers.Conv2DTranspose(8, (4, 4), strides=(2, 2),activation='relu', padding='same')(encoded)\n",
    "x = layers.Conv2DTranspose(16, (4, 4), strides=(2, 2),activation='relu', padding='same')(x)\n",
    "x = layers.Conv2DTranspose(32, (4, 4), strides=(2, 2),activation='relu', padding='same')(x)\n",
    "# x = layers.Conv2DTranspose(64, (4, 4), strides=(2, 2), activation='relu')(x)\n",
    "x = layers.Conv2DTranspose(64, (4, 4), strides=(1, 1),activation='relu', padding='same')(x)\n",
    "# x = layers.Conv2DTranspose(128, (4, 4), strides=(2, 2),activation='relu', padding='same')(x)\n",
    "decoded = layers.Conv2DTranspose(1, (3, 3), activation='sigmoid', padding='same')(x)\n",
    "\n",
    "autoencoder = keras.Model(input_img, decoded)\n",
    "autoencoder.compile(optimizer='adam', loss='mse')\n",
    "autoencoder.summary()"
   ]
  },
  {
   "cell_type": "code",
   "execution_count": 10,
   "id": "01f45beb",
   "metadata": {},
   "outputs": [
    {
     "name": "stdout",
     "output_type": "stream",
     "text": [
      "Epoch 1/10\n",
      "42/42 [==============================] - 171s 4s/step - loss: 0.0270 - val_loss: 0.0141\n",
      "Epoch 2/10\n",
      "42/42 [==============================] - 175s 4s/step - loss: 0.0131 - val_loss: 0.0089\n",
      "Epoch 3/10\n",
      "42/42 [==============================] - 177s 4s/step - loss: 0.0079 - val_loss: 0.0074\n",
      "Epoch 4/10\n",
      "42/42 [==============================] - 166s 4s/step - loss: 0.0069 - val_loss: 0.0064\n",
      "Epoch 5/10\n",
      "42/42 [==============================] - 168s 4s/step - loss: 0.0059 - val_loss: 0.0065\n",
      "Epoch 6/10\n",
      "42/42 [==============================] - 155s 4s/step - loss: 0.0050 - val_loss: 0.0048\n",
      "Epoch 7/10\n",
      "42/42 [==============================] - 135s 3s/step - loss: 0.0041 - val_loss: 0.0035\n",
      "Epoch 8/10\n",
      "42/42 [==============================] - 128s 3s/step - loss: 0.0037 - val_loss: 0.0028\n",
      "Epoch 9/10\n",
      "42/42 [==============================] - 125s 3s/step - loss: 0.0025 - val_loss: 0.0020\n",
      "Epoch 10/10\n",
      "42/42 [==============================] - 144s 3s/step - loss: 0.0020 - val_loss: 0.0017\n"
     ]
    }
   ],
   "source": [
    "history = autoencoder.fit(train_set_scaled, train_set_scaled,\n",
    "                epochs=10, validation_data=(test_set_scaled, test_set_scaled))"
   ]
  },
  {
   "cell_type": "code",
   "execution_count": 11,
   "id": "3dcd1eed",
   "metadata": {},
   "outputs": [
    {
     "data": {
      "image/png": "[encoded data removed]",
      "text/plain": [
       "<Figure size 432x288 with 1 Axes>"
      ]
     },
     "metadata": {
      "needs_background": "light"
     },
     "output_type": "display_data"
    }
   ],
   "source": [
    "import matplotlib.pyplot as plt\n",
    "plt.plot(history.history['loss'])\n",
    "plt.plot(history.history['val_loss'])\n",
    "plt.title('model loss')\n",
    "plt.ylabel('loss')\n",
    "plt.xlabel('epoch')\n",
    "plt.legend(['train', 'validation'], loc='upper right')\n",
    "plt.show()"
   ]
  },
  {
   "cell_type": "code",
   "execution_count": 26,
   "id": "dbdb7f49",
   "metadata": {},
   "outputs": [],
   "source": [
    "test_sample_index = 111\n",
    "\n",
    "# select a sample\n",
    "original_data = test_set[test_sample_index]\n",
    "original_data.shape\n",
    "\n",
    "test_data = (original_data - min_value)/(max_value - min_value) # preprocessing\n",
    "test_data.shape\n",
    "\n",
    "decoded_data = autoencoder.predict(np.expand_dims(test_data, 0)) \n",
    "decoded_data = decoded_data*(max_value-min_value) + min_value   # scale back"
   ]
  },
  {
   "cell_type": "code",
   "execution_count": 37,
   "id": "67f8915c",
   "metadata": {},
   "outputs": [
    {
     "data": {
      "text/plain": [
       "<matplotlib.image.AxesImage at 0x2db538815b0>"
      ]
     },
     "execution_count": 37,
     "metadata": {},
     "output_type": "execute_result"
    },
    {
     "data": {
      "image/png": "[encoded data removed]",
      "text/plain": [
       "<Figure size 1152x2304 with 2 Axes>"
      ]
     },
     "metadata": {
      "needs_background": "light"
     },
     "output_type": "display_data"
    }
   ],
   "source": [
    "fig = plt.figure(figsize=(16,32)) # image\n",
    "ax1 = fig.add_subplot(1,2,1) \n",
    "ax1.imshow(original_sample_data,cmap='hot')\n",
    "ax2 = fig.add_subplot(1,2,2)\n",
    "ax2.imshow(decoded_data.reshape(128,128),cmap='hot')"
   ]
  },
  {
   "cell_type": "code",
   "execution_count": 27,
   "id": "83c5fc1b",
   "metadata": {},
   "outputs": [
    {
     "data": {
      "text/plain": [
       "0.001398844057015632"
      ]
     },
     "execution_count": 27,
     "metadata": {},
     "output_type": "execute_result"
    }
   ],
   "source": [
    "mse = np.square((original_data-decoded_data)).mean()\n",
    "mse"
   ]
  }
 ],
 "metadata": {
  "kernelspec": {
   "display_name": "Python 3",
   "language": "python",
   "name": "python3"
  },
  "language_info": {
   "codemirror_mode": {
    "name": "ipython",
    "version": 3
   },
   "file_extension": ".py",
   "mimetype": "text/x-python",
   "name": "python",
   "nbconvert_exporter": "python",
   "pygments_lexer": "ipython3",
   "version": "3.8.8"
  }
 },
 "nbformat": 4,
 "nbformat_minor": 5
}
