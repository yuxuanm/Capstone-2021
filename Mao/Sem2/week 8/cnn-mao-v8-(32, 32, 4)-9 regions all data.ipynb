{
 "cells": [
  {
   "cell_type": "markdown",
   "id": "d51d6bcd",
   "metadata": {},
   "source": [
    "## Important parameters\n",
    "<br>xt_ocean: longitude, length 3600\n",
    "<br>yt_ocean: latitude, length 1500\n",
    "<br> [mind map](https://miro.com/app/board/o9J_lM4N1Pg=/?fromRedirect=1)"
   ]
  },
  {
   "cell_type": "code",
   "execution_count": 1,
   "id": "1795d601",
   "metadata": {},
   "outputs": [],
   "source": [
    "import netCDF4 as nc4\n",
    "from tensorflow import keras\n",
    "import xarray,numpy as np\n",
    "import math\n",
    "from sklearn.model_selection import train_test_split\n",
    "from sklearn import preprocessing\n",
    "from tensorflow.keras import layers\n",
    "import tensorflow"
   ]
  },
  {
   "cell_type": "markdown",
   "id": "b71e6d28",
   "metadata": {},
   "source": [
    "# Load data"
   ]
  },
  {
   "cell_type": "code",
   "execution_count": 4,
   "id": "6208fbe1",
   "metadata": {},
   "outputs": [
    {
     "name": "stdout",
     "output_type": "stream",
     "text": [
      "7305\n",
      "14610\n",
      "21915\n",
      "29220\n",
      "37499\n",
      "45778\n",
      "53083\n",
      "61362\n"
     ]
    },
    {
     "data": {
      "text/plain": [
       "(69641, 128, 128, 1)"
      ]
     },
     "execution_count": 4,
     "metadata": {},
     "output_type": "execute_result"
    }
   ],
   "source": [
    "import glob\n",
    "input_data_split = []\n",
    "for np_name in glob.glob('C:/Users/Yuxuan/Desktop/data/dataset_102/*.np[yz]'):\n",
    "    input_data_split.append(np.load(np_name))\n",
    "print(len(input_data_split))\n",
    "for np_name in glob.glob('C:/Users/Yuxuan/Desktop/data/dataset_103/*.np[yz]'):\n",
    "    input_data_split.append(np.load(np_name))\n",
    "print(len(input_data_split))\n",
    "for np_name in glob.glob('C:/Users/Yuxuan/Desktop/data/dataset_104/*.np[yz]'):\n",
    "    input_data_split.append(np.load(np_name))\n",
    "print(len(input_data_split))\n",
    "for np_name in glob.glob('C:/Users/Yuxuan/Desktop/data/dataset_215/*.np[yz]'):\n",
    "    input_data_split.append(np.load(np_name))\n",
    "print(len(input_data_split))\n",
    "for np_name in glob.glob('C:/Users/Yuxuan/Desktop/data/dataset_222/*.np[yz]'):\n",
    "    input_data_split.append(np.load(np_name))\n",
    "print(len(input_data_split))\n",
    "for np_name in glob.glob('C:/Users/Yuxuan/Desktop/data/dataset_250/*.np[yz]'):\n",
    "    input_data_split.append(np.load(np_name))\n",
    "print(len(input_data_split))\n",
    "for np_name in glob.glob('C:/Users/Yuxuan/Desktop/data/dataset_286/*.np[yz]'):\n",
    "    input_data_split.append(np.load(np_name))\n",
    "print(len(input_data_split))\n",
    "for np_name in glob.glob('C:/Users/Yuxuan/Desktop/data/dataset_307/*.np[yz]'):\n",
    "    input_data_split.append(np.load(np_name))\n",
    "print(len(input_data_split))\n",
    "for np_name in glob.glob('C:/Users/Yuxuan/Desktop/data/dataset_317/*.np[yz]'):\n",
    "    input_data_split.append(np.load(np_name))\n",
    "input_data_split = np.array(input_data_split)\n",
    "input_data_split.shape"
   ]
  },
  {
   "cell_type": "markdown",
   "id": "bec2f7c3",
   "metadata": {},
   "source": [
    "# Fix Missing Value"
   ]
  },
  {
   "cell_type": "code",
   "execution_count": 5,
   "id": "eca0c702",
   "metadata": {},
   "outputs": [],
   "source": [
    "def fix_missing_value(input_data):\n",
    "    \"\"\"\n",
    "    input 3d matrix\n",
    "    \"\"\"\n",
    "    for i in range(0,len(input_data)):\n",
    "        arr = input_data[i]\n",
    "        arr[np.isnan(arr)] = 0\n",
    "    return input_data"
   ]
  },
  {
   "cell_type": "markdown",
   "id": "d7dce738",
   "metadata": {},
   "source": [
    "# Min Max Scaling"
   ]
  },
  {
   "cell_type": "code",
   "execution_count": 6,
   "id": "6ba3d2bb",
   "metadata": {},
   "outputs": [],
   "source": [
    "def min_max_scale(input_data, max_value, min_value):\n",
    "    \"\"\"\n",
    "    input 3d matrix\n",
    "    \"\"\"\n",
    "    for i in range(len(input_data)):\n",
    "        input_data[i] = (input_data[i] - min_value)/(max_value - min_value)\n",
    "    return input_data"
   ]
  },
  {
   "cell_type": "markdown",
   "id": "eac1f398",
   "metadata": {},
   "source": [
    "# Preprocessing"
   ]
  },
  {
   "cell_type": "code",
   "execution_count": 7,
   "id": "a093197b",
   "metadata": {},
   "outputs": [],
   "source": [
    "# import random\n",
    "# n = 3000 # sample size\n",
    "# random.seed(7)\n",
    "# input_data_split = np.array(random.sample(input_data_split.tolist(),n))\n",
    "# input_data_split.shape"
   ]
  },
  {
   "cell_type": "code",
   "execution_count": 8,
   "id": "e6d72e26",
   "metadata": {},
   "outputs": [],
   "source": [
    "input_data_split = fix_missing_value(input_data_split)\n",
    "max_value = np.amax(input_data_split)\n",
    "min_value = np.amin(input_data_split)\n",
    "input_data_split_scaled = min_max_scale(input_data_split, max_value, min_value)"
   ]
  },
  {
   "cell_type": "code",
   "execution_count": 9,
   "id": "7b662f30",
   "metadata": {},
   "outputs": [
    {
     "name": "stdout",
     "output_type": "stream",
     "text": [
      "1.2512589\n",
      "-1.4648885\n"
     ]
    }
   ],
   "source": [
    "print(max_value)\n",
    "print(min_value)"
   ]
  },
  {
   "cell_type": "code",
   "execution_count": 10,
   "id": "ce44ad44",
   "metadata": {},
   "outputs": [
    {
     "data": {
      "text/plain": [
       "(69641, 128, 128, 1)"
      ]
     },
     "execution_count": 10,
     "metadata": {},
     "output_type": "execute_result"
    }
   ],
   "source": [
    "input_data_split_scaled.shape"
   ]
  },
  {
   "cell_type": "markdown",
   "id": "203c60c7",
   "metadata": {},
   "source": [
    "# split train set & validation set"
   ]
  },
  {
   "cell_type": "code",
   "execution_count": 11,
   "id": "a77541d5",
   "metadata": {},
   "outputs": [
    {
     "data": {
      "text/plain": [
       "(46427, 128, 128, 1)"
      ]
     },
     "execution_count": 11,
     "metadata": {},
     "output_type": "execute_result"
    }
   ],
   "source": [
    "train_set, test_set = train_test_split(input_data_split, test_size=0.3333333, random_state=26)\n",
    "\n",
    "train_set_scaled, test_set_scaled = train_test_split(input_data_split_scaled, test_size=0.3333333, random_state=26)\n",
    "np.array(train_set_scaled).shape"
   ]
  },
  {
   "cell_type": "markdown",
   "id": "97a6fd39",
   "metadata": {},
   "source": [
    "# Autoencoder"
   ]
  },
  {
   "cell_type": "code",
   "execution_count": 12,
   "id": "47e31571",
   "metadata": {},
   "outputs": [
    {
     "name": "stdout",
     "output_type": "stream",
     "text": [
      "Model: \"model\"\n",
      "_________________________________________________________________\n",
      "Layer (type)                 Output Shape              Param #   \n",
      "=================================================================\n",
      "input_1 (InputLayer)         [(None, 128, 128, 1)]     0         \n",
      "_________________________________________________________________\n",
      "conv2d (Conv2D)              (None, 128, 128, 64)      1088      \n",
      "_________________________________________________________________\n",
      "max_pooling2d (MaxPooling2D) (None, 64, 64, 64)        0         \n",
      "_________________________________________________________________\n",
      "conv2d_1 (Conv2D)            (None, 64, 64, 32)        32800     \n",
      "_________________________________________________________________\n",
      "max_pooling2d_1 (MaxPooling2 (None, 32, 32, 32)        0         \n",
      "_________________________________________________________________\n",
      "conv2d_2 (Conv2D)            (None, 32, 32, 16)        8208      \n",
      "_________________________________________________________________\n",
      "conv2d_3 (Conv2D)            (None, 32, 32, 8)         2056      \n",
      "_________________________________________________________________\n",
      "conv2d_4 (Conv2D)            (None, 32, 32, 4)         516       \n",
      "_________________________________________________________________\n",
      "conv2d_transpose (Conv2DTran (None, 32, 32, 8)         520       \n",
      "_________________________________________________________________\n",
      "conv2d_transpose_1 (Conv2DTr (None, 64, 64, 16)        2064      \n",
      "_________________________________________________________________\n",
      "conv2d_transpose_2 (Conv2DTr (None, 128, 128, 32)      8224      \n",
      "_________________________________________________________________\n",
      "conv2d_transpose_3 (Conv2DTr (None, 128, 128, 64)      32832     \n",
      "_________________________________________________________________\n",
      "conv2d_transpose_4 (Conv2DTr (None, 128, 128, 64)      65600     \n",
      "_________________________________________________________________\n",
      "conv2d_transpose_5 (Conv2DTr (None, 128, 128, 1)       577       \n",
      "=================================================================\n",
      "Total params: 154,485\n",
      "Trainable params: 154,485\n",
      "Non-trainable params: 0\n",
      "_________________________________________________________________\n"
     ]
    }
   ],
   "source": [
    "lat = 128 # chunk size\n",
    "long = 128 # chunk size\n",
    "\n",
    "input_img = keras.Input(shape=(lat, long,1))\n",
    "\n",
    "x = layers.Conv2D(64,(4,4), activation='relu', padding='same')(input_img)\n",
    "x = layers.MaxPooling2D((2, 2), padding='same')(x)\n",
    "x = layers.Conv2D(32, (4, 4), activation='relu', padding='same')(x)\n",
    "x = layers.MaxPooling2D((2, 2), padding='same')(x)\n",
    "x = layers.Conv2D(16, (4, 4), activation='relu', padding='same')(x)\n",
    "# x = layers.MaxPooling2D((2, 2), padding='same')(x)\n",
    "x = layers.Conv2D(8, (4, 4), activation='relu', padding='same')(x)\n",
    "# x = layers.MaxPooling2D((2, 2), padding='same')(x)\n",
    "# x = layers.Conv2D(4, (4, 4), activation='relu', padding='same')(x)\n",
    "# x = layers.MaxPooling2D((2, 2), padding='same')(x)\n",
    "encoded = layers.Conv2D(4, (4, 4), activation='relu',strides=(1,1), padding='same')(x)\n",
    "\n",
    "x = layers.Conv2DTranspose(8, (4, 4), strides=(1, 1),activation='relu', padding='same')(encoded)\n",
    "x = layers.Conv2DTranspose(16, (4, 4), strides=(2, 2),activation='relu', padding='same')(x)\n",
    "x = layers.Conv2DTranspose(32, (4, 4), strides=(2, 2),activation='relu', padding='same')(x)\n",
    "x = layers.Conv2DTranspose(64, (4, 4), strides=(1, 1), activation='relu', padding='same')(x)\n",
    "x = layers.Conv2DTranspose(64, (4, 4), strides=(1, 1),activation='relu', padding='same')(x)\n",
    "# x = layers.Conv2DTranspose(128, (4, 4), strides=(2, 2),activation='relu', padding='same')(x)\n",
    "decoded = layers.Conv2DTranspose(1, (3, 3), activation='sigmoid', padding='same')(x)\n",
    "\n",
    "autoencoder = keras.Model(input_img, decoded)\n",
    "autoencoder.compile(optimizer='adam', loss='mse')\n",
    "autoencoder.summary()"
   ]
  },
  {
   "cell_type": "code",
   "execution_count": 14,
   "id": "01f45beb",
   "metadata": {},
   "outputs": [
    {
     "name": "stdout",
     "output_type": "stream",
     "text": [
      "Epoch 1/1000\n",
      "182/182 [==============================] - 4493s 25s/step - loss: 0.0059 - val_loss: 4.6699e-04\n",
      "Epoch 2/1000\n",
      "182/182 [==============================] - 4454s 24s/step - loss: 4.4155e-04 - val_loss: 4.5214e-04\n",
      "Epoch 3/1000\n",
      "182/182 [==============================] - 4471s 25s/step - loss: 2.7979e-04 - val_loss: 2.0036e-04\n",
      "Epoch 4/1000\n",
      "182/182 [==============================] - 4496s 25s/step - loss: 2.5518e-04 - val_loss: 1.9453e-04\n",
      "Epoch 5/1000\n",
      "182/182 [==============================] - 4525s 25s/step - loss: 2.2043e-04 - val_loss: 2.2807e-04\n",
      "Epoch 6/1000\n",
      "182/182 [==============================] - 4497s 25s/step - loss: 1.7725e-04 - val_loss: 1.8497e-04\n",
      "Epoch 7/1000\n",
      "182/182 [==============================] - 4596s 25s/step - loss: 1.7067e-04 - val_loss: 1.2753e-04\n",
      "Epoch 8/1000\n",
      "182/182 [==============================] - 4589s 25s/step - loss: 1.6052e-04 - val_loss: 2.4782e-04\n",
      "Epoch 9/1000\n",
      "182/182 [==============================] - 4589s 25s/step - loss: 1.4334e-04 - val_loss: 1.1995e-04\n",
      "Epoch 10/1000\n",
      "182/182 [==============================] - 4473s 25s/step - loss: 1.3576e-04 - val_loss: 9.1990e-05\n",
      "Epoch 11/1000\n",
      "182/182 [==============================] - 4457s 25s/step - loss: 1.4502e-04 - val_loss: 1.3155e-04\n",
      "Epoch 12/1000\n",
      "182/182 [==============================] - 4427s 24s/step - loss: 1.2679e-04 - val_loss: 2.4438e-04\n"
     ]
    }
   ],
   "source": [
    "callback = tensorflow.keras.callbacks.EarlyStopping(monitor='val_loss', patience=5, min_delta=0.000001)\n",
    "history = autoencoder.fit(train_set_scaled, train_set_scaled,\n",
    "                epochs=1000, batch_size=256, validation_data=(test_set_scaled, test_set_scaled),callbacks=[callback])"
   ]
  },
  {
   "cell_type": "code",
   "execution_count": 16,
   "id": "3dcd1eed",
   "metadata": {},
   "outputs": [
    {
     "data": {
      "image/png": "[encoded data removed]",
      "text/plain": [
       "<Figure size 432x288 with 1 Axes>"
      ]
     },
     "metadata": {
      "needs_background": "light"
     },
     "output_type": "display_data"
    }
   ],
   "source": [
    "import matplotlib.pyplot as plt\n",
    "plt.plot(history.history['loss'])\n",
    "plt.plot(history.history['val_loss'])\n",
    "plt.title('model loss')\n",
    "plt.ylabel('loss')\n",
    "plt.xlabel('epoch')\n",
    "plt.legend(['train', 'validation'], loc='upper right')\n",
    "plt.show()"
   ]
  },
  {
   "cell_type": "code",
   "execution_count": 17,
   "id": "6adb654c",
   "metadata": {},
   "outputs": [],
   "source": [
    "test_sample_index = 122\n",
    "\n",
    "# select a sample\n",
    "original_data = test_set[test_sample_index]\n",
    "original_data.shape\n",
    "\n",
    "test_data = (original_data - min_value)/(max_value - min_value) # preprocessing\n",
    "test_data.shape\n",
    "\n",
    "decoded_data = autoencoder.predict(np.expand_dims(test_data, 0)) \n",
    "decoded_data = decoded_data*(max_value-min_value) + min_value   # scale back"
   ]
  },
  {
   "cell_type": "code",
   "execution_count": 47,
   "id": "4ce65530",
   "metadata": {
    "scrolled": true
   },
   "outputs": [
    {
     "data": {
      "text/plain": [
       "<matplotlib.image.AxesImage at 0x2417890dc10>"
      ]
     },
     "execution_count": 47,
     "metadata": {},
     "output_type": "execute_result"
    },
    {
     "data": {
      "image/png": "[encoded data removed]",
      "text/plain": [
       "<Figure size 1152x2304 with 2 Axes>"
      ]
     },
     "metadata": {
      "needs_background": "light"
     },
     "output_type": "display_data"
    }
   ],
   "source": [
    "fig = plt.figure(figsize=(16,32)) # image\n",
    "ax1 = fig.add_subplot(1,2,1) \n",
    "ax1.imshow(original_data)\n",
    "ax2 = fig.add_subplot(1,2,2)\n",
    "ax2.imshow(decoded_data.reshape(128,128))"
   ]
  },
  {
   "cell_type": "code",
   "execution_count": 45,
   "id": "9bd90437",
   "metadata": {},
   "outputs": [
    {
     "data": {
      "text/plain": [
       "array([[0.37078652],\n",
       "       [0.37078652],\n",
       "       [0.37078652],\n",
       "       [0.37078652],\n",
       "       [0.37078652],\n",
       "       [0.37078652],\n",
       "       [0.37078652],\n",
       "       [0.37078652],\n",
       "       [0.37078652],\n",
       "       [0.37078652],\n",
       "       [0.37078652],\n",
       "       [0.37078652],\n",
       "       [0.37078652],\n",
       "       [0.37078652],\n",
       "       [0.37078652],\n",
       "       [0.37078652],\n",
       "       [0.37078652],\n",
       "       [0.37078652],\n",
       "       [0.37078652],\n",
       "       [0.37078652],\n",
       "       [0.37078652],\n",
       "       [0.38202247],\n",
       "       [0.38202247],\n",
       "       [0.38202247],\n",
       "       [0.38202247],\n",
       "       [0.38202247],\n",
       "       [0.38202247],\n",
       "       [0.39325845],\n",
       "       [0.39325845],\n",
       "       [0.39325845],\n",
       "       [0.39325845],\n",
       "       [0.39325845],\n",
       "       [0.39325845],\n",
       "       [0.39325845],\n",
       "       [0.39325845],\n",
       "       [0.39325845],\n",
       "       [0.39325845],\n",
       "       [0.39325845],\n",
       "       [0.39325845],\n",
       "       [0.39325845],\n",
       "       [0.39325845],\n",
       "       [0.39325845],\n",
       "       [0.40449435],\n",
       "       [0.40449435],\n",
       "       [0.40449435],\n",
       "       [0.40449435],\n",
       "       [0.40449435],\n",
       "       [0.41573033],\n",
       "       [0.41573033],\n",
       "       [0.53932583],\n",
       "       [0.53932583],\n",
       "       [0.53932583],\n",
       "       [0.53932583],\n",
       "       [0.53932583],\n",
       "       [0.53932583],\n",
       "       [0.53932583],\n",
       "       [0.53932583],\n",
       "       [0.53932583],\n",
       "       [0.53932583],\n",
       "       [0.53932583],\n",
       "       [0.53932583],\n",
       "       [0.53932583],\n",
       "       [0.53932583],\n",
       "       [0.53932583],\n",
       "       [0.53932583],\n",
       "       [0.53932583],\n",
       "       [0.53932583],\n",
       "       [0.53932583],\n",
       "       [0.53932583],\n",
       "       [0.53932583],\n",
       "       [0.53932583],\n",
       "       [0.53932583],\n",
       "       [0.53932583],\n",
       "       [0.53932583],\n",
       "       [0.53932583],\n",
       "       [0.53932583],\n",
       "       [0.53932583],\n",
       "       [0.53932583],\n",
       "       [0.53932583],\n",
       "       [0.53932583],\n",
       "       [0.53932583],\n",
       "       [0.53932583],\n",
       "       [0.53932583],\n",
       "       [0.53932583],\n",
       "       [0.40449435],\n",
       "       [0.40449435],\n",
       "       [0.40449435],\n",
       "       [0.40449435],\n",
       "       [0.40449435],\n",
       "       [0.40449435],\n",
       "       [0.40449435],\n",
       "       [0.40449435],\n",
       "       [0.40449435],\n",
       "       [0.40449435],\n",
       "       [0.40449435],\n",
       "       [0.40449435],\n",
       "       [0.41573033],\n",
       "       [0.41573033],\n",
       "       [0.53932583],\n",
       "       [0.53932583],\n",
       "       [0.53932583],\n",
       "       [0.53932583],\n",
       "       [0.53932583],\n",
       "       [0.53932583],\n",
       "       [0.53932583],\n",
       "       [0.53932583],\n",
       "       [0.53932583],\n",
       "       [0.53932583],\n",
       "       [0.53932583],\n",
       "       [0.53932583],\n",
       "       [0.53932583],\n",
       "       [0.53932583],\n",
       "       [0.53932583],\n",
       "       [0.53932583],\n",
       "       [0.53932583],\n",
       "       [0.53932583],\n",
       "       [0.53932583],\n",
       "       [0.53932583],\n",
       "       [0.53932583],\n",
       "       [0.53932583],\n",
       "       [0.53932583],\n",
       "       [0.53932583],\n",
       "       [0.53932583],\n",
       "       [0.53932583],\n",
       "       [0.53932583],\n",
       "       [0.53932583],\n",
       "       [0.53932583],\n",
       "       [0.53932583]], dtype=float32)"
      ]
     },
     "execution_count": 45,
     "metadata": {},
     "output_type": "execute_result"
    }
   ],
   "source": [
    "original_data[0]"
   ]
  },
  {
   "cell_type": "code",
   "execution_count": 32,
   "id": "92d10a9b",
   "metadata": {},
   "outputs": [
    {
     "data": {
      "text/plain": [
       "0.53932583"
      ]
     },
     "execution_count": 32,
     "metadata": {},
     "output_type": "execute_result"
    }
   ],
   "source": [
    "np.amax(original_data)"
   ]
  },
  {
   "cell_type": "code",
   "execution_count": 33,
   "id": "847c8133",
   "metadata": {},
   "outputs": [
    {
     "data": {
      "text/plain": [
       "0.24719101"
      ]
     },
     "execution_count": 33,
     "metadata": {},
     "output_type": "execute_result"
    }
   ],
   "source": [
    "np.amin(original_data)"
   ]
  },
  {
   "cell_type": "code",
   "execution_count": 34,
   "id": "80b9d7c9",
   "metadata": {},
   "outputs": [
    {
     "data": {
      "text/plain": [
       "0.646356"
      ]
     },
     "execution_count": 34,
     "metadata": {},
     "output_type": "execute_result"
    }
   ],
   "source": [
    "np.amax(decoded_data)"
   ]
  },
  {
   "cell_type": "code",
   "execution_count": 35,
   "id": "0f442fe6",
   "metadata": {},
   "outputs": [
    {
     "data": {
      "text/plain": [
       "0.22379935"
      ]
     },
     "execution_count": 35,
     "metadata": {},
     "output_type": "execute_result"
    }
   ],
   "source": [
    "np.amin(decoded_data)"
   ]
  },
  {
   "cell_type": "code",
   "execution_count": 40,
   "id": "4c654182",
   "metadata": {},
   "outputs": [
    {
     "data": {
      "text/plain": [
       "<matplotlib.image.AxesImage at 0x24178c46b20>"
      ]
     },
     "execution_count": 40,
     "metadata": {},
     "output_type": "execute_result"
    }
   ],
   "source": [
    "ax3.imshow((original_data-decoded_data).reshape(128,128),cmap='hot')"
   ]
  },
  {
   "cell_type": "code",
   "execution_count": 50,
   "id": "e04e0ed9",
   "metadata": {},
   "outputs": [
    {
     "name": "stdout",
     "output_type": "stream",
     "text": [
      "mse:  0.0013188755\n"
     ]
    },
    {
     "data": {
      "image/png": "[encoded data removed]",
      "text/plain": [
       "<Figure size 1152x2304 with 2 Axes>"
      ]
     },
     "metadata": {
      "needs_background": "light"
     },
     "output_type": "display_data"
    }
   ],
   "source": [
    "test_sample_index = 6546\n",
    "\n",
    "# select a sample\n",
    "original_data = test_set[test_sample_index]\n",
    "original_data.shape\n",
    "\n",
    "test_data = (original_data - min_value)/(max_value - min_value) # preprocessing\n",
    "test_data.shape\n",
    "\n",
    "decoded_data = autoencoder.predict(np.expand_dims(test_data, 0)) \n",
    "decoded_data = decoded_data*(max_value-min_value) + min_value   # scale back\n",
    "\n",
    "fig = plt.figure(figsize=(16,32)) # image\n",
    "ax1 = fig.add_subplot(1,2,1) \n",
    "ax1.imshow(original_data)\n",
    "ax2 = fig.add_subplot(1,2,2)\n",
    "ax2.imshow(decoded_data.reshape(128,128))\n",
    "print('mse: ',np.square((original_data-decoded_data)).mean())"
   ]
  },
  {
   "cell_type": "code",
   "execution_count": null,
   "id": "0054cd72",
   "metadata": {},
   "outputs": [],
   "source": [
    "test_sample_index = 110\n",
    "\n",
    "# select a sample\n",
    "original_data = test_set[test_sample_index]\n",
    "original_data.shape\n",
    "\n",
    "test_data = (original_data - min_value)/(max_value - min_value) # preprocessing\n",
    "test_data.shape\n",
    "\n",
    "decoded_data = autoencoder.predict(np.expand_dims(test_data, 0)) \n",
    "decoded_data = decoded_data*(max_value-min_value) + min_value   # scale back\n",
    "\n",
    "fig = plt.figure(figsize=(16,32)) # image\n",
    "ax1 = fig.add_subplot(1,2,1) \n",
    "ax1.imshow(original_data,cmap='hot')\n",
    "ax2 = fig.add_subplot(1,2,2)\n",
    "ax2.imshow(decoded_data.reshape(128,128),cmap='hot')\n",
    "print('mse: ',np.square((original_data-decoded_data)).mean())"
   ]
  },
  {
   "cell_type": "code",
   "execution_count": 22,
   "id": "6b238e29",
   "metadata": {},
   "outputs": [
    {
     "data": {
      "text/plain": [
       "0.0015761419"
      ]
     },
     "execution_count": 22,
     "metadata": {},
     "output_type": "execute_result"
    }
   ],
   "source": [
    "mse"
   ]
  },
  {
   "cell_type": "code",
   "execution_count": 24,
   "id": "346bfdce",
   "metadata": {},
   "outputs": [
    {
     "name": "stdout",
     "output_type": "stream",
     "text": [
      "INFO:tensorflow:Assets written to: autoencoder(32,32,4) layer(7-6) 9 regions all data\\assets\n"
     ]
    }
   ],
   "source": [
    "autoencoder.save(\"autoencoder(32,32,4) layer(7-6) 9 regions all data\")"
   ]
  }
 ],
 "metadata": {
  "kernelspec": {
   "display_name": "Python 3 (ipykernel)",
   "language": "python",
   "name": "python3"
  },
  "language_info": {
   "codemirror_mode": {
    "name": "ipython",
    "version": 3
   },
   "file_extension": ".py",
   "mimetype": "text/x-python",
   "name": "python",
   "nbconvert_exporter": "python",
   "pygments_lexer": "ipython3",
   "version": "3.8.4"
  }
 },
 "nbformat": 4,
 "nbformat_minor": 5
}
