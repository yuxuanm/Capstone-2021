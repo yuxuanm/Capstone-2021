{
 "cells": [
  {
   "cell_type": "markdown",
   "id": "d51d6bcd",
   "metadata": {},
   "source": [
    "## Important parameters\n",
    "<br>xt_ocean: longitude, length 3600\n",
    "<br>yt_ocean: latitude, length 1500\n",
    "<br> [mind map](https://miro.com/app/board/o9J_lM4N1Pg=/?fromRedirect=1)"
   ]
  },
  {
   "cell_type": "code",
   "execution_count": 1,
   "id": "1795d601",
   "metadata": {},
   "outputs": [],
   "source": [
    "import netCDF4 as nc4\n",
    "import keras\n",
    "import xarray,numpy as np\n",
    "import math\n",
    "from sklearn.model_selection import train_test_split\n",
    "from sklearn import preprocessing\n",
    "from keras.datasets import mnist\n",
    "from keras.models import Model\n",
    "from keras.layers import Input, add\n",
    "from keras.layers.core import  Dense, Dropout, Activation, Flatten, Reshape\n",
    "from keras import regularizers\n",
    "from keras.regularizers import l2\n",
    "from keras.layers.convolutional import Conv2D, MaxPooling2D, UpSampling2D, ZeroPadding2D\n",
    "from keras.utils import np_utils\n",
    "from tensorflow.keras import layers"
   ]
  },
  {
   "cell_type": "markdown",
   "id": "b71e6d28",
   "metadata": {},
   "source": [
    "# Load data"
   ]
  },
  {
   "cell_type": "code",
   "execution_count": 2,
   "id": "6208fbe1",
   "metadata": {},
   "outputs": [],
   "source": [
    "import glob\n",
    "input_data_split = []\n",
    "for np_name in glob.glob('raw data/128/dataset_128_N102/*.np[yz]'):\n",
    "    input_data_split.append(np.load(np_name))\n",
    "input_data_split = np.array(input_data_split)"
   ]
  },
  {
   "cell_type": "markdown",
   "id": "bec2f7c3",
   "metadata": {},
   "source": [
    "# Fix Missing Value"
   ]
  },
  {
   "cell_type": "code",
   "execution_count": 3,
   "id": "eca0c702",
   "metadata": {},
   "outputs": [],
   "source": [
    "def fix_missing_value(input_data):\n",
    "    \"\"\"\n",
    "    input 3d matrix\n",
    "    \"\"\"\n",
    "    for i in range(0,len(input_data)):\n",
    "        arr = input_data[i]\n",
    "        arr[np.isnan(arr)] = 0\n",
    "    return input_data"
   ]
  },
  {
   "cell_type": "markdown",
   "id": "d7dce738",
   "metadata": {},
   "source": [
    "# Min Max Scaling"
   ]
  },
  {
   "cell_type": "code",
   "execution_count": 4,
   "id": "6ba3d2bb",
   "metadata": {},
   "outputs": [],
   "source": [
    "def min_max_scale(input_data, max_value, min_value):\n",
    "    \"\"\"\n",
    "    input 3d matrix\n",
    "    \"\"\"\n",
    "    for i in range(len(input_data)):\n",
    "        input_data[i] = (input_data[i] - min_value)/(max_value - min_value)\n",
    "    return input_data"
   ]
  },
  {
   "cell_type": "markdown",
   "id": "eac1f398",
   "metadata": {},
   "source": [
    "# Preprocessing"
   ]
  },
  {
   "cell_type": "code",
   "execution_count": 5,
   "id": "a093197b",
   "metadata": {},
   "outputs": [
    {
     "data": {
      "text/plain": [
       "(3000, 128, 128, 1)"
      ]
     },
     "execution_count": 5,
     "metadata": {},
     "output_type": "execute_result"
    }
   ],
   "source": [
    "import random\n",
    "n = 3000 # sample size\n",
    "random.seed(7)\n",
    "input_data_split = np.array(random.sample(input_data_split.tolist(),n))\n",
    "input_data_split.shape"
   ]
  },
  {
   "cell_type": "code",
   "execution_count": 6,
   "id": "e6d72e26",
   "metadata": {},
   "outputs": [],
   "source": [
    "input_data_split = fix_missing_value(input_data_split)\n",
    "max_value = np.amax(input_data_split)\n",
    "min_value = np.amin(input_data_split)\n",
    "input_data_split_scaled = min_max_scale(input_data_split, max_value, min_value)"
   ]
  },
  {
   "cell_type": "code",
   "execution_count": 7,
   "id": "ce44ad44",
   "metadata": {},
   "outputs": [
    {
     "data": {
      "text/plain": [
       "(3000, 128, 128, 1)"
      ]
     },
     "execution_count": 7,
     "metadata": {},
     "output_type": "execute_result"
    }
   ],
   "source": [
    "input_data_split_scaled.shape"
   ]
  },
  {
   "cell_type": "markdown",
   "id": "203c60c7",
   "metadata": {},
   "source": [
    "# split train set & validation set"
   ]
  },
  {
   "cell_type": "code",
   "execution_count": 8,
   "id": "a77541d5",
   "metadata": {},
   "outputs": [
    {
     "data": {
      "text/plain": [
       "(2000, 128, 128, 1)"
      ]
     },
     "execution_count": 8,
     "metadata": {},
     "output_type": "execute_result"
    }
   ],
   "source": [
    "train_set, test_set = train_test_split(input_data_split, test_size=0.3333333, random_state=26)\n",
    "\n",
    "train_set_scaled, test_set_scaled = train_test_split(input_data_split_scaled, test_size=0.3333333, random_state=26)\n",
    "np.array(train_set_scaled).shape"
   ]
  },
  {
   "cell_type": "markdown",
   "id": "97a6fd39",
   "metadata": {},
   "source": [
    "# Autoencoder"
   ]
  },
  {
   "cell_type": "code",
   "execution_count": 9,
   "id": "47e31571",
   "metadata": {},
   "outputs": [
    {
     "name": "stdout",
     "output_type": "stream",
     "text": [
      "Model: \"model\"\n",
      "_________________________________________________________________\n",
      "Layer (type)                 Output Shape              Param #   \n",
      "=================================================================\n",
      "input_1 (InputLayer)         [(None, 128, 128, 1)]     0         \n",
      "_________________________________________________________________\n",
      "conv2d (Conv2D)              (None, 128, 128, 8)       80        \n",
      "_________________________________________________________________\n",
      "max_pooling2d (MaxPooling2D) (None, 64, 64, 8)         0         \n",
      "_________________________________________________________________\n",
      "conv2d_1 (Conv2D)            (None, 64, 64, 4)         292       \n",
      "_________________________________________________________________\n",
      "max_pooling2d_1 (MaxPooling2 (None, 32, 32, 4)         0         \n",
      "_________________________________________________________________\n",
      "conv2d_transpose (Conv2DTran (None, 32, 32, 4)         148       \n",
      "_________________________________________________________________\n",
      "conv2d_transpose_1 (Conv2DTr (None, 32, 32, 8)         296       \n",
      "_________________________________________________________________\n",
      "up_sampling2d (UpSampling2D) (None, 128, 128, 8)       0         \n",
      "_________________________________________________________________\n",
      "conv2d_transpose_2 (Conv2DTr (None, 128, 128, 1)       73        \n",
      "=================================================================\n",
      "Total params: 889\n",
      "Trainable params: 889\n",
      "Non-trainable params: 0\n",
      "_________________________________________________________________\n"
     ]
    }
   ],
   "source": [
    "lat = 128 # chunk size\n",
    "long = 128 # chunk size\n",
    "\n",
    "input_img = keras.Input(shape=(lat, long,1))\n",
    "\n",
    "x = layers.Conv2D(8, (3, 3), activation='relu', padding='same')(input_img)\n",
    "x = layers.MaxPooling2D((2, 2), padding='same')(x)\n",
    "x = layers.Conv2D(4, (3, 3), activation='relu',strides=(1,1), padding='same')(x)\n",
    "encoded = layers.MaxPooling2D((2, 2), padding='same')(x)\n",
    "\n",
    "x = layers.Conv2DTranspose(4, (3, 3), activation='relu', padding='same')(encoded)\n",
    "x = layers.Conv2DTranspose(8, (3, 3), activation='relu', padding='same')(x)\n",
    "x = layers.UpSampling2D((4, 4))(x)\n",
    "decoded = layers.Conv2DTranspose(1, (3, 3), activation='sigmoid', padding='same')(x)\n",
    "\n",
    "autoencoder = keras.Model(input_img, decoded)\n",
    "autoencoder.compile(optimizer='adam', loss='mse')\n",
    "autoencoder.summary()"
   ]
  },
  {
   "cell_type": "code",
   "execution_count": 10,
   "id": "01f45beb",
   "metadata": {},
   "outputs": [
    {
     "name": "stdout",
     "output_type": "stream",
     "text": [
      "Epoch 1/20\n",
      "63/63 [==============================] - 13s 193ms/step - loss: 0.0335 - val_loss: 0.0225\n",
      "Epoch 2/20\n",
      "63/63 [==============================] - 10s 158ms/step - loss: 0.0195 - val_loss: 0.0094\n",
      "Epoch 3/20\n",
      "63/63 [==============================] - 10s 154ms/step - loss: 0.0069 - val_loss: 0.0028\n",
      "Epoch 4/20\n",
      "63/63 [==============================] - 10s 155ms/step - loss: 0.0023 - val_loss: 0.0013\n",
      "Epoch 5/20\n",
      "63/63 [==============================] - 10s 164ms/step - loss: 0.0012 - val_loss: 9.0260e-04\n",
      "Epoch 6/20\n",
      "63/63 [==============================] - 10s 160ms/step - loss: 8.7676e-04 - val_loss: 7.5597e-04\n",
      "Epoch 7/20\n",
      "63/63 [==============================] - 10s 158ms/step - loss: 6.8902e-04 - val_loss: 6.5310e-04\n",
      "Epoch 8/20\n",
      "63/63 [==============================] - 11s 167ms/step - loss: 6.2934e-04 - val_loss: 5.8269e-04\n",
      "Epoch 9/20\n",
      "63/63 [==============================] - 11s 172ms/step - loss: 5.6132e-04 - val_loss: 5.3399e-04\n",
      "Epoch 10/20\n",
      "63/63 [==============================] - 10s 159ms/step - loss: 5.3659e-04 - val_loss: 4.8391e-04\n",
      "Epoch 11/20\n",
      "63/63 [==============================] - 10s 156ms/step - loss: 4.7422e-04 - val_loss: 4.4224e-04\n",
      "Epoch 12/20\n",
      "63/63 [==============================] - 10s 160ms/step - loss: 4.3341e-04 - val_loss: 4.0324e-04\n",
      "Epoch 13/20\n",
      "63/63 [==============================] - 11s 168ms/step - loss: 4.0013e-04 - val_loss: 3.7557e-04\n",
      "Epoch 14/20\n",
      "63/63 [==============================] - 11s 174ms/step - loss: 3.7161e-04 - val_loss: 3.5454e-04\n",
      "Epoch 15/20\n",
      "63/63 [==============================] - 10s 164ms/step - loss: 3.6187e-04 - val_loss: 3.3907e-04\n",
      "Epoch 16/20\n",
      "63/63 [==============================] - 10s 158ms/step - loss: 3.3469e-04 - val_loss: 3.2682e-04\n",
      "Epoch 17/20\n",
      "63/63 [==============================] - 10s 154ms/step - loss: 3.2369e-04 - val_loss: 3.1703e-04\n",
      "Epoch 18/20\n",
      "63/63 [==============================] - 10s 160ms/step - loss: 3.1434e-04 - val_loss: 2.9807e-04\n",
      "Epoch 19/20\n",
      "63/63 [==============================] - 10s 161ms/step - loss: 2.9909e-04 - val_loss: 2.8632e-04\n",
      "Epoch 20/20\n",
      "63/63 [==============================] - 10s 166ms/step - loss: 2.8997e-04 - val_loss: 2.8106e-04\n"
     ]
    }
   ],
   "source": [
    "history = autoencoder.fit(train_set_scaled, train_set_scaled,\n",
    "                epochs=20, validation_data=(test_set_scaled, test_set_scaled))"
   ]
  },
  {
   "cell_type": "code",
   "execution_count": 11,
   "id": "3dcd1eed",
   "metadata": {},
   "outputs": [
    {
     "data": {
      "image/png": "[encoded data removed]",
      "text/plain": [
       "<Figure size 432x288 with 1 Axes>"
      ]
     },
     "metadata": {
      "needs_background": "light"
     },
     "output_type": "display_data"
    }
   ],
   "source": [
    "import matplotlib.pyplot as plt\n",
    "plt.plot(history.history['loss'])\n",
    "plt.plot(history.history['val_loss'])\n",
    "plt.title('model loss')\n",
    "plt.ylabel('loss')\n",
    "plt.xlabel('epoch')\n",
    "plt.legend(['train', 'validation'], loc='upper right')\n",
    "plt.show()"
   ]
  },
  {
   "cell_type": "code",
   "execution_count": 12,
   "id": "6adb654c",
   "metadata": {},
   "outputs": [],
   "source": [
    "test_sample_index = 122\n",
    "\n",
    "# select a sample\n",
    "original_data = test_set[test_sample_index]\n",
    "original_data.shape\n",
    "\n",
    "test_data = (original_data - min_value)/(max_value - min_value) # preprocessing\n",
    "test_data.shape\n",
    "\n",
    "decoded_data = autoencoder.predict(np.expand_dims(test_data, 0)) \n",
    "decoded_data = decoded_data*(max_value-min_value) + min_value   # scale back"
   ]
  },
  {
   "cell_type": "code",
   "execution_count": 13,
   "id": "4ce65530",
   "metadata": {},
   "outputs": [
    {
     "data": {
      "text/plain": [
       "<matplotlib.image.AxesImage at 0x284e800f9d0>"
      ]
     },
     "execution_count": 13,
     "metadata": {},
     "output_type": "execute_result"
    },
    {
     "data": {
      "image/png": "[encoded data removed]",
      "text/plain": [
       "<Figure size 1152x2304 with 2 Axes>"
      ]
     },
     "metadata": {
      "needs_background": "light"
     },
     "output_type": "display_data"
    }
   ],
   "source": [
    "fig = plt.figure(figsize=(16,32)) # image\n",
    "ax1 = fig.add_subplot(1,2,1) \n",
    "ax1.imshow(original_data,cmap='hot')\n",
    "ax2 = fig.add_subplot(1,2,2)\n",
    "ax2.imshow(decoded_data.reshape(128,128),cmap='hot')"
   ]
  },
  {
   "cell_type": "code",
   "execution_count": 14,
   "id": "4c654182",
   "metadata": {},
   "outputs": [
    {
     "data": {
      "text/plain": [
       "0.00023573479198807473"
      ]
     },
     "execution_count": 14,
     "metadata": {},
     "output_type": "execute_result"
    }
   ],
   "source": [
    "mse = np.square((original_data-decoded_data)).mean()\n",
    "mse"
   ]
  },
  {
   "cell_type": "code",
   "execution_count": 15,
   "id": "ac14a795",
   "metadata": {},
   "outputs": [
    {
     "data": {
      "text/plain": [
       "<matplotlib.image.AxesImage at 0x284e86a34f0>"
      ]
     },
     "execution_count": 15,
     "metadata": {},
     "output_type": "execute_result"
    },
    {
     "data": {
      "image/png": "[encoded data removed]",
      "text/plain": [
       "<Figure size 1152x2304 with 2 Axes>"
      ]
     },
     "metadata": {
      "needs_background": "light"
     },
     "output_type": "display_data"
    }
   ],
   "source": [
    "test_sample_index = 110\n",
    "\n",
    "# select a sample\n",
    "original_data = test_set[test_sample_index]\n",
    "original_data.shape\n",
    "\n",
    "test_data = (original_data - min_value)/(max_value - min_value) # preprocessing\n",
    "test_data.shape\n",
    "\n",
    "decoded_data = autoencoder.predict(np.expand_dims(test_data, 0)) \n",
    "decoded_data = decoded_data*(max_value-min_value) + min_value   # scale back\n",
    "\n",
    "fig = plt.figure(figsize=(16,32)) # image\n",
    "ax1 = fig.add_subplot(1,2,1) \n",
    "ax1.imshow(original_data,cmap='hot')\n",
    "ax2 = fig.add_subplot(1,2,2)\n",
    "ax2.imshow(decoded_data.reshape(128,128),cmap='hot')"
   ]
  },
  {
   "cell_type": "code",
   "execution_count": 16,
   "id": "a7294899",
   "metadata": {},
   "outputs": [
    {
     "data": {
      "text/plain": [
       "0.00040277912408285096"
      ]
     },
     "execution_count": 16,
     "metadata": {},
     "output_type": "execute_result"
    }
   ],
   "source": [
    "mse = np.square((original_data-decoded_data)).mean()\n",
    "mse"
   ]
  },
  {
   "cell_type": "code",
   "execution_count": 18,
   "id": "33bc8853",
   "metadata": {},
   "outputs": [
    {
     "name": "stdout",
     "output_type": "stream",
     "text": [
      "INFO:tensorflow:Assets written to: autoencoder(32,32,4 comparison) layer(4-4) sample(3000 single region)\\assets\n"
     ]
    }
   ],
   "source": [
    "autoencoder.save(\"autoencoder(32,32,4 comparison) layer(4-4) sample(3000 single region)\")"
   ]
  }
 ],
 "metadata": {
  "kernelspec": {
   "display_name": "Python 3",
   "language": "python",
   "name": "python3"
  },
  "language_info": {
   "codemirror_mode": {
    "name": "ipython",
    "version": 3
   },
   "file_extension": ".py",
   "mimetype": "text/x-python",
   "name": "python",
   "nbconvert_exporter": "python",
   "pygments_lexer": "ipython3",
   "version": "3.8.8"
  }
 },
 "nbformat": 4,
 "nbformat_minor": 5
}
