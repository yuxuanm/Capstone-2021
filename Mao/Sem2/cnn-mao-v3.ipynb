{
 "cells": [
  {
   "cell_type": "markdown",
   "id": "d51d6bcd",
   "metadata": {},
   "source": [
    "## Important parameters\n",
    "<br>xt_ocean: longitude, length 3600\n",
    "<br>yt_ocean: latitude, length 1500\n",
    "<br> [mind map](https://miro.com/app/board/o9J_lM4N1Pg=/?fromRedirect=1)"
   ]
  },
  {
   "cell_type": "code",
   "execution_count": 1,
   "id": "1795d601",
   "metadata": {},
   "outputs": [],
   "source": [
    "import netCDF4 as nc4\n",
    "import keras\n",
    "import xarray,numpy as np\n",
    "import math\n",
    "from sklearn.model_selection import train_test_split\n",
    "from sklearn import preprocessing\n",
    "from keras.datasets import mnist\n",
    "from keras.models import Model\n",
    "from keras.layers import Input, add\n",
    "from keras.layers.core import  Dense, Dropout, Activation, Flatten, Reshape\n",
    "from keras import regularizers\n",
    "from keras.regularizers import l2\n",
    "from keras.layers.convolutional import Conv2D, MaxPooling2D, UpSampling2D, ZeroPadding2D\n",
    "from keras.utils import np_utils\n",
    "from tensorflow.keras import layers"
   ]
  },
  {
   "cell_type": "markdown",
   "id": "b71e6d28",
   "metadata": {},
   "source": [
    "# Load data"
   ]
  },
  {
   "cell_type": "code",
   "execution_count": 2,
   "id": "6208fbe1",
   "metadata": {},
   "outputs": [
    {
     "data": {
      "text/plain": [
       "(182, 1500, 3600)"
      ]
     },
     "execution_count": 2,
     "metadata": {},
     "output_type": "execute_result"
    }
   ],
   "source": [
    "file_path =['C:/Users/myxll/OneDrive - The University of Melbourne/capstone/data/OFAM_2017/ocean_eta_t/ocean_eta_t_2000_01.nc']\n",
    "file_path.append('C:/Users/myxll/OneDrive - The University of Melbourne/capstone/data/OFAM_2017/ocean_eta_t/ocean_eta_t_2000_02.nc')\n",
    "file_path.append('C:/Users/myxll/OneDrive - The University of Melbourne/capstone/data/OFAM_2017/ocean_eta_t/ocean_eta_t_2000_03.nc')\n",
    "file_path.append('C:/Users/myxll/OneDrive - The University of Melbourne/capstone/data/OFAM_2017/ocean_eta_t/ocean_eta_t_2000_04.nc')\n",
    "file_path.append('C:/Users/myxll/OneDrive - The University of Melbourne/capstone/data/OFAM_2017/ocean_eta_t/ocean_eta_t_2000_05.nc')\n",
    "file_path.append('C:/Users/myxll/OneDrive - The University of Melbourne/capstone/data/OFAM_2017/ocean_eta_t/ocean_eta_t_2000_06.nc')\n",
    "ds = nc4.MFDataset(file_path)\n",
    "eta_t = ds.variables['eta_t'][:]\n",
    "eta_t_numpy = np.array(eta_t)\n",
    "eta_t_numpy = np.nan_to_num(eta_t_numpy)\n",
    "\n",
    "# check input shape\n",
    "eta_t_numpy.shape"
   ]
  },
  {
   "cell_type": "markdown",
   "id": "aeda3780",
   "metadata": {},
   "source": [
    "# Preprocessing"
   ]
  },
  {
   "cell_type": "code",
   "execution_count": 9,
   "id": "f1d6777e",
   "metadata": {},
   "outputs": [],
   "source": [
    "def fix_missing_value(input_data):\n",
    "    \"\"\"\n",
    "    fixed missing values with 0\n",
    "    \"\"\"\n",
    "    for i in range(0,len(input_data)):\n",
    "        arr = input_data[i]\n",
    "        arr[arr == -32768] = 0"
   ]
  },
  {
   "cell_type": "code",
   "execution_count": 14,
   "id": "d67afc84",
   "metadata": {},
   "outputs": [],
   "source": [
    "def normalize_matrix(matrix):\n",
    "    \"\"\"\n",
    "    Normalize the input\n",
    "    \n",
    "    \"\"\"\n",
    "    norm = np.linalg.norm(matrix)\n",
    "    matrix = matrix/norm  # normalized matrix\n",
    "    return matrix"
   ]
  },
  {
   "cell_type": "code",
   "execution_count": 36,
   "id": "ef551a1f",
   "metadata": {},
   "outputs": [],
   "source": [
    "import math\n",
    "lat = 128 # chunk size\n",
    "long = 128 # chunk size\n",
    "def split_array(input_data, lat, long):\n",
    "    \"\"\"\n",
    "    Split the whole 3600*1500 array into smaller chunks.\n",
    "    Padding with zeros to make the array be divisible by chunk size.\n",
    "    \n",
    "    Args:\n",
    "        input_data: data of a single day from a eta_t instance\n",
    "        lat: chunk size\n",
    "        long: chunk size\n",
    "    \"\"\"\n",
    "    pad_cols = math.ceil(3600/long)*long - 3600 # number of zero columns adding to the right\n",
    "    pad_rows = math.ceil(1500/lat)*lat - 1500 # number of zero rows adding to the bottom\n",
    "    \n",
    "\n",
    "    input_data=np.pad(input_data,((0,pad_rows),(0,pad_cols)), 'constant',constant_values=(0,0)) # padding with zeros, right & bottom\n",
    "    \n",
    "    l = np.array_split(input_data,len(input_data)/lat,axis=0)\n",
    "    input_data_split = []\n",
    "    for i in range(len(l)):\n",
    "        dd = np.array_split(l[i],len(input_data[0])/long,axis=1)\n",
    "        input_data_split += dd\n",
    "    input_data_split = np.array(input_data_split)\n",
    "    return input_data_split"
   ]
  },
  {
   "cell_type": "code",
   "execution_count": 41,
   "id": "4cc7a165",
   "metadata": {},
   "outputs": [],
   "source": [
    "def preprocess(eta_t_numpy, lat, long, region_index): \n",
    "    \"\"\"\n",
    "    Input a eta_t instance, return a particular region in the splitted array.\n",
    "    \n",
    "    Args:\n",
    "        eta_t_numpy: one eta_t instance in numpy format\n",
    "        lag: chunk size\n",
    "        long: chunk size\n",
    "        region_index: the particular region interested\n",
    "    Return:\n",
    "        A numpy array in shape (size, lat, long)\n",
    "    \"\"\"\n",
    "    input_data_split = []\n",
    "    for i in range(len(eta_t_numpy)):\n",
    "        input_data = eta_t_numpy[i,:,:]\n",
    "        fix_missing_value(input_data) # replace missing value\n",
    "\n",
    "        normalize_matrix(input_data) # normalize\n",
    "\n",
    "        input_data_split.append(split_array(input_data, lat, long)[region_index])\n",
    "    return np.array(input_data_split)"
   ]
  },
  {
   "cell_type": "code",
   "execution_count": 38,
   "id": "8d92fab3",
   "metadata": {},
   "outputs": [],
   "source": [
    "input_data_split= preprocess(eta_t_numpy, lat, long, 100)"
   ]
  },
  {
   "cell_type": "code",
   "execution_count": 42,
   "id": "e8c96060",
   "metadata": {},
   "outputs": [],
   "source": [
    "# save to a file\n",
    "np.save('128x128_6months',input_data_split)"
   ]
  },
  {
   "cell_type": "code",
   "execution_count": 43,
   "id": "3fdffc11",
   "metadata": {},
   "outputs": [
    {
     "data": {
      "text/plain": [
       "(182, 128, 128)"
      ]
     },
     "execution_count": 43,
     "metadata": {},
     "output_type": "execute_result"
    }
   ],
   "source": [
    "input_data_split.shape"
   ]
  },
  {
   "cell_type": "code",
   "execution_count": 39,
   "id": "667bee88",
   "metadata": {},
   "outputs": [
    {
     "data": {
      "text/plain": [
       "array([[0.12207404, 0.09155553, 0.12207404, ..., 0.27466658, 0.24414808,\n",
       "        0.24414808],\n",
       "       [0.09155553, 0.09155553, 0.09155553, ..., 0.27466658, 0.27466658,\n",
       "        0.27466658],\n",
       "       [0.09155553, 0.09155553, 0.09155553, ..., 0.27466658, 0.27466658,\n",
       "        0.27466658],\n",
       "       ...,\n",
       "       [0.5188147 , 0.5188147 , 0.5188147 , ..., 0.5188147 , 0.48829615,\n",
       "        0.48829615],\n",
       "       [0.5188147 , 0.5188147 , 0.5188147 , ..., 0.5188147 , 0.48829615,\n",
       "        0.48829615],\n",
       "       [0.5188147 , 0.5188147 , 0.5188147 , ..., 0.5188147 , 0.48829615,\n",
       "        0.48829615]], dtype=float32)"
      ]
     },
     "execution_count": 39,
     "metadata": {},
     "output_type": "execute_result"
    }
   ],
   "source": [
    "input_data_split[0]"
   ]
  },
  {
   "cell_type": "markdown",
   "id": "203c60c7",
   "metadata": {},
   "source": [
    "# split train set & validation set"
   ]
  },
  {
   "cell_type": "code",
   "execution_count": 44,
   "id": "a77541d5",
   "metadata": {},
   "outputs": [
    {
     "data": {
      "text/plain": [
       "(121, 128, 128)"
      ]
     },
     "execution_count": 44,
     "metadata": {},
     "output_type": "execute_result"
    }
   ],
   "source": [
    "train_set, test_set = train_test_split(input_data_split, test_size=0.33)\n",
    "train_set.shape"
   ]
  },
  {
   "cell_type": "markdown",
   "id": "97a6fd39",
   "metadata": {},
   "source": [
    "# Autoencoder"
   ]
  },
  {
   "cell_type": "code",
   "execution_count": 45,
   "id": "47e31571",
   "metadata": {},
   "outputs": [
    {
     "name": "stdout",
     "output_type": "stream",
     "text": [
      "Model: \"model\"\n",
      "_________________________________________________________________\n",
      "Layer (type)                 Output Shape              Param #   \n",
      "=================================================================\n",
      "input_1 (InputLayer)         [(None, 128, 128, 1)]     0         \n",
      "_________________________________________________________________\n",
      "conv2d (Conv2D)              (None, 128, 128, 16)      160       \n",
      "_________________________________________________________________\n",
      "max_pooling2d (MaxPooling2D) (None, 64, 64, 16)        0         \n",
      "_________________________________________________________________\n",
      "conv2d_1 (Conv2D)            (None, 64, 64, 8)         1160      \n",
      "_________________________________________________________________\n",
      "max_pooling2d_1 (MaxPooling2 (None, 32, 32, 8)         0         \n",
      "_________________________________________________________________\n",
      "conv2d_transpose (Conv2DTran (None, 32, 32, 8)         584       \n",
      "_________________________________________________________________\n",
      "conv2d_transpose_1 (Conv2DTr (None, 32, 32, 16)        1168      \n",
      "_________________________________________________________________\n",
      "up_sampling2d (UpSampling2D) (None, 128, 128, 16)      0         \n",
      "_________________________________________________________________\n",
      "conv2d_transpose_2 (Conv2DTr (None, 128, 128, 1)       145       \n",
      "=================================================================\n",
      "Total params: 3,217\n",
      "Trainable params: 3,217\n",
      "Non-trainable params: 0\n",
      "_________________________________________________________________\n"
     ]
    }
   ],
   "source": [
    "lat = 128 # chunk size\n",
    "long = 128 # chunk size\n",
    "\n",
    "input_img = keras.Input(shape=(lat, long,1))\n",
    "\n",
    "x = layers.Conv2D(16, (3, 3), activation='relu', padding='same')(input_img)\n",
    "x = layers.MaxPooling2D((2, 2), padding='same')(x)\n",
    "x = layers.Conv2D(8, (3, 3), activation='relu',strides=(1,1), padding='same')(x)\n",
    "encoded = layers.MaxPooling2D((2, 2), padding='same')(x)\n",
    "\n",
    "x = layers.Conv2DTranspose(8, (3, 3), activation='relu', padding='same')(encoded)\n",
    "x = layers.Conv2DTranspose(16, (3, 3), activation='relu', padding='same')(x)\n",
    "x = layers.UpSampling2D((4, 4))(x)\n",
    "decoded = layers.Conv2DTranspose(1, (3, 3), activation='sigmoid', padding='same')(x)\n",
    "\n",
    "autoencoder = keras.Model(input_img, decoded)\n",
    "autoencoder.compile(optimizer='adam', loss='mse')\n",
    "autoencoder.summary()"
   ]
  },
  {
   "cell_type": "code",
   "execution_count": 13,
   "id": "01f45beb",
   "metadata": {},
   "outputs": [
    {
     "name": "stdout",
     "output_type": "stream",
     "text": [
      "Epoch 1/100\n",
      "4/4 [==============================] - 5s 1s/step - loss: 0.0350 - val_loss: 0.0315\n",
      "Epoch 2/100\n",
      "4/4 [==============================] - 2s 424ms/step - loss: 0.0315 - val_loss: 0.0288\n",
      "Epoch 3/100\n",
      "4/4 [==============================] - 2s 418ms/step - loss: 0.0288 - val_loss: 0.0280\n",
      "Epoch 4/100\n",
      "4/4 [==============================] - 2s 534ms/step - loss: 0.0280 - val_loss: 0.0270\n",
      "Epoch 5/100\n",
      "4/4 [==============================] - 2s 567ms/step - loss: 0.0267 - val_loss: 0.0254\n",
      "Epoch 6/100\n",
      "4/4 [==============================] - 3s 780ms/step - loss: 0.0254 - val_loss: 0.0238\n",
      "Epoch 7/100\n",
      "4/4 [==============================] - 2s 489ms/step - loss: 0.0235 - val_loss: 0.0211\n",
      "Epoch 8/100\n",
      "4/4 [==============================] - 2s 483ms/step - loss: 0.0205 - val_loss: 0.0175\n",
      "Epoch 9/100\n",
      "4/4 [==============================] - 2s 384ms/step - loss: 0.0164 - val_loss: 0.0124\n",
      "Epoch 10/100\n",
      "4/4 [==============================] - 1s 409ms/step - loss: 0.0113 - val_loss: 0.0072\n",
      "Epoch 11/100\n",
      "4/4 [==============================] - 2s 438ms/step - loss: 0.0062 - val_loss: 0.0030\n",
      "Epoch 12/100\n",
      "4/4 [==============================] - 1s 372ms/step - loss: 0.0027 - val_loss: 0.0028\n",
      "Epoch 13/100\n",
      "4/4 [==============================] - 2s 598ms/step - loss: 0.0029 - val_loss: 0.0033\n",
      "Epoch 14/100\n",
      "4/4 [==============================] - 2s 627ms/step - loss: 0.0031 - val_loss: 0.0023\n",
      "Epoch 15/100\n",
      "4/4 [==============================] - 2s 543ms/step - loss: 0.0021 - val_loss: 0.0018\n",
      "Epoch 16/100\n",
      "4/4 [==============================] - 2s 576ms/step - loss: 0.0018 - val_loss: 0.0018\n",
      "Epoch 17/100\n",
      "4/4 [==============================] - 2s 502ms/step - loss: 0.0018 - val_loss: 0.0018\n",
      "Epoch 18/100\n",
      "4/4 [==============================] - 2s 504ms/step - loss: 0.0017 - val_loss: 0.0015\n",
      "Epoch 19/100\n",
      "4/4 [==============================] - 2s 538ms/step - loss: 0.0015 - val_loss: 0.0015\n",
      "Epoch 20/100\n",
      "4/4 [==============================] - 2s 524ms/step - loss: 0.0015 - val_loss: 0.0014\n",
      "Epoch 21/100\n",
      "4/4 [==============================] - 2s 445ms/step - loss: 0.0014 - val_loss: 0.0013\n",
      "Epoch 22/100\n",
      "4/4 [==============================] - 2s 462ms/step - loss: 0.0013 - val_loss: 0.0013\n",
      "Epoch 23/100\n",
      "4/4 [==============================] - 2s 460ms/step - loss: 0.0012 - val_loss: 0.0012\n",
      "Epoch 24/100\n",
      "4/4 [==============================] - 2s 425ms/step - loss: 0.0012 - val_loss: 0.0011\n",
      "Epoch 25/100\n",
      "4/4 [==============================] - 2s 609ms/step - loss: 0.0011 - val_loss: 0.0011\n",
      "Epoch 26/100\n",
      "4/4 [==============================] - 2s 501ms/step - loss: 0.0011 - val_loss: 0.0011\n",
      "Epoch 27/100\n",
      "4/4 [==============================] - 2s 432ms/step - loss: 0.0011 - val_loss: 0.0010\n",
      "Epoch 28/100\n",
      "4/4 [==============================] - 2s 433ms/step - loss: 0.0010 - val_loss: 0.0010\n",
      "Epoch 29/100\n",
      "4/4 [==============================] - 2s 406ms/step - loss: 9.8182e-04 - val_loss: 9.8982e-04\n",
      "Epoch 30/100\n",
      "4/4 [==============================] - 2s 558ms/step - loss: 9.6422e-04 - val_loss: 9.6083e-04\n",
      "Epoch 31/100\n",
      "4/4 [==============================] - 2s 506ms/step - loss: 9.4509e-04 - val_loss: 9.3125e-04\n",
      "Epoch 32/100\n",
      "4/4 [==============================] - 2s 423ms/step - loss: 9.1668e-04 - val_loss: 9.0038e-04\n",
      "Epoch 33/100\n",
      "4/4 [==============================] - 2s 377ms/step - loss: 8.8596e-04 - val_loss: 8.7177e-04\n",
      "Epoch 34/100\n",
      "4/4 [==============================] - 2s 496ms/step - loss: 8.5277e-04 - val_loss: 8.4620e-04\n",
      "Epoch 35/100\n",
      "4/4 [==============================] - 2s 452ms/step - loss: 8.3372e-04 - val_loss: 8.1900e-04\n",
      "Epoch 36/100\n",
      "4/4 [==============================] - 2s 388ms/step - loss: 7.9987e-04 - val_loss: 7.9316e-04\n",
      "Epoch 37/100\n",
      "4/4 [==============================] - 1s 390ms/step - loss: 7.8614e-04 - val_loss: 7.6856e-04\n",
      "Epoch 38/100\n",
      "4/4 [==============================] - 2s 462ms/step - loss: 7.5557e-04 - val_loss: 7.4550e-04\n",
      "Epoch 39/100\n",
      "4/4 [==============================] - 2s 406ms/step - loss: 7.3139e-04 - val_loss: 7.2213e-04\n",
      "Epoch 40/100\n",
      "4/4 [==============================] - 2s 537ms/step - loss: 7.1043e-04 - val_loss: 7.0058e-04\n",
      "Epoch 41/100\n",
      "4/4 [==============================] - 2s 442ms/step - loss: 6.8022e-04 - val_loss: 6.7874e-04\n",
      "Epoch 42/100\n",
      "4/4 [==============================] - 2s 561ms/step - loss: 6.6423e-04 - val_loss: 6.5776e-04\n",
      "Epoch 43/100\n",
      "4/4 [==============================] - 2s 386ms/step - loss: 6.4383e-04 - val_loss: 6.3774e-04\n",
      "Epoch 44/100\n",
      "4/4 [==============================] - 2s 506ms/step - loss: 6.2827e-04 - val_loss: 6.1900e-04\n",
      "Epoch 45/100\n",
      "4/4 [==============================] - 2s 481ms/step - loss: 6.0293e-04 - val_loss: 6.0151e-04\n",
      "Epoch 46/100\n",
      "4/4 [==============================] - 2s 548ms/step - loss: 5.8502e-04 - val_loss: 5.8322e-04\n",
      "Epoch 47/100\n",
      "4/4 [==============================] - 2s 633ms/step - loss: 5.7040e-04 - val_loss: 5.6529e-04\n",
      "Epoch 48/100\n",
      "4/4 [==============================] - 2s 618ms/step - loss: 5.5112e-04 - val_loss: 5.7659e-04\n",
      "Epoch 49/100\n",
      "4/4 [==============================] - 2s 545ms/step - loss: 5.6899e-04 - val_loss: 5.4753e-04\n",
      "Epoch 50/100\n",
      "4/4 [==============================] - 2s 414ms/step - loss: 5.4503e-04 - val_loss: 5.3039e-04\n",
      "Epoch 51/100\n",
      "4/4 [==============================] - 1s 346ms/step - loss: 5.2290e-04 - val_loss: 5.2388e-04\n",
      "Epoch 52/100\n",
      "4/4 [==============================] - 1s 335ms/step - loss: 5.1708e-04 - val_loss: 5.1430e-04\n",
      "Epoch 53/100\n",
      "4/4 [==============================] - 1s 360ms/step - loss: 5.0576e-04 - val_loss: 5.0556e-04\n",
      "Epoch 54/100\n",
      "4/4 [==============================] - 1s 330ms/step - loss: 4.9616e-04 - val_loss: 4.9492e-04\n",
      "Epoch 55/100\n",
      "4/4 [==============================] - 2s 549ms/step - loss: 4.8778e-04 - val_loss: 4.8543e-04\n",
      "Epoch 56/100\n",
      "4/4 [==============================] - 2s 459ms/step - loss: 4.8421e-04 - val_loss: 4.8197e-04\n",
      "Epoch 57/100\n",
      "4/4 [==============================] - 2s 578ms/step - loss: 4.7308e-04 - val_loss: 4.7148e-04\n",
      "Epoch 58/100\n",
      "4/4 [==============================] - 2s 434ms/step - loss: 4.6485e-04 - val_loss: 4.7094e-04\n",
      "Epoch 59/100\n",
      "4/4 [==============================] - 2s 494ms/step - loss: 4.6343e-04 - val_loss: 4.7293e-04\n",
      "Epoch 60/100\n",
      "4/4 [==============================] - 2s 466ms/step - loss: 4.6801e-04 - val_loss: 4.5481e-04\n",
      "Epoch 61/100\n",
      "4/4 [==============================] - 2s 453ms/step - loss: 4.6069e-04 - val_loss: 4.4749e-04\n",
      "Epoch 62/100\n",
      "4/4 [==============================] - 2s 387ms/step - loss: 4.4823e-04 - val_loss: 4.4312e-04\n",
      "Epoch 63/100\n",
      "4/4 [==============================] - 2s 475ms/step - loss: 4.4501e-04 - val_loss: 4.4208e-04\n",
      "Epoch 64/100\n",
      "4/4 [==============================] - 1s 369ms/step - loss: 4.3931e-04 - val_loss: 4.3616e-04\n",
      "Epoch 65/100\n",
      "4/4 [==============================] - 2s 478ms/step - loss: 4.2748e-04 - val_loss: 4.2992e-04\n",
      "Epoch 66/100\n",
      "4/4 [==============================] - 2s 593ms/step - loss: 4.2747e-04 - val_loss: 4.2752e-04\n",
      "Epoch 67/100\n",
      "4/4 [==============================] - 2s 490ms/step - loss: 4.2424e-04 - val_loss: 4.2215e-04\n",
      "Epoch 68/100\n",
      "4/4 [==============================] - 2s 465ms/step - loss: 4.1879e-04 - val_loss: 4.1996e-04\n",
      "Epoch 69/100\n",
      "4/4 [==============================] - 1s 378ms/step - loss: 4.1759e-04 - val_loss: 4.1971e-04\n",
      "Epoch 70/100\n",
      "4/4 [==============================] - 2s 370ms/step - loss: 4.1121e-04 - val_loss: 4.1225e-04\n",
      "Epoch 71/100\n",
      "4/4 [==============================] - 3s 601ms/step - loss: 4.1096e-04 - val_loss: 4.0688e-04\n",
      "Epoch 72/100\n",
      "4/4 [==============================] - 2s 377ms/step - loss: 4.0478e-04 - val_loss: 4.0783e-04\n",
      "Epoch 73/100\n",
      "4/4 [==============================] - 1s 390ms/step - loss: 4.0431e-04 - val_loss: 4.0419e-04\n",
      "Epoch 74/100\n",
      "4/4 [==============================] - 1s 379ms/step - loss: 4.0283e-04 - val_loss: 3.9650e-04\n",
      "Epoch 75/100\n",
      "4/4 [==============================] - 2s 483ms/step - loss: 3.9542e-04 - val_loss: 3.9687e-04\n",
      "Epoch 76/100\n",
      "4/4 [==============================] - 2s 395ms/step - loss: 3.9398e-04 - val_loss: 3.8988e-04\n",
      "Epoch 77/100\n",
      "4/4 [==============================] - 1s 369ms/step - loss: 3.8510e-04 - val_loss: 3.8809e-04\n",
      "Epoch 78/100\n",
      "4/4 [==============================] - 2s 444ms/step - loss: 3.8213e-04 - val_loss: 3.8678e-04\n",
      "Epoch 79/100\n"
     ]
    },
    {
     "name": "stdout",
     "output_type": "stream",
     "text": [
      "4/4 [==============================] - 2s 407ms/step - loss: 3.8929e-04 - val_loss: 4.2451e-04\n",
      "Epoch 80/100\n",
      "4/4 [==============================] - 2s 497ms/step - loss: 4.0753e-04 - val_loss: 3.8912e-04\n",
      "Epoch 81/100\n",
      "4/4 [==============================] - 1s 368ms/step - loss: 3.8598e-04 - val_loss: 3.7685e-04\n",
      "Epoch 82/100\n",
      "4/4 [==============================] - 1s 299ms/step - loss: 3.8061e-04 - val_loss: 3.8290e-04\n",
      "Epoch 83/100\n",
      "4/4 [==============================] - 1s 356ms/step - loss: 3.7849e-04 - val_loss: 3.7560e-04\n",
      "Epoch 84/100\n",
      "4/4 [==============================] - 2s 439ms/step - loss: 3.7912e-04 - val_loss: 3.7262e-04\n",
      "Epoch 85/100\n",
      "4/4 [==============================] - 1s 368ms/step - loss: 3.7218e-04 - val_loss: 3.7063e-04\n",
      "Epoch 86/100\n",
      "4/4 [==============================] - 1s 387ms/step - loss: 3.7707e-04 - val_loss: 3.7533e-04\n",
      "Epoch 87/100\n",
      "4/4 [==============================] - 1s 309ms/step - loss: 3.7405e-04 - val_loss: 3.6871e-04\n",
      "Epoch 88/100\n",
      "4/4 [==============================] - 2s 398ms/step - loss: 3.6629e-04 - val_loss: 3.6809e-04\n",
      "Epoch 89/100\n",
      "4/4 [==============================] - 2s 474ms/step - loss: 3.7446e-04 - val_loss: 3.7326e-04\n",
      "Epoch 90/100\n",
      "4/4 [==============================] - 2s 422ms/step - loss: 3.6937e-04 - val_loss: 3.6065e-04\n",
      "Epoch 91/100\n",
      "4/4 [==============================] - 2s 659ms/step - loss: 3.6088e-04 - val_loss: 3.6158e-04\n",
      "Epoch 92/100\n",
      "4/4 [==============================] - 2s 518ms/step - loss: 3.5819e-04 - val_loss: 3.6244e-04\n",
      "Epoch 93/100\n",
      "4/4 [==============================] - 1s 377ms/step - loss: 3.6254e-04 - val_loss: 3.5313e-04\n",
      "Epoch 94/100\n",
      "4/4 [==============================] - 2s 446ms/step - loss: 3.5729e-04 - val_loss: 3.6103e-04\n",
      "Epoch 95/100\n",
      "4/4 [==============================] - 2s 419ms/step - loss: 3.5759e-04 - val_loss: 3.5995e-04\n",
      "Epoch 96/100\n",
      "4/4 [==============================] - 1s 347ms/step - loss: 3.6868e-04 - val_loss: 3.6118e-04\n",
      "Epoch 97/100\n",
      "4/4 [==============================] - 2s 509ms/step - loss: 3.5529e-04 - val_loss: 3.9364e-04\n",
      "Epoch 98/100\n",
      "4/4 [==============================] - 2s 469ms/step - loss: 3.8193e-04 - val_loss: 3.4924e-04\n",
      "Epoch 99/100\n",
      "4/4 [==============================] - 1s 328ms/step - loss: 3.6466e-04 - val_loss: 3.5283e-04\n",
      "Epoch 100/100\n",
      "4/4 [==============================] - 2s 569ms/step - loss: 3.5343e-04 - val_loss: 3.7320e-04\n"
     ]
    }
   ],
   "source": [
    "history = autoencoder.fit(train_set, train_set,\n",
    "                epochs=100, validation_data=(test_set, test_set))"
   ]
  },
  {
   "cell_type": "code",
   "execution_count": 14,
   "id": "3dcd1eed",
   "metadata": {},
   "outputs": [
    {
     "data": {
      "image/png": "[encoded data removed]",
      "text/plain": [
       "<Figure size 432x288 with 1 Axes>"
      ]
     },
     "metadata": {
      "needs_background": "light"
     },
     "output_type": "display_data"
    }
   ],
   "source": [
    "import matplotlib.pyplot as plt\n",
    "plt.plot(history.history['loss'])\n",
    "plt.plot(history.history['val_loss'])\n",
    "plt.title('model loss')\n",
    "plt.ylabel('loss')\n",
    "plt.xlabel('epoch')\n",
    "plt.legend(['train', 'validation'], loc='upper right')\n",
    "plt.show()"
   ]
  },
  {
   "cell_type": "code",
   "execution_count": 19,
   "id": "6645817d",
   "metadata": {},
   "outputs": [],
   "source": [
    "decoded_data = autoencoder.predict(np.array([test_set[10]]))"
   ]
  },
  {
   "cell_type": "code",
   "execution_count": 21,
   "id": "6b92e9ab",
   "metadata": {},
   "outputs": [
    {
     "data": {
      "image/png": "[encoded data removed]",
      "text/plain": [
       "<Figure size 432x288 with 1 Axes>"
      ]
     },
     "metadata": {
      "needs_background": "light"
     },
     "output_type": "display_data"
    },
    {
     "data": {
      "image/png": "[encoded data removed]",
      "text/plain": [
       "<Figure size 432x288 with 1 Axes>"
      ]
     },
     "metadata": {
      "needs_background": "light"
     },
     "output_type": "display_data"
    }
   ],
   "source": [
    "plt.imshow(test_set[10],cmap='hot')\n",
    "plt.show()\n",
    "plt.imshow(decoded_data[0,:,:,0],cmap='hot')\n",
    "plt.show()"
   ]
  },
  {
   "cell_type": "code",
   "execution_count": null,
   "id": "b2669fc5",
   "metadata": {},
   "outputs": [],
   "source": []
  }
 ],
 "metadata": {
  "kernelspec": {
   "display_name": "Python 3",
   "language": "python",
   "name": "python3"
  },
  "language_info": {
   "codemirror_mode": {
    "name": "ipython",
    "version": 3
   },
   "file_extension": ".py",
   "mimetype": "text/x-python",
   "name": "python",
   "nbconvert_exporter": "python",
   "pygments_lexer": "ipython3",
   "version": "3.8.8"
  }
 },
 "nbformat": 4,
 "nbformat_minor": 5
}
