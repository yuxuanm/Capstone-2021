{
 "cells": [
  {
   "cell_type": "code",
   "execution_count": 1,
   "id": "1795d601",
   "metadata": {},
   "outputs": [],
   "source": [
    "import netCDF4 as nc4\n",
    "import keras\n",
    "import xarray,numpy as np\n",
    "import math\n",
    "from sklearn.model_selection import train_test_split\n",
    "from sklearn import preprocessing\n",
    "from keras.datasets import mnist\n",
    "from keras.models import Model\n",
    "from keras.layers import Input, add\n",
    "from keras.layers.core import  Dense, Dropout, Activation, Flatten, Reshape\n",
    "from keras import regularizers\n",
    "from keras.regularizers import l2\n",
    "from keras.layers.convolutional import Conv2D, MaxPooling2D, UpSampling2D, ZeroPadding2D\n",
    "from keras.utils import np_utils\n",
    "from tensorflow.keras import layers"
   ]
  },
  {
   "cell_type": "markdown",
   "id": "b71e6d28",
   "metadata": {},
   "source": [
    "# Read data"
   ]
  },
  {
   "cell_type": "code",
   "execution_count": 2,
   "id": "6208fbe1",
   "metadata": {},
   "outputs": [
    {
     "data": {
      "text/plain": [
       "(182, 1500, 3600)"
      ]
     },
     "execution_count": 2,
     "metadata": {},
     "output_type": "execute_result"
    }
   ],
   "source": [
    "file_path =['C:/Users/myxll/OneDrive - The University of Melbourne/capstone/data/OFAM_2017/ocean_eta_t/ocean_eta_t_2000_01.nc']\n",
    "file_path.append('C:/Users/myxll/OneDrive - The University of Melbourne/capstone/data/OFAM_2017/ocean_eta_t/ocean_eta_t_2000_02.nc')\n",
    "file_path.append('C:/Users/myxll/OneDrive - The University of Melbourne/capstone/data/OFAM_2017/ocean_eta_t/ocean_eta_t_2000_03.nc')\n",
    "file_path.append('C:/Users/myxll/OneDrive - The University of Melbourne/capstone/data/OFAM_2017/ocean_eta_t/ocean_eta_t_2000_04.nc')\n",
    "file_path.append('C:/Users/myxll/OneDrive - The University of Melbourne/capstone/data/OFAM_2017/ocean_eta_t/ocean_eta_t_2000_05.nc')\n",
    "file_path.append('C:/Users/myxll/OneDrive - The University of Melbourne/capstone/data/OFAM_2017/ocean_eta_t/ocean_eta_t_2000_06.nc')\n",
    "ds = nc4.MFDataset(file_path)\n",
    "eta_t = ds.variables['eta_t'][:]\n",
    "eta_t_numpy = np.array(eta_t)\n",
    "eta_t_numpy = np.nan_to_num(eta_t_numpy)\n",
    "eta_t_numpy.shape"
   ]
  },
  {
   "cell_type": "markdown",
   "id": "aeda3780",
   "metadata": {},
   "source": [
    "# fixed missing values with 0"
   ]
  },
  {
   "cell_type": "code",
   "execution_count": 8,
   "id": "f1d6777e",
   "metadata": {},
   "outputs": [],
   "source": [
    "def fix_missing_value(input_data):\n",
    "    for i in range(0,len(input_data)):\n",
    "        arr = input_data[i]\n",
    "        arr[arr == -32768] = 0"
   ]
  },
  {
   "cell_type": "markdown",
   "id": "c9a979be",
   "metadata": {},
   "source": [
    "# Normalize the input"
   ]
  },
  {
   "cell_type": "code",
   "execution_count": 9,
   "id": "d67afc84",
   "metadata": {},
   "outputs": [],
   "source": [
    "def normalize_matrix(matrix):\n",
    "    norm = np.linalg.norm(matrix)\n",
    "    matrix = matrix/norm  # normalized matrix\n",
    "    return matrix\n"
   ]
  },
  {
   "cell_type": "markdown",
   "id": "a2cee3e3",
   "metadata": {},
   "source": [
    "# Split array into 128*128"
   ]
  },
  {
   "cell_type": "code",
   "execution_count": 10,
   "id": "ef551a1f",
   "metadata": {},
   "outputs": [],
   "source": [
    "import math\n",
    "lat = 128\n",
    "long = 128\n",
    "def split_array(input_data):\n",
    "    pad_rows = math.ceil(3600/lat)*lat - 3600\n",
    "    pad_cols = math.ceil(1500/long)*long - 1500\n",
    "#     print(pad_rows)\n",
    "#     print(pad_cols)\n",
    "    \n",
    "    input_data=np.pad(input_data,((0,pad_cols),(0,pad_rows)), 'constant',constant_values=(0,0)) # padding with zeros\n",
    "    \n",
    "    l = np.array_split(input_data,len(input_data)/lat,axis=0)\n",
    "    input_data_split = []\n",
    "    for i in range(len(l)):\n",
    "        dd = np.array_split(l[i],29,axis=1)\n",
    "        input_data_split += dd\n",
    "    input_data_split = np.array(input_data_split)\n",
    "    return input_data_split"
   ]
  },
  {
   "cell_type": "code",
   "execution_count": 11,
   "id": "4cc7a165",
   "metadata": {},
   "outputs": [],
   "source": [
    "input_data_split = []\n",
    "lat = 128\n",
    "long = 128\n",
    "for i in range(len(eta_t_numpy)):\n",
    "    input_data = eta_t_numpy[i,:,:]\n",
    "    fix_missing_value(input_data)\n",
    "\n",
    "    normalize_matrix(input_data)\n",
    "\n",
    "    input_data_split.append(split_array(input_data)[100])"
   ]
  },
  {
   "cell_type": "code",
   "execution_count": 12,
   "id": "8d92fab3",
   "metadata": {},
   "outputs": [],
   "source": [
    "input_data_split= np.array(input_data_split)"
   ]
  },
  {
   "cell_type": "code",
   "execution_count": 13,
   "id": "e8c96060",
   "metadata": {},
   "outputs": [],
   "source": [
    "np.save('128x128_6months',input_data_split)"
   ]
  },
  {
   "cell_type": "markdown",
   "id": "203c60c7",
   "metadata": {},
   "source": [
    "# split train set & validation set"
   ]
  },
  {
   "cell_type": "code",
   "execution_count": 14,
   "id": "a77541d5",
   "metadata": {},
   "outputs": [
    {
     "data": {
      "text/plain": [
       "(121, 128, 128)"
      ]
     },
     "execution_count": 14,
     "metadata": {},
     "output_type": "execute_result"
    }
   ],
   "source": [
    "train_set, test_set = train_test_split(input_data_split, test_size=0.33)\n",
    "train_set.shape"
   ]
  },
  {
   "cell_type": "markdown",
   "id": "97a6fd39",
   "metadata": {},
   "source": [
    "# Autoencoder"
   ]
  },
  {
   "cell_type": "code",
   "execution_count": 15,
   "id": "47e31571",
   "metadata": {},
   "outputs": [
    {
     "name": "stdout",
     "output_type": "stream",
     "text": [
      "Model: \"model\"\n",
      "_________________________________________________________________\n",
      "Layer (type)                 Output Shape              Param #   \n",
      "=================================================================\n",
      "input_1 (InputLayer)         [(None, 128, 128, 1)]     0         \n",
      "_________________________________________________________________\n",
      "conv2d (Conv2D)              (None, 128, 128, 16)      160       \n",
      "_________________________________________________________________\n",
      "max_pooling2d (MaxPooling2D) (None, 64, 64, 16)        0         \n",
      "_________________________________________________________________\n",
      "conv2d_1 (Conv2D)            (None, 62, 62, 8)         1160      \n",
      "_________________________________________________________________\n",
      "max_pooling2d_1 (MaxPooling2 (None, 31, 31, 8)         0         \n",
      "_________________________________________________________________\n",
      "conv2d_2 (Conv2D)            (None, 16, 16, 4)         292       \n",
      "_________________________________________________________________\n",
      "max_pooling2d_2 (MaxPooling2 (None, 8, 8, 4)           0         \n",
      "_________________________________________________________________\n",
      "conv2d_transpose (Conv2DTran (None, 8, 8, 8)           296       \n",
      "_________________________________________________________________\n",
      "up_sampling2d (UpSampling2D) (None, 16, 16, 8)         0         \n",
      "_________________________________________________________________\n",
      "conv2d_transpose_1 (Conv2DTr (None, 16, 16, 8)         584       \n",
      "_________________________________________________________________\n",
      "up_sampling2d_1 (UpSampling2 (None, 32, 32, 8)         0         \n",
      "_________________________________________________________________\n",
      "conv2d_transpose_2 (Conv2DTr (None, 32, 32, 16)        1168      \n",
      "_________________________________________________________________\n",
      "up_sampling2d_2 (UpSampling2 (None, 128, 128, 16)      0         \n",
      "_________________________________________________________________\n",
      "conv2d_transpose_3 (Conv2DTr (None, 128, 128, 1)       145       \n",
      "=================================================================\n",
      "Total params: 3,805\n",
      "Trainable params: 3,805\n",
      "Non-trainable params: 0\n",
      "_________________________________________________________________\n"
     ]
    }
   ],
   "source": [
    "input_img = keras.Input(shape=(128, 128,1))\n",
    "\n",
    "x = layers.Conv2D(16, (3, 3), activation='relu', padding='same')(input_img)\n",
    "x = layers.MaxPooling2D((2, 2), padding='same')(x)\n",
    "x = layers.Conv2D(8, (3, 3), activation='relu',strides=(1,1))(x)\n",
    "x = layers.MaxPooling2D((2, 2), padding='same')(x)\n",
    "x = layers.Conv2D(4, (3, 3), activation='relu', padding='same',strides=(2,2))(x)\n",
    "encoded = layers.MaxPooling2D((2, 2), padding='same')(x)\n",
    "\n",
    "x = layers.Conv2DTranspose(8, (3, 3), activation='relu', padding='same')(encoded)\n",
    "x = layers.UpSampling2D((2, 2))(x)\n",
    "x = layers.Conv2DTranspose(8, (3, 3), activation='relu', padding='same')(x)\n",
    "x = layers.UpSampling2D((2, 2))(x)\n",
    "x = layers.Conv2DTranspose(16, (3, 3), activation='relu', padding='same')(x)\n",
    "x = layers.UpSampling2D((4, 4))(x)\n",
    "decoded = layers.Conv2DTranspose(1, (3, 3), activation='sigmoid', padding='same')(x)\n",
    "\n",
    "autoencoder = keras.Model(input_img, decoded)\n",
    "autoencoder.compile(optimizer='adam', loss='mse')\n",
    "autoencoder.summary()"
   ]
  },
  {
   "cell_type": "code",
   "execution_count": 16,
   "id": "01f45beb",
   "metadata": {},
   "outputs": [
    {
     "name": "stdout",
     "output_type": "stream",
     "text": [
      "Epoch 1/100\n",
      "4/4 [==============================] - 4s 899ms/step - loss: 0.0359 - val_loss: 0.0349\n",
      "Epoch 2/100\n",
      "4/4 [==============================] - 1s 243ms/step - loss: 0.0349 - val_loss: 0.0340\n",
      "Epoch 3/100\n",
      "4/4 [==============================] - 1s 247ms/step - loss: 0.0337 - val_loss: 0.0328\n",
      "Epoch 4/100\n",
      "4/4 [==============================] - 1s 232ms/step - loss: 0.0326 - val_loss: 0.0308\n",
      "Epoch 5/100\n",
      "4/4 [==============================] - 1s 239ms/step - loss: 0.0301 - val_loss: 0.0275\n",
      "Epoch 6/100\n",
      "4/4 [==============================] - 1s 253ms/step - loss: 0.0267 - val_loss: 0.0240\n",
      "Epoch 7/100\n",
      "4/4 [==============================] - 1s 279ms/step - loss: 0.0236 - val_loss: 0.0235\n",
      "Epoch 8/100\n",
      "4/4 [==============================] - 1s 265ms/step - loss: 0.0229 - val_loss: 0.0215\n",
      "Epoch 9/100\n",
      "4/4 [==============================] - 1s 271ms/step - loss: 0.0209 - val_loss: 0.0200\n",
      "Epoch 10/100\n",
      "4/4 [==============================] - 1s 273ms/step - loss: 0.0193 - val_loss: 0.0175\n",
      "Epoch 11/100\n",
      "4/4 [==============================] - 1s 283ms/step - loss: 0.0166 - val_loss: 0.0145\n",
      "Epoch 12/100\n",
      "4/4 [==============================] - 1s 263ms/step - loss: 0.0135 - val_loss: 0.0104\n",
      "Epoch 13/100\n",
      "4/4 [==============================] - 1s 276ms/step - loss: 0.0094 - val_loss: 0.0070\n",
      "Epoch 14/100\n",
      "4/4 [==============================] - 1s 268ms/step - loss: 0.0067 - val_loss: 0.0063\n",
      "Epoch 15/100\n",
      "4/4 [==============================] - 1s 255ms/step - loss: 0.0065 - val_loss: 0.0066\n",
      "Epoch 16/100\n",
      "4/4 [==============================] - 1s 238ms/step - loss: 0.0064 - val_loss: 0.0061\n",
      "Epoch 17/100\n",
      "4/4 [==============================] - 1s 242ms/step - loss: 0.0060 - val_loss: 0.0058\n",
      "Epoch 18/100\n",
      "4/4 [==============================] - 1s 260ms/step - loss: 0.0057 - val_loss: 0.0056\n",
      "Epoch 19/100\n",
      "4/4 [==============================] - 1s 267ms/step - loss: 0.0056 - val_loss: 0.0055\n",
      "Epoch 20/100\n",
      "4/4 [==============================] - 1s 285ms/step - loss: 0.0054 - val_loss: 0.0053\n",
      "Epoch 21/100\n",
      "4/4 [==============================] - 1s 271ms/step - loss: 0.0053 - val_loss: 0.0052\n",
      "Epoch 22/100\n",
      "4/4 [==============================] - 1s 295ms/step - loss: 0.0052 - val_loss: 0.0051\n",
      "Epoch 23/100\n",
      "4/4 [==============================] - 1s 305ms/step - loss: 0.0051 - val_loss: 0.0050\n",
      "Epoch 24/100\n",
      "4/4 [==============================] - 1s 275ms/step - loss: 0.0050 - val_loss: 0.0049\n",
      "Epoch 25/100\n",
      "4/4 [==============================] - 1s 264ms/step - loss: 0.0049 - val_loss: 0.0048\n",
      "Epoch 26/100\n",
      "4/4 [==============================] - 1s 267ms/step - loss: 0.0048 - val_loss: 0.0047\n",
      "Epoch 27/100\n",
      "4/4 [==============================] - 1s 276ms/step - loss: 0.0046 - val_loss: 0.0046\n",
      "Epoch 28/100\n",
      "4/4 [==============================] - 1s 264ms/step - loss: 0.0046 - val_loss: 0.0045\n",
      "Epoch 29/100\n",
      "4/4 [==============================] - 1s 265ms/step - loss: 0.0045 - val_loss: 0.0044\n",
      "Epoch 30/100\n",
      "4/4 [==============================] - 1s 261ms/step - loss: 0.0044 - val_loss: 0.0043\n",
      "Epoch 31/100\n",
      "4/4 [==============================] - 1s 267ms/step - loss: 0.0043 - val_loss: 0.0042\n",
      "Epoch 32/100\n",
      "4/4 [==============================] - 1s 267ms/step - loss: 0.0042 - val_loss: 0.0041\n",
      "Epoch 33/100\n",
      "4/4 [==============================] - 1s 267ms/step - loss: 0.0041 - val_loss: 0.0040\n",
      "Epoch 34/100\n",
      "4/4 [==============================] - 1s 265ms/step - loss: 0.0040 - val_loss: 0.0039\n",
      "Epoch 35/100\n",
      "4/4 [==============================] - 1s 268ms/step - loss: 0.0039 - val_loss: 0.0038\n",
      "Epoch 36/100\n",
      "4/4 [==============================] - 1s 265ms/step - loss: 0.0038 - val_loss: 0.0037\n",
      "Epoch 37/100\n",
      "4/4 [==============================] - 1s 267ms/step - loss: 0.0037 - val_loss: 0.0036\n",
      "Epoch 38/100\n",
      "4/4 [==============================] - 1s 262ms/step - loss: 0.0036 - val_loss: 0.0035\n",
      "Epoch 39/100\n",
      "4/4 [==============================] - 1s 264ms/step - loss: 0.0036 - val_loss: 0.0034\n",
      "Epoch 40/100\n",
      "4/4 [==============================] - 1s 265ms/step - loss: 0.0034 - val_loss: 0.0034\n",
      "Epoch 41/100\n",
      "4/4 [==============================] - 1s 267ms/step - loss: 0.0034 - val_loss: 0.0033\n",
      "Epoch 42/100\n",
      "4/4 [==============================] - 1s 267ms/step - loss: 0.0033 - val_loss: 0.0032\n",
      "Epoch 43/100\n",
      "4/4 [==============================] - 1s 265ms/step - loss: 0.0032 - val_loss: 0.0032\n",
      "Epoch 44/100\n",
      "4/4 [==============================] - 1s 268ms/step - loss: 0.0032 - val_loss: 0.0032\n",
      "Epoch 45/100\n",
      "4/4 [==============================] - 1s 272ms/step - loss: 0.0031 - val_loss: 0.0030\n",
      "Epoch 46/100\n",
      "4/4 [==============================] - 1s 271ms/step - loss: 0.0030 - val_loss: 0.0030\n",
      "Epoch 47/100\n",
      "4/4 [==============================] - 1s 266ms/step - loss: 0.0030 - val_loss: 0.0030\n",
      "Epoch 48/100\n",
      "4/4 [==============================] - 1s 278ms/step - loss: 0.0030 - val_loss: 0.0029\n",
      "Epoch 49/100\n",
      "4/4 [==============================] - 1s 294ms/step - loss: 0.0029 - val_loss: 0.0029\n",
      "Epoch 50/100\n",
      "4/4 [==============================] - 1s 297ms/step - loss: 0.0029 - val_loss: 0.0028\n",
      "Epoch 51/100\n",
      "4/4 [==============================] - 1s 350ms/step - loss: 0.0028 - val_loss: 0.0028\n",
      "Epoch 52/100\n",
      "4/4 [==============================] - 1s 349ms/step - loss: 0.0028 - val_loss: 0.0028\n",
      "Epoch 53/100\n",
      "4/4 [==============================] - 1s 277ms/step - loss: 0.0027 - val_loss: 0.0027\n",
      "Epoch 54/100\n",
      "4/4 [==============================] - 1s 278ms/step - loss: 0.0027 - val_loss: 0.0026\n",
      "Epoch 55/100\n",
      "4/4 [==============================] - 1s 276ms/step - loss: 0.0026 - val_loss: 0.0026\n",
      "Epoch 56/100\n",
      "4/4 [==============================] - 1s 277ms/step - loss: 0.0026 - val_loss: 0.0025\n",
      "Epoch 57/100\n",
      "4/4 [==============================] - 1s 276ms/step - loss: 0.0025 - val_loss: 0.0025\n",
      "Epoch 58/100\n",
      "4/4 [==============================] - 1s 276ms/step - loss: 0.0025 - val_loss: 0.0025\n",
      "Epoch 59/100\n",
      "4/4 [==============================] - 1s 274ms/step - loss: 0.0025 - val_loss: 0.0024\n",
      "Epoch 60/100\n",
      "4/4 [==============================] - 1s 278ms/step - loss: 0.0025 - val_loss: 0.0024\n",
      "Epoch 61/100\n",
      "4/4 [==============================] - 1s 274ms/step - loss: 0.0024 - val_loss: 0.0024\n",
      "Epoch 62/100\n",
      "4/4 [==============================] - 1s 274ms/step - loss: 0.0024 - val_loss: 0.0024\n",
      "Epoch 63/100\n",
      "4/4 [==============================] - 1s 274ms/step - loss: 0.0024 - val_loss: 0.0024\n",
      "Epoch 64/100\n",
      "4/4 [==============================] - 1s 274ms/step - loss: 0.0023 - val_loss: 0.0023\n",
      "Epoch 65/100\n",
      "4/4 [==============================] - 1s 279ms/step - loss: 0.0023 - val_loss: 0.0023\n",
      "Epoch 66/100\n",
      "4/4 [==============================] - 1s 274ms/step - loss: 0.0023 - val_loss: 0.0023\n",
      "Epoch 67/100\n",
      "4/4 [==============================] - 1s 273ms/step - loss: 0.0022 - val_loss: 0.0022\n",
      "Epoch 68/100\n",
      "4/4 [==============================] - 1s 274ms/step - loss: 0.0022 - val_loss: 0.0022\n",
      "Epoch 69/100\n",
      "4/4 [==============================] - 1s 276ms/step - loss: 0.0022 - val_loss: 0.0022\n",
      "Epoch 70/100\n",
      "4/4 [==============================] - 1s 262ms/step - loss: 0.0022 - val_loss: 0.0022\n",
      "Epoch 71/100\n",
      "4/4 [==============================] - 1s 263ms/step - loss: 0.0022 - val_loss: 0.0021\n",
      "Epoch 72/100\n",
      "4/4 [==============================] - 1s 262ms/step - loss: 0.0021 - val_loss: 0.0021\n",
      "Epoch 73/100\n",
      "4/4 [==============================] - 1s 261ms/step - loss: 0.0021 - val_loss: 0.0021\n",
      "Epoch 74/100\n",
      "4/4 [==============================] - 1s 267ms/step - loss: 0.0021 - val_loss: 0.0021\n",
      "Epoch 75/100\n",
      "4/4 [==============================] - 1s 262ms/step - loss: 0.0021 - val_loss: 0.0021\n",
      "Epoch 76/100\n",
      "4/4 [==============================] - 1s 264ms/step - loss: 0.0021 - val_loss: 0.0021\n",
      "Epoch 77/100\n",
      "4/4 [==============================] - 1s 263ms/step - loss: 0.0021 - val_loss: 0.0021\n",
      "Epoch 78/100\n",
      "4/4 [==============================] - 1s 269ms/step - loss: 0.0020 - val_loss: 0.0020\n",
      "Epoch 79/100\n",
      "4/4 [==============================] - 1s 267ms/step - loss: 0.0020 - val_loss: 0.0020\n",
      "Epoch 80/100\n",
      "4/4 [==============================] - 1s 266ms/step - loss: 0.0020 - val_loss: 0.0020\n",
      "Epoch 81/100\n",
      "4/4 [==============================] - 1s 260ms/step - loss: 0.0020 - val_loss: 0.0020\n",
      "Epoch 82/100\n",
      "4/4 [==============================] - 1s 284ms/step - loss: 0.0020 - val_loss: 0.0020\n",
      "Epoch 83/100\n"
     ]
    },
    {
     "name": "stdout",
     "output_type": "stream",
     "text": [
      "4/4 [==============================] - 1s 295ms/step - loss: 0.0020 - val_loss: 0.0020\n",
      "Epoch 84/100\n",
      "4/4 [==============================] - 1s 274ms/step - loss: 0.0020 - val_loss: 0.0020\n",
      "Epoch 85/100\n",
      "4/4 [==============================] - 1s 271ms/step - loss: 0.0019 - val_loss: 0.0019\n",
      "Epoch 86/100\n",
      "4/4 [==============================] - 1s 273ms/step - loss: 0.0019 - val_loss: 0.0019\n",
      "Epoch 87/100\n",
      "4/4 [==============================] - 1s 273ms/step - loss: 0.0019 - val_loss: 0.0019\n",
      "Epoch 88/100\n",
      "4/4 [==============================] - 1s 275ms/step - loss: 0.0019 - val_loss: 0.0019\n",
      "Epoch 89/100\n",
      "4/4 [==============================] - 1s 273ms/step - loss: 0.0019 - val_loss: 0.0019\n",
      "Epoch 90/100\n",
      "4/4 [==============================] - 1s 272ms/step - loss: 0.0019 - val_loss: 0.0019\n",
      "Epoch 91/100\n",
      "4/4 [==============================] - 1s 273ms/step - loss: 0.0018 - val_loss: 0.0019\n",
      "Epoch 92/100\n",
      "4/4 [==============================] - 1s 272ms/step - loss: 0.0019 - val_loss: 0.0019\n",
      "Epoch 93/100\n",
      "4/4 [==============================] - 1s 274ms/step - loss: 0.0019 - val_loss: 0.0019\n",
      "Epoch 94/100\n",
      "4/4 [==============================] - 1s 284ms/step - loss: 0.0018 - val_loss: 0.0018\n",
      "Epoch 95/100\n",
      "4/4 [==============================] - 1s 272ms/step - loss: 0.0018 - val_loss: 0.0018\n",
      "Epoch 96/100\n",
      "4/4 [==============================] - 1s 270ms/step - loss: 0.0018 - val_loss: 0.0018\n",
      "Epoch 97/100\n",
      "4/4 [==============================] - 1s 272ms/step - loss: 0.0018 - val_loss: 0.0018\n",
      "Epoch 98/100\n",
      "4/4 [==============================] - 1s 270ms/step - loss: 0.0018 - val_loss: 0.0018\n",
      "Epoch 99/100\n",
      "4/4 [==============================] - 1s 276ms/step - loss: 0.0018 - val_loss: 0.0018\n",
      "Epoch 100/100\n",
      "4/4 [==============================] - 1s 267ms/step - loss: 0.0018 - val_loss: 0.0018\n"
     ]
    }
   ],
   "source": [
    "history = autoencoder.fit(train_set, train_set,\n",
    "                epochs=100, validation_data=(test_set, test_set))"
   ]
  },
  {
   "cell_type": "code",
   "execution_count": 17,
   "id": "3dcd1eed",
   "metadata": {},
   "outputs": [
    {
     "data": {
      "image/png": "[encoded data removed]",
      "text/plain": [
       "<Figure size 432x288 with 1 Axes>"
      ]
     },
     "metadata": {
      "needs_background": "light"
     },
     "output_type": "display_data"
    }
   ],
   "source": [
    "import matplotlib.pyplot as plt\n",
    "plt.plot(history.history['loss'])\n",
    "plt.plot(history.history['val_loss'])\n",
    "plt.title('model loss')\n",
    "plt.ylabel('loss')\n",
    "plt.xlabel('epoch')\n",
    "plt.legend(['train', 'validation'], loc='upper right')\n",
    "plt.show()"
   ]
  },
  {
   "cell_type": "code",
   "execution_count": null,
   "id": "4fb24b41",
   "metadata": {},
   "outputs": [],
   "source": []
  }
 ],
 "metadata": {
  "kernelspec": {
   "display_name": "Python 3",
   "language": "python",
   "name": "python3"
  },
  "language_info": {
   "codemirror_mode": {
    "name": "ipython",
    "version": 3
   },
   "file_extension": ".py",
   "mimetype": "text/x-python",
   "name": "python",
   "nbconvert_exporter": "python",
   "pygments_lexer": "ipython3",
   "version": "3.8.8"
  }
 },
 "nbformat": 4,
 "nbformat_minor": 5
}
