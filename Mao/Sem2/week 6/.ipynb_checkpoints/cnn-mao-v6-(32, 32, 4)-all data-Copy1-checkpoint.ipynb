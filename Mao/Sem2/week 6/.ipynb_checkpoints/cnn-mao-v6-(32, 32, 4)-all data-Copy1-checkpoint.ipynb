{
 "cells": [
  {
   "cell_type": "markdown",
   "id": "d51d6bcd",
   "metadata": {},
   "source": [
    "## Important parameters\n",
    "<br>xt_ocean: longitude, length 3600\n",
    "<br>yt_ocean: latitude, length 1500\n",
    "<br> [mind map](https://miro.com/app/board/o9J_lM4N1Pg=/?fromRedirect=1)"
   ]
  },
  {
   "cell_type": "code",
   "execution_count": 1,
   "id": "1795d601",
   "metadata": {},
   "outputs": [],
   "source": [
    "import netCDF4 as nc4\n",
    "import keras\n",
    "import xarray,numpy as np\n",
    "import math\n",
    "from sklearn.model_selection import train_test_split\n",
    "from sklearn import preprocessing\n",
    "from keras.datasets import mnist\n",
    "from keras.models import Model\n",
    "from keras.layers import Input, add\n",
    "from keras.layers.core import  Dense, Dropout, Activation, Flatten, Reshape\n",
    "from keras import regularizers\n",
    "from keras.regularizers import l2\n",
    "from keras.layers.convolutional import Conv2D, MaxPooling2D, UpSampling2D, ZeroPadding2D\n",
    "from keras.utils import np_utils\n",
    "from tensorflow.keras import layers"
   ]
  },
  {
   "cell_type": "markdown",
   "id": "b71e6d28",
   "metadata": {},
   "source": [
    "# Load data"
   ]
  },
  {
   "cell_type": "code",
   "execution_count": 2,
   "id": "6208fbe1",
   "metadata": {},
   "outputs": [],
   "source": [
    "import glob\n",
    "input_data_split = []\n",
    "for np_name in glob.glob('raw data/128/dataset_128_N102/*.np[yz]'):\n",
    "    input_data_split.append(np.load(np_name))\n",
    "input_data_split = np.array(input_data_split)"
   ]
  },
  {
   "cell_type": "markdown",
   "id": "bec2f7c3",
   "metadata": {},
   "source": [
    "# Fix Missing Value"
   ]
  },
  {
   "cell_type": "code",
   "execution_count": 3,
   "id": "eca0c702",
   "metadata": {},
   "outputs": [],
   "source": [
    "def fix_missing_value(input_data):\n",
    "    \"\"\"\n",
    "    input 3d matrix\n",
    "    \"\"\"\n",
    "    for i in range(0,len(input_data)):\n",
    "        arr = input_data[i]\n",
    "        arr[np.isnan(arr)] = 0\n",
    "    return input_data"
   ]
  },
  {
   "cell_type": "markdown",
   "id": "d7dce738",
   "metadata": {},
   "source": [
    "# Min Max Scaling"
   ]
  },
  {
   "cell_type": "code",
   "execution_count": 4,
   "id": "6ba3d2bb",
   "metadata": {},
   "outputs": [],
   "source": [
    "def min_max_scale(input_data, max_value, min_value):\n",
    "    \"\"\"\n",
    "    input 3d matrix\n",
    "    \"\"\"\n",
    "    for i in range(len(input_data)):\n",
    "        input_data[i] = (input_data[i] - min_value)/(max_value - min_value)\n",
    "    return input_data"
   ]
  },
  {
   "cell_type": "markdown",
   "id": "eac1f398",
   "metadata": {},
   "source": [
    "# Preprocessing"
   ]
  },
  {
   "cell_type": "code",
   "execution_count": 5,
   "id": "a093197b",
   "metadata": {},
   "outputs": [],
   "source": [
    "# import random\n",
    "# n = 3000 # sample size\n",
    "# random.seed(7)\n",
    "# input_data_split = np.array(random.sample(input_data_split.tolist(),n))\n",
    "# input_data_split.shape"
   ]
  },
  {
   "cell_type": "code",
   "execution_count": 6,
   "id": "e6d72e26",
   "metadata": {},
   "outputs": [],
   "source": [
    "input_data_split = fix_missing_value(input_data_split)\n",
    "max_value = np.amax(input_data_split)\n",
    "min_value = np.amin(input_data_split)\n",
    "input_data_split_scaled = min_max_scale(input_data_split, max_value, min_value)"
   ]
  },
  {
   "cell_type": "code",
   "execution_count": 18,
   "id": "7b662f30",
   "metadata": {},
   "outputs": [
    {
     "name": "stdout",
     "output_type": "stream",
     "text": [
      "0.8545183\n",
      "-0.06103702\n"
     ]
    }
   ],
   "source": [
    "print(max_value)\n",
    "print(min_value)"
   ]
  },
  {
   "cell_type": "code",
   "execution_count": 7,
   "id": "ce44ad44",
   "metadata": {},
   "outputs": [
    {
     "data": {
      "text/plain": [
       "(7305, 128, 128, 1)"
      ]
     },
     "execution_count": 7,
     "metadata": {},
     "output_type": "execute_result"
    }
   ],
   "source": [
    "input_data_split_scaled.shape"
   ]
  },
  {
   "cell_type": "markdown",
   "id": "203c60c7",
   "metadata": {},
   "source": [
    "# split train set & validation set"
   ]
  },
  {
   "cell_type": "code",
   "execution_count": 8,
   "id": "a77541d5",
   "metadata": {},
   "outputs": [
    {
     "data": {
      "text/plain": [
       "(4870, 128, 128, 1)"
      ]
     },
     "execution_count": 8,
     "metadata": {},
     "output_type": "execute_result"
    }
   ],
   "source": [
    "train_set, test_set = train_test_split(input_data_split, test_size=0.3333333, random_state=26)\n",
    "\n",
    "train_set_scaled, test_set_scaled = train_test_split(input_data_split_scaled, test_size=0.3333333, random_state=26)\n",
    "np.array(train_set_scaled).shape"
   ]
  },
  {
   "cell_type": "markdown",
   "id": "97a6fd39",
   "metadata": {},
   "source": [
    "# Autoencoder"
   ]
  },
  {
   "cell_type": "code",
   "execution_count": 9,
   "id": "47e31571",
   "metadata": {},
   "outputs": [
    {
     "name": "stdout",
     "output_type": "stream",
     "text": [
      "Model: \"model\"\n",
      "_________________________________________________________________\n",
      "Layer (type)                 Output Shape              Param #   \n",
      "=================================================================\n",
      "input_1 (InputLayer)         [(None, 128, 128, 1)]     0         \n",
      "_________________________________________________________________\n",
      "conv2d (Conv2D)              (None, 128, 128, 64)      1088      \n",
      "_________________________________________________________________\n",
      "max_pooling2d (MaxPooling2D) (None, 64, 64, 64)        0         \n",
      "_________________________________________________________________\n",
      "conv2d_1 (Conv2D)            (None, 64, 64, 32)        32800     \n",
      "_________________________________________________________________\n",
      "max_pooling2d_1 (MaxPooling2 (None, 32, 32, 32)        0         \n",
      "_________________________________________________________________\n",
      "conv2d_2 (Conv2D)            (None, 32, 32, 16)        8208      \n",
      "_________________________________________________________________\n",
      "conv2d_3 (Conv2D)            (None, 32, 32, 8)         2056      \n",
      "_________________________________________________________________\n",
      "conv2d_4 (Conv2D)            (None, 32, 32, 4)         516       \n",
      "_________________________________________________________________\n",
      "conv2d_transpose (Conv2DTran (None, 32, 32, 8)         520       \n",
      "_________________________________________________________________\n",
      "conv2d_transpose_1 (Conv2DTr (None, 64, 64, 16)        2064      \n",
      "_________________________________________________________________\n",
      "conv2d_transpose_2 (Conv2DTr (None, 128, 128, 32)      8224      \n",
      "_________________________________________________________________\n",
      "conv2d_transpose_3 (Conv2DTr (None, 128, 128, 64)      32832     \n",
      "_________________________________________________________________\n",
      "conv2d_transpose_4 (Conv2DTr (None, 128, 128, 64)      65600     \n",
      "_________________________________________________________________\n",
      "conv2d_transpose_5 (Conv2DTr (None, 128, 128, 1)       577       \n",
      "=================================================================\n",
      "Total params: 154,485\n",
      "Trainable params: 154,485\n",
      "Non-trainable params: 0\n",
      "_________________________________________________________________\n"
     ]
    }
   ],
   "source": [
    "lat = 128 # chunk size\n",
    "long = 128 # chunk size\n",
    "\n",
    "input_img = keras.Input(shape=(lat, long,1))\n",
    "\n",
    "x = layers.Conv2D(64,(4,4), activation='relu', padding='same')(input_img)\n",
    "x = layers.MaxPooling2D((2, 2), padding='same')(x)\n",
    "x = layers.Conv2D(32, (4, 4), activation='relu', padding='same')(x)\n",
    "x = layers.MaxPooling2D((2, 2), padding='same')(x)\n",
    "x = layers.Conv2D(16, (4, 4), activation='relu', padding='same')(x)\n",
    "# x = layers.MaxPooling2D((2, 2), padding='same')(x)\n",
    "x = layers.Conv2D(8, (4, 4), activation='relu', padding='same')(x)\n",
    "# x = layers.MaxPooling2D((2, 2), padding='same')(x)\n",
    "# x = layers.Conv2D(4, (4, 4), activation='relu', padding='same')(x)\n",
    "# x = layers.MaxPooling2D((2, 2), padding='same')(x)\n",
    "encoded = layers.Conv2D(4, (4, 4), activation='relu',strides=(1,1), padding='same')(x)\n",
    "\n",
    "x = layers.Conv2DTranspose(8, (4, 4), strides=(1, 1),activation='relu', padding='same')(encoded)\n",
    "x = layers.Conv2DTranspose(16, (4, 4), strides=(2, 2),activation='relu', padding='same')(x)\n",
    "x = layers.Conv2DTranspose(32, (4, 4), strides=(2, 2),activation='relu', padding='same')(x)\n",
    "x = layers.Conv2DTranspose(64, (4, 4), strides=(1, 1), activation='relu', padding='same')(x)\n",
    "x = layers.Conv2DTranspose(64, (4, 4), strides=(1, 1),activation='relu', padding='same')(x)\n",
    "# x = layers.Conv2DTranspose(128, (4, 4), strides=(2, 2),activation='relu', padding='same')(x)\n",
    "decoded = layers.Conv2DTranspose(1, (3, 3), activation='sigmoid', padding='same')(x)\n",
    "\n",
    "autoencoder = keras.Model(input_img, decoded)\n",
    "autoencoder.compile(optimizer='adam', loss='mse')\n",
    "autoencoder.summary()"
   ]
  },
  {
   "cell_type": "code",
   "execution_count": 10,
   "id": "01f45beb",
   "metadata": {},
   "outputs": [
    {
     "name": "stdout",
     "output_type": "stream",
     "text": [
      "Epoch 1/50\n",
      "153/153 [==============================] - 865s 6s/step - loss: 0.0114 - val_loss: 5.3690e-04\n",
      "Epoch 2/50\n",
      "153/153 [==============================] - 863s 6s/step - loss: 6.3010e-04 - val_loss: 4.1578e-04\n",
      "Epoch 3/50\n",
      "153/153 [==============================] - 868s 6s/step - loss: 3.4479e-04 - val_loss: 2.4575e-04\n",
      "Epoch 4/50\n",
      "153/153 [==============================] - 862s 6s/step - loss: 2.2686e-04 - val_loss: 1.7125e-04\n",
      "Epoch 5/50\n",
      "153/153 [==============================] - 862s 6s/step - loss: 2.9484e-04 - val_loss: 2.3309e-04\n",
      "Epoch 6/50\n",
      "153/153 [==============================] - 863s 6s/step - loss: 2.9083e-04 - val_loss: 2.2139e-04\n",
      "Epoch 7/50\n",
      "153/153 [==============================] - 881s 6s/step - loss: 1.7976e-04 - val_loss: 1.6547e-04\n",
      "Epoch 8/50\n",
      "153/153 [==============================] - 890s 6s/step - loss: 1.9379e-04 - val_loss: 1.4953e-04\n",
      "Epoch 9/50\n",
      "153/153 [==============================] - 881s 6s/step - loss: 1.8424e-04 - val_loss: 1.4456e-04\n",
      "Epoch 10/50\n",
      "153/153 [==============================] - 871s 6s/step - loss: 1.9537e-04 - val_loss: 1.2840e-04\n",
      "Epoch 11/50\n",
      "153/153 [==============================] - 864s 6s/step - loss: 1.7180e-04 - val_loss: 1.2691e-04\n",
      "Epoch 12/50\n",
      "153/153 [==============================] - 860s 6s/step - loss: 1.5275e-04 - val_loss: 1.4698e-04\n",
      "Epoch 13/50\n",
      "153/153 [==============================] - 859s 6s/step - loss: 1.5191e-04 - val_loss: 1.2325e-04\n",
      "Epoch 14/50\n",
      "153/153 [==============================] - 863s 6s/step - loss: 1.3706e-04 - val_loss: 1.2426e-04\n",
      "Epoch 15/50\n",
      "153/153 [==============================] - 859s 6s/step - loss: 1.4676e-04 - val_loss: 1.4148e-04\n",
      "Epoch 16/50\n",
      "153/153 [==============================] - 862s 6s/step - loss: 1.5731e-04 - val_loss: 1.3510e-04\n",
      "Epoch 17/50\n",
      "153/153 [==============================] - 861s 6s/step - loss: 1.5536e-04 - val_loss: 1.3405e-04\n",
      "Epoch 18/50\n",
      "153/153 [==============================] - 873s 6s/step - loss: 1.3248e-04 - val_loss: 1.2489e-04\n",
      "Epoch 19/50\n",
      "153/153 [==============================] - 862s 6s/step - loss: 1.5945e-04 - val_loss: 1.1154e-04\n",
      "Epoch 20/50\n",
      "153/153 [==============================] - 863s 6s/step - loss: 1.5372e-04 - val_loss: 1.0928e-04\n",
      "Epoch 21/50\n",
      "153/153 [==============================] - 859s 6s/step - loss: 1.3340e-04 - val_loss: 1.1456e-04\n",
      "Epoch 22/50\n",
      "153/153 [==============================] - 863s 6s/step - loss: 1.1057e-04 - val_loss: 1.0917e-04\n",
      "Epoch 23/50\n",
      "153/153 [==============================] - 861s 6s/step - loss: 1.2881e-04 - val_loss: 1.1906e-04\n",
      "Epoch 24/50\n",
      "153/153 [==============================] - 866s 6s/step - loss: 1.2682e-04 - val_loss: 1.1796e-04\n",
      "Epoch 25/50\n",
      "153/153 [==============================] - 859s 6s/step - loss: 1.1705e-04 - val_loss: 1.3260e-04\n",
      "Epoch 26/50\n",
      "153/153 [==============================] - 862s 6s/step - loss: 1.1841e-04 - val_loss: 1.1474e-04\n",
      "Epoch 27/50\n",
      "153/153 [==============================] - 861s 6s/step - loss: 1.3983e-04 - val_loss: 1.1144e-04\n",
      "Epoch 28/50\n",
      "153/153 [==============================] - 868s 6s/step - loss: 1.2949e-04 - val_loss: 9.9993e-05\n",
      "Epoch 29/50\n",
      "153/153 [==============================] - 883s 6s/step - loss: 1.0411e-04 - val_loss: 1.0950e-04\n",
      "Epoch 30/50\n",
      "153/153 [==============================] - 859s 6s/step - loss: 1.2750e-04 - val_loss: 1.0938e-04\n",
      "Epoch 31/50\n",
      "153/153 [==============================] - 863s 6s/step - loss: 1.3716e-04 - val_loss: 1.0253e-04\n",
      "Epoch 32/50\n",
      "153/153 [==============================] - 861s 6s/step - loss: 1.0442e-04 - val_loss: 9.6919e-05\n",
      "Epoch 33/50\n",
      "153/153 [==============================] - 861s 6s/step - loss: 1.1369e-04 - val_loss: 9.9283e-05\n",
      "Epoch 34/50\n",
      "153/153 [==============================] - 858s 6s/step - loss: 1.2967e-04 - val_loss: 9.3866e-05\n",
      "Epoch 35/50\n",
      "153/153 [==============================] - 859s 6s/step - loss: 1.1054e-04 - val_loss: 1.4929e-04\n",
      "Epoch 36/50\n",
      "153/153 [==============================] - 862s 6s/step - loss: 1.0579e-04 - val_loss: 1.0140e-04\n",
      "Epoch 37/50\n",
      "153/153 [==============================] - 859s 6s/step - loss: 1.0767e-04 - val_loss: 9.2042e-05\n",
      "Epoch 38/50\n",
      "153/153 [==============================] - 860s 6s/step - loss: 1.0232e-04 - val_loss: 1.5622e-04\n",
      "Epoch 39/50\n",
      "153/153 [==============================] - 889s 6s/step - loss: 1.2691e-04 - val_loss: 9.6318e-05\n",
      "Epoch 40/50\n",
      "153/153 [==============================] - 863s 6s/step - loss: 1.2510e-04 - val_loss: 1.0721e-04\n",
      "Epoch 41/50\n",
      "153/153 [==============================] - 866s 6s/step - loss: 9.3503e-05 - val_loss: 9.2193e-05\n",
      "Epoch 42/50\n",
      "153/153 [==============================] - 861s 6s/step - loss: 9.9035e-05 - val_loss: 1.0912e-04\n",
      "Epoch 43/50\n",
      "153/153 [==============================] - 902s 6s/step - loss: 1.1873e-04 - val_loss: 1.0129e-04\n",
      "Epoch 44/50\n",
      "153/153 [==============================] - 1016s 7s/step - loss: 9.8152e-05 - val_loss: 9.4875e-05\n",
      "Epoch 45/50\n",
      "153/153 [==============================] - 909s 6s/step - loss: 9.5871e-05 - val_loss: 1.0292e-04\n",
      "Epoch 46/50\n",
      "153/153 [==============================] - 888s 6s/step - loss: 1.0154e-04 - val_loss: 8.8080e-05\n",
      "Epoch 47/50\n",
      "153/153 [==============================] - 848s 6s/step - loss: 1.1322e-04 - val_loss: 8.7263e-05\n",
      "Epoch 48/50\n",
      "153/153 [==============================] - 869s 6s/step - loss: 9.3608e-05 - val_loss: 9.1521e-05\n",
      "Epoch 49/50\n",
      "153/153 [==============================] - 878s 6s/step - loss: 9.9295e-05 - val_loss: 9.7592e-05\n",
      "Epoch 50/50\n",
      "153/153 [==============================] - 844s 6s/step - loss: 1.0275e-04 - val_loss: 8.6492e-05\n"
     ]
    }
   ],
   "source": [
    "history = autoencoder.fit(train_set_scaled, train_set_scaled,\n",
    "                epochs=50, validation_data=(test_set_scaled, test_set_scaled))"
   ]
  },
  {
   "cell_type": "code",
   "execution_count": 11,
   "id": "3dcd1eed",
   "metadata": {},
   "outputs": [
    {
     "data": {
      "image/png": "[encoded data removed]",
      "text/plain": [
       "<Figure size 432x288 with 1 Axes>"
      ]
     },
     "metadata": {
      "needs_background": "light"
     },
     "output_type": "display_data"
    }
   ],
   "source": [
    "import matplotlib.pyplot as plt\n",
    "plt.plot(history.history['loss'])\n",
    "plt.plot(history.history['val_loss'])\n",
    "plt.title('model loss')\n",
    "plt.ylabel('loss')\n",
    "plt.xlabel('epoch')\n",
    "plt.legend(['train', 'validation'], loc='upper right')\n",
    "plt.show()"
   ]
  },
  {
   "cell_type": "code",
   "execution_count": 12,
   "id": "6adb654c",
   "metadata": {},
   "outputs": [],
   "source": [
    "test_sample_index = 122\n",
    "\n",
    "# select a sample\n",
    "original_data = test_set[test_sample_index]\n",
    "original_data.shape\n",
    "\n",
    "test_data = (original_data - min_value)/(max_value - min_value) # preprocessing\n",
    "test_data.shape\n",
    "\n",
    "decoded_data = autoencoder.predict(np.expand_dims(test_data, 0)) \n",
    "decoded_data = decoded_data*(max_value-min_value) + min_value   # scale back"
   ]
  },
  {
   "cell_type": "code",
   "execution_count": 13,
   "id": "4ce65530",
   "metadata": {},
   "outputs": [
    {
     "data": {
      "text/plain": [
       "<matplotlib.image.AxesImage at 0x2e07e746400>"
      ]
     },
     "execution_count": 13,
     "metadata": {},
     "output_type": "execute_result"
    },
    {
     "data": {
      "image/png": "[encoded data removed]",
      "text/plain": [
       "<Figure size 1152x2304 with 2 Axes>"
      ]
     },
     "metadata": {
      "needs_background": "light"
     },
     "output_type": "display_data"
    }
   ],
   "source": [
    "fig = plt.figure(figsize=(16,32)) # image\n",
    "ax1 = fig.add_subplot(1,2,1) \n",
    "ax1.imshow(original_data,cmap='hot')\n",
    "ax2 = fig.add_subplot(1,2,2)\n",
    "ax2.imshow(decoded_data.reshape(128,128),cmap='hot')"
   ]
  },
  {
   "cell_type": "code",
   "execution_count": 14,
   "id": "4c654182",
   "metadata": {},
   "outputs": [
    {
     "data": {
      "text/plain": [
       "8.137002e-05"
      ]
     },
     "execution_count": 14,
     "metadata": {},
     "output_type": "execute_result"
    }
   ],
   "source": [
    "mse = np.square((original_data-decoded_data)).mean()\n",
    "mse"
   ]
  },
  {
   "cell_type": "code",
   "execution_count": 15,
   "id": "e04e0ed9",
   "metadata": {},
   "outputs": [
    {
     "data": {
      "text/plain": [
       "<matplotlib.image.AxesImage at 0x2e07ea61eb0>"
      ]
     },
     "execution_count": 15,
     "metadata": {},
     "output_type": "execute_result"
    },
    {
     "data": {
      "image/png": "[encoded data removed]",
      "text/plain": [
       "<Figure size 1152x2304 with 2 Axes>"
      ]
     },
     "metadata": {
      "needs_background": "light"
     },
     "output_type": "display_data"
    }
   ],
   "source": [
    "test_sample_index = 110\n",
    "\n",
    "# select a sample\n",
    "original_data = test_set[test_sample_index]\n",
    "original_data.shape\n",
    "\n",
    "test_data = (original_data - min_value)/(max_value - min_value) # preprocessing\n",
    "test_data.shape\n",
    "\n",
    "decoded_data = autoencoder.predict(np.expand_dims(test_data, 0)) \n",
    "decoded_data = decoded_data*(max_value-min_value) + min_value   # scale back\n",
    "\n",
    "fig = plt.figure(figsize=(16,32)) # image\n",
    "ax1 = fig.add_subplot(1,2,1) \n",
    "ax1.imshow(original_data,cmap='hot')\n",
    "ax2 = fig.add_subplot(1,2,2)\n",
    "ax2.imshow(decoded_data.reshape(128,128),cmap='hot')"
   ]
  },
  {
   "cell_type": "code",
   "execution_count": 16,
   "id": "83baae45",
   "metadata": {},
   "outputs": [
    {
     "data": {
      "text/plain": [
       "7.8163794e-05"
      ]
     },
     "execution_count": 16,
     "metadata": {},
     "output_type": "execute_result"
    }
   ],
   "source": [
    "mse = np.square((original_data-decoded_data)).mean()\n",
    "mse"
   ]
  },
  {
   "cell_type": "code",
   "execution_count": 17,
   "id": "6b238e29",
   "metadata": {},
   "outputs": [
    {
     "data": {
      "text/plain": [
       "7.8163794e-05"
      ]
     },
     "execution_count": 17,
     "metadata": {},
     "output_type": "execute_result"
    }
   ],
   "source": [
    "mse"
   ]
  },
  {
   "cell_type": "code",
   "execution_count": 19,
   "id": "346bfdce",
   "metadata": {},
   "outputs": [
    {
     "name": "stdout",
     "output_type": "stream",
     "text": [
      "INFO:tensorflow:Assets written to: autoencoder(32,32,4) layer(7-6) sample(7305 single region)\\assets\n"
     ]
    }
   ],
   "source": [
    "autoencoder.save(\"autoencoder(32,32,4) layer(7-6) sample(7305 single region)\")"
   ]
  }
 ],
 "metadata": {
  "kernelspec": {
   "display_name": "Python 3",
   "language": "python",
   "name": "python3"
  },
  "language_info": {
   "codemirror_mode": {
    "name": "ipython",
    "version": 3
   },
   "file_extension": ".py",
   "mimetype": "text/x-python",
   "name": "python",
   "nbconvert_exporter": "python",
   "pygments_lexer": "ipython3",
   "version": "3.8.8"
  }
 },
 "nbformat": 4,
 "nbformat_minor": 5
}
